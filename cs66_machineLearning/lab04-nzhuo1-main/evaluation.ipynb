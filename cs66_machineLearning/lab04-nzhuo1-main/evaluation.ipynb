{
 "cells": [
  {
   "cell_type": "markdown",
   "metadata": {
    "tags": []
   },
   "source": [
    "# Lab 4 - Validation & Experimentation\n",
    "\n",
    "**Due: November 7th at 11:59pm**\n",
    "\n",
    "## Learning Goals:\n",
    "\n",
    "The goal of this lab is to practice using good experimental design and methodology to train and test classifiers, as well as tune hyperparameters.  You will write some simple code to try doing this yourself, and you will also use the tools built into scikit-learn, numpy, and scipy-stats.\n",
    "\n",
    "As with any programming assignment, you'll also be practicing and improving your general CS skills, like problem decomposition, algorithmic thinking, implementation and testing, language syntax, etc.. Here are some of the specific things you should learn while completing this assignment:\n",
    "\n",
    "   * How to load and use python libraries to train and evaluate ML models in a more rigorous fashion (i.e. going beyond a single train/test split)\n",
    "   * The impact of a random seed value, and how to mitigate this impact\n",
    "   * How to measure performance in different ways (beyond just accuracy)\n",
    "   * How to use your understanding of a data set to figure out what performance measures are appropriate\n",
    "   * How to work independently to make choices about testing and applying machine learning methods\n",
    "   * Utilize held-aside tuning sets to choose hyperparameters and balance bias/variance\n",
    "   * Compare methods on several data sets using $k$-fold cross validation\n",
    "   * Analyze experiments using several methodologies, including statistical tests and validation curves\n",
    "   * Learn to read and use the scikit-learn API Reference and User's Guide\n",
    "\n",
    "\n",
    "This lab is intended to be done with a partner (i.e. teams of two); partners will be assigned based on your response to the partner preference survey.\n",
    "\n",
    "You'll have approximately one week to complete this lab, it should be shorter and easier than some of the other ones.\n",
    "\n",
    "**NOTE: this lab comes with two extra notebook files that contain examples; use them for reference.  This notebook is the only one that needs to be modified for the assignment**"
   ]
  },
  {
   "cell_type": "code",
   "execution_count": 52,
   "metadata": {},
   "outputs": [],
   "source": [
    "# CPSC 66 - Machine Learning\n",
    "# Lab 4\n",
    "# Scaffolding by Prof. Ben Mitchell & Ameet Soni\n",
    "# Assignment completed by: Nina Zhuo\n",
    "# Resources used: \n",
    "#   <List any resources you used beyond the ones posted on Blackboard>\n",
    "#   <This can include books, websites, other students, etc.>"
   ]
  },
  {
   "cell_type": "code",
   "execution_count": 53,
   "metadata": {},
   "outputs": [],
   "source": [
    "# import math and numpy first\n",
    "import math\n",
    "import numpy as np\n",
    "\n",
    "# import scipy for stats package\n",
    "import scipy\n",
    "\n",
    "# import pandas\n",
    "import pandas as pd\n",
    "\n",
    "# import some data and classifiers to play with; you may want to add more\n",
    "from sklearn import datasets\n",
    "from sklearn import neighbors\n",
    "from sklearn import tree\n",
    "from sklearn import ensemble\n",
    "from sklearn.neighbors import NearestNeighbors\n",
    "\n",
    "# import some validation tools\n",
    "from sklearn.model_selection import train_test_split\n",
    "from sklearn.model_selection import cross_val_score\n",
    "from sklearn.model_selection import RepeatedKFold\n",
    "from sklearn.metrics import confusion_matrix\n",
    "from sklearn import metrics\n",
    "from sklearn import preprocessing\n",
    "from sklearn.model_selection import StratifiedKFold, GridSearchCV\n",
    "from sklearn.linear_model import SGDClassifier"
   ]
  },
  {
   "cell_type": "markdown",
   "metadata": {},
   "source": [
    "# Part 1: Multiple classifiers using SciKit Learn\n",
    "\n",
    "### Load some data\n",
    "\n",
    "SciKit Learn comes with a number of \"built-in\" datasets beyond the Iris dataset we've been using (see https://scikit-learn.org/stable/datasets/index.html for a full list).  For this assignment, we will load several datasets, and compare the performance of several classifiers on each of them.\n",
    "\n",
    "First we'll load the iris dataset again, since it's small and easy to work with.  Feel free to try replacing this with a different data set to see what happens, though I recommend getting things working first with this one (since it's small enough that everything runs fast)."
   ]
  },
  {
   "cell_type": "code",
   "execution_count": 54,
   "metadata": {},
   "outputs": [],
   "source": [
    "#load the iris dataset and split it into train and test sets\n",
    "iris = datasets.load_iris()\n",
    "X_train, X_test, y_train, y_test = train_test_split(iris.data, iris.target, test_size=0.4, random_state=2)"
   ]
  },
  {
   "cell_type": "markdown",
   "metadata": {},
   "source": [
    "## Create a Nearest Neighbor classifier\n",
    "Create a nearest neighbor classifier using SKLearn just like we did in Lab 1; here, we will use it as a baseline for comparing other classifiers.  Be sure to train it and then evaluate its performance on the testing data (again, you should be able to use code from the previous assignment with little or no modification to do this).  Use an n_neighbors value of 1.  This should give you the same accuracy as you got in the first assignment.\n",
    "\n",
    "Once you've got it working, try changing the `random_state` value in the [`train_test_split`](https://scikit-learn.org/stable/modules/generated/sklearn.model_selection.train_test_split.html) function to 1 and re-running your nearest-neighbor classifier.  Try it again with a value of 2.  Write down each of the accuracies below; the first one has been done for you."
   ]
  },
  {
   "cell_type": "code",
   "execution_count": 55,
   "metadata": {},
   "outputs": [
    {
     "name": "stdout",
     "output_type": "stream",
     "text": [
      "Accuracy: 0.9666666666666667\n"
     ]
    }
   ],
   "source": [
    "# create and train nearest neighbor classifier\n",
    "knn = neighbors.KNeighborsClassifier(metric='euclidean', n_neighbors=1)\n",
    "knn.fit(X_train, y_train)\n",
    "\n",
    "# test performance\n",
    "score = knn.score(X_test, y_test)\n",
    "print(\"Accuracy:\", score)"
   ]
  },
  {
   "cell_type": "markdown",
   "metadata": {},
   "source": [
    "**Question 1: accuracy of nearest neighbor for different random seed values**\n",
    "\n",
    "seed=0, accuracy = 0.9166666666666666\n",
    "\n",
    "seed=1, accuracy = 0.9666666666666667\n",
    "\n",
    "seed=2, accuracy = 0.9666666666666667"
   ]
  },
  {
   "cell_type": "markdown",
   "metadata": {},
   "source": [
    "## Create a Decision Tree\n",
    "\n",
    "Create a decision tree, using [`tree.DecisionTreeClassifier()`](https://scikit-learn.org/stable/modules/generated/sklearn.tree.DecisionTreeClassifier.html) as your classifier.  Train and test as before."
   ]
  },
  {
   "cell_type": "code",
   "execution_count": 56,
   "metadata": {},
   "outputs": [
    {
     "name": "stdout",
     "output_type": "stream",
     "text": [
      "Accuracy:  0.9333333333333333\n"
     ]
    }
   ],
   "source": [
    "# create and train dt classifier\n",
    "dt = tree.DecisionTreeClassifier()\n",
    "dt = dt.fit(X_train, y_train)\n",
    "\n",
    "# test performance\n",
    "y_predicted = dt.predict(X_test)\n",
    "score = metrics.accuracy_score(y_test, y_predicted)\n",
    "print(\"Accuracy: \", score)"
   ]
  },
  {
   "cell_type": "markdown",
   "metadata": {},
   "source": [
    "**Question 2: accuracy of decision tree for different random seed values**\n",
    "\n",
    "seed=0, accuracy = 0.95\n",
    "\n",
    "seed=1, accuracy = 0.9666666666666667\n",
    "\n",
    "seed=2, accuracy = 0.9333333333333333"
   ]
  },
  {
   "cell_type": "markdown",
   "metadata": {},
   "source": [
    "## Create a Logistic Regression classifier\n",
    "Create a logistic regression classifier using  `SGDClassifier` like we did in the Logistic Regression lab (you can use the sklearn implementation, you don't need to import and use your own implementation of LR)"
   ]
  },
  {
   "cell_type": "code",
   "execution_count": 57,
   "metadata": {},
   "outputs": [
    {
     "name": "stdout",
     "output_type": "stream",
     "text": [
      "Accuracy:  0.8333333333333334\n"
     ]
    }
   ],
   "source": [
    "# create and train logistic regression classifier\n",
    "sgd = SGDClassifier(loss='log_loss', max_iter=100,shuffle=False, tol=None, \\\n",
    "                    penalty='none', learning_rate='constant', eta0 = 0.1)\n",
    "sgd.fit(X_train, y_train)\n",
    "\n",
    "# test performance\n",
    "y_predict = sgd.predict(X_test)\n",
    "score = metrics.accuracy_score(y_test, y_predict)\n",
    "print(\"Accuracy: \", score)"
   ]
  },
  {
   "cell_type": "markdown",
   "metadata": {},
   "source": [
    "**Question 3: accuracy of Logistic Regression for different random seed values**\n",
    "\n",
    "seed=0, accuracy = 0.85\n",
    "\n",
    "seed=1, accuracy = 0.9333333333333333\n",
    "\n",
    "seed=2, accuracy = 0.8333333333333334"
   ]
  },
  {
   "cell_type": "markdown",
   "metadata": {},
   "source": [
    "## Create a Random Forest classifier\n",
    "Create a [RandomForest](https://scikit-learn.org/stable/modules/generated/sklearn.ensemble.RandomForestClassifier.html) classifier using `ensemble.RandomForestClassifier` (again, just go ahead and use the sklearn version, you don't need to use the one you wrote)"
   ]
  },
  {
   "cell_type": "code",
   "execution_count": 58,
   "metadata": {},
   "outputs": [
    {
     "name": "stdout",
     "output_type": "stream",
     "text": [
      "Accuracy:  0.9333333333333333\n"
     ]
    }
   ],
   "source": [
    "# create and train random forest classifier\n",
    "rf = ensemble.RandomForestClassifier()\n",
    "rf.fit(X_train, y_train)\n",
    "\n",
    "# test performance\n",
    "y_predict = rf.predict(X_test)\n",
    "score = metrics.accuracy_score(y_test, y_predict)\n",
    "print(\"Accuracy: \", score)"
   ]
  },
  {
   "cell_type": "markdown",
   "metadata": {},
   "source": [
    "**Question 4: accuracy of Random Forest for different random seed values**\n",
    "\n",
    "seed=0, accuracy = 0.95\n",
    "\n",
    "seed=1, accuracy = 0.9666666666666667\n",
    "\n",
    "seed=2, accuracy = 0.9333333333333333"
   ]
  },
  {
   "cell_type": "markdown",
   "metadata": {},
   "source": [
    "# Part 2: Repeated hold-out validation and Computing Statistics\n",
    "We've done 'hold-out' validation using the `train_test_split` method, but we've used a fixed seed value.  In the previous part, we manually changed the seed for the random-number generator to get different train/test splits so we could see how the performance of our classifiers changed.  This time, let's write a loop to do the same thing for us.  Copy your code from the previous section to split the data 60/40 and then train and test a decision tree, and put it inside a `for`-loop that runs 10 times.  Each time, seed the `train_test_split` function with the current loop iteration counter (i.e. the first time through, `train_test_split` should be 0, the second time through it should be 1, etc.).  The result should be 10 accuracy scores, which should be stable (i.e. if you re-run the cell, you get the same 10 numbers)"
   ]
  },
  {
   "cell_type": "code",
   "execution_count": 59,
   "metadata": {},
   "outputs": [],
   "source": [
    "def displayScore(seed, score):\n",
    "    print(\"seed:\", seed, \" accuracy:\", score)"
   ]
  },
  {
   "cell_type": "code",
   "execution_count": 60,
   "metadata": {},
   "outputs": [
    {
     "name": "stdout",
     "output_type": "stream",
     "text": [
      "seed: 0  accuracy: 0.95\n",
      "seed: 1  accuracy: 0.9666666666666667\n",
      "seed: 2  accuracy: 0.95\n",
      "seed: 3  accuracy: 0.95\n",
      "seed: 4  accuracy: 0.9666666666666667\n",
      "seed: 5  accuracy: 0.9333333333333333\n",
      "seed: 6  accuracy: 0.9666666666666667\n",
      "seed: 7  accuracy: 0.95\n",
      "seed: 8  accuracy: 0.9333333333333333\n",
      "seed: 9  accuracy: 0.9666666666666667\n"
     ]
    }
   ],
   "source": [
    "for i in range(10):\n",
    "    \n",
    "    # split data and train dt classifier with seed value i\n",
    "    X_train, X_test, y_train, y_test = train_test_split(iris.data, iris.target, test_size=0.4, random_state=i)\n",
    "    dt = tree.DecisionTreeClassifier()\n",
    "    dt = dt.fit(X_train, y_train)\n",
    "\n",
    "    # test performance\n",
    "    y_predicted = dt.predict(X_test)\n",
    "    score = metrics.accuracy_score(y_test, y_predicted)\n",
    "    displayScore(i, score)"
   ]
  },
  {
   "cell_type": "markdown",
   "metadata": {},
   "source": [
    "## Random seed\n",
    "\n",
    "Now try making a copy of the loop, but leave off the `random_state` argument entirely.  This version of the loop should give you output that is generally similar to the previous one, but each time you re-run it, you should get different scores.  This is because the 'default' for the `train_test_split` function is to not use a static seed value, so every time you run it you'll get a different result.  Read more [here](https://scikit-learn.org/stable/glossary.html#term-random_state)."
   ]
  },
  {
   "cell_type": "code",
   "execution_count": 61,
   "metadata": {},
   "outputs": [
    {
     "name": "stdout",
     "output_type": "stream",
     "text": [
      "seed: 0  accuracy: 0.9\n",
      "seed: 1  accuracy: 0.9666666666666667\n",
      "seed: 2  accuracy: 0.9833333333333333\n",
      "seed: 3  accuracy: 0.9666666666666667\n",
      "seed: 4  accuracy: 0.9333333333333333\n",
      "seed: 5  accuracy: 0.9\n",
      "seed: 6  accuracy: 0.95\n",
      "seed: 7  accuracy: 0.9666666666666667\n",
      "seed: 8  accuracy: 0.9333333333333333\n",
      "seed: 9  accuracy: 0.9666666666666667\n"
     ]
    }
   ],
   "source": [
    "for i in range(10):\n",
    "    \n",
    "    # split data and train dt classifier with seed value i\n",
    "    X_train, X_test, y_train, y_test = train_test_split(iris.data, iris.target, test_size=0.4)\n",
    "    dt = tree.DecisionTreeClassifier()\n",
    "    dt = dt.fit(X_train, y_train)\n",
    "\n",
    "    # test performance\n",
    "    y_predicted = dt.predict(X_test)\n",
    "    score = metrics.accuracy_score(y_test, y_predicted)\n",
    "    displayScore(i, score)"
   ]
  },
  {
   "cell_type": "markdown",
   "metadata": {},
   "source": [
    "## Computing Statistics\n",
    "\n",
    "Make copy of the previous cell (i.e. the loop without fixed seeds), but this time instead of printing the individual scores, store them in a list.  The easiest way to do this is to start with an empty list (e.g. `myList = []`), and then add numbers using the `.append()` method.  After the loop is done, print out your list to be sure it looks the way you expect (you should be able to do this with a single print, e.g. `print(myList)`)"
   ]
  },
  {
   "cell_type": "code",
   "execution_count": 62,
   "metadata": {},
   "outputs": [
    {
     "name": "stdout",
     "output_type": "stream",
     "text": [
      "[0.9666666666666667, 0.9833333333333333, 0.95, 0.9, 0.9666666666666667, 0.9333333333333333, 0.9666666666666667, 0.9666666666666667, 0.95, 0.95]\n"
     ]
    }
   ],
   "source": [
    "# stores individual scores in list\n",
    "arr = []\n",
    "\n",
    "for i in range(10):\n",
    "    \n",
    "    # split data and train dt classifier with seed value i\n",
    "    X_train, X_test, y_train, y_test = train_test_split(iris.data, iris.target, test_size=0.4)\n",
    "    dt = tree.DecisionTreeClassifier()\n",
    "    dt = dt.fit(X_train, y_train)\n",
    "\n",
    "    # test performance\n",
    "    y_predicted = dt.predict(X_test)\n",
    "    score = metrics.accuracy_score(y_test, y_predicted)\n",
    "    \n",
    "    # save score to arr\n",
    "    arr.append(score)\n",
    "    \n",
    "print(arr)"
   ]
  },
  {
   "cell_type": "markdown",
   "metadata": {},
   "source": [
    "### Mean\n",
    "Compute the mean (average) of the list of numbers you made in the previous step; this is the average accuracy over your 10 trials"
   ]
  },
  {
   "cell_type": "code",
   "execution_count": 63,
   "metadata": {},
   "outputs": [
    {
     "name": "stdout",
     "output_type": "stream",
     "text": [
      "0.9533333333333334\n"
     ]
    }
   ],
   "source": [
    "num = 0\n",
    "for x in arr:\n",
    "    num += x\n",
    "\n",
    "avg = num / len(arr)\n",
    "print(avg)"
   ]
  },
  {
   "cell_type": "markdown",
   "metadata": {},
   "source": [
    "### Variance & Standard Deviation\n",
    "Now compute the variance and standard deviation of your list of accuracies.  The standard deviation is the square root of the variance, and the variance is basically just the average squared differences from the mean.  \n",
    "\n",
    "This will be a bit like the loop you wrote to calculate Euclidean distance, only now you're subtracting the mean rather than a coordinate of another point, and you're going to be dividing by the number of items in the list minus one before you take the square root.  \n",
    "\n",
    "\n",
    "Note that the symbol for standard deviation is $\\sigma$ (the greek letter 'sigma'); there's no standard symbol for variance, it's just $\\sigma^2$.  Here's the equations, where $n$ is the number of items in the list, $x_i$ is the $i$-th element of the list, and $\\mu$ is the mean:\n",
    "\n",
    "$$ \\sigma^2 = \\frac{1}{n-1} \\sum_{i=1}^n (x_i - \\mu)^2 $$\n",
    "\n",
    "$$ \\sigma = \\sqrt{\\sigma^2} $$"
   ]
  },
  {
   "cell_type": "code",
   "execution_count": 64,
   "metadata": {},
   "outputs": [
    {
     "name": "stdout",
     "output_type": "stream",
     "text": [
      "Variance:  0.0005432098765432093\n",
      "Standard Deviation: 0.023306863292670024\n"
     ]
    }
   ],
   "source": [
    "n = len(arr)\n",
    "\n",
    "# sums squared difference of accuracy score and mean\n",
    "t = 0\n",
    "for i in range(n):\n",
    "    num = (arr[i] - avg)**2\n",
    "    t += num\n",
    "\n",
    "# find variance\n",
    "var = 1/(n-1)\n",
    "var = var*t\n",
    "print(\"Variance: \", var)\n",
    "\n",
    "# find standard deviation\n",
    "sd = math.sqrt(var)\n",
    "print(\"Standard Deviation:\", sd)"
   ]
  },
  {
   "cell_type": "markdown",
   "metadata": {},
   "source": [
    "### Stats using scipy\n",
    "To check and see if you've calculated your statistics correctly, you can use the `scipy.stats` library.  In particular, if you call the method `scipy.stats.describe()` and give it a list of numbers as an argument, it will report a variety of statistics, including mean and variance.  Make sure that these values match the ones you've calculated above.  See https://docs.scipy.org/doc/scipy/reference/generated/scipy.stats.describe.html#scipy.stats.describe for documentation.\n",
    "\n",
    "In the future, it's fine to use the stats library to do this kind of thing for you, but it's a lot easier to understand the numbers coming out of the stats library once you've written code to calculate those numbers yourself.  You can also use this as a reference implementation, to check that your own code produces the same values."
   ]
  },
  {
   "cell_type": "code",
   "execution_count": 65,
   "metadata": {},
   "outputs": [
    {
     "data": {
      "text/plain": [
       "DescribeResult(nobs=10, minmax=(0.9, 0.9833333333333333), mean=0.9533333333333331, variance=0.0005432098765432093, skewness=-1.1409463380044669, kurtosis=0.8440082644627696)"
      ]
     },
     "execution_count": 65,
     "metadata": {},
     "output_type": "execute_result"
    }
   ],
   "source": [
    "# todo: uncomment the following line once you've got a list to apply the function to\n",
    "scipy.stats.describe(arr)"
   ]
  },
  {
   "cell_type": "markdown",
   "metadata": {},
   "source": [
    "# Part 3: K-Fold Cross-validation\n",
    "\n",
    "Now we'll use scikit-learn to do some more complicated types of validation.  Repeatedly re-spliting the data is okay, but it's not ideal from a statistical reliability standpoint (as we discussed in class).  Therefore, a better practice is to use k-fold cross-validation, as shown in this example.  Note the parameter `cv=5`; this is how many 'folds' to use, and will also be how many scores you get out."
   ]
  },
  {
   "cell_type": "code",
   "execution_count": 66,
   "metadata": {},
   "outputs": [
    {
     "data": {
      "text/plain": [
       "array([0.96666667, 0.96666667, 0.93333333, 0.93333333, 1.        ])"
      ]
     },
     "execution_count": 66,
     "metadata": {},
     "output_type": "execute_result"
    }
   ],
   "source": [
    "clf = neighbors.KNeighborsClassifier(n_neighbors=1, metric='euclidean')\n",
    "scores = cross_val_score(clf, iris.data, iris.target, cv=5)\n",
    "scores"
   ]
  },
  {
   "cell_type": "markdown",
   "metadata": {},
   "source": [
    "### Statistics on the accuracies\n",
    "\n",
    "Since `cross_val_score` returns a numpy array, we can use numpy methods to get the mean and standard deviation:"
   ]
  },
  {
   "cell_type": "code",
   "execution_count": 67,
   "metadata": {},
   "outputs": [
    {
     "name": "stdout",
     "output_type": "stream",
     "text": [
      "mean accuracy: 0.96 , stdDev: 0.024944382578492935\n"
     ]
    }
   ],
   "source": [
    "print('mean accuracy:', scores.mean(), ', stdDev:', scores.std())"
   ]
  },
  {
   "cell_type": "markdown",
   "metadata": {},
   "source": [
    "We can also use scipy stats to calculate statistics on numpy arrays:"
   ]
  },
  {
   "cell_type": "code",
   "execution_count": 68,
   "metadata": {},
   "outputs": [
    {
     "data": {
      "text/plain": [
       "DescribeResult(nobs=5, minmax=(0.9333333333333333, 1.0), mean=0.96, variance=0.0007777777777777774, skewness=0.343621596744551, kurtosis=-1.1530612244897933)"
      ]
     },
     "execution_count": 68,
     "metadata": {},
     "output_type": "execute_result"
    }
   ],
   "source": [
    "scipy.stats.describe(scores)"
   ]
  },
  {
   "cell_type": "markdown",
   "metadata": {},
   "source": [
    "## Repeated K-fold (aka N-by-K fold)\n",
    "If you try running the cross-validation cell multiple times, you'll notice you get the same values back every time.  That's because `cross_val_score` doesn't shuffle the data randomly every time you call it.  If we actually want to re-run cross-validation with a new set of point-to-fold assignmenst, we can use the function `RepeatedKFold`, to get a set of folds, and then hand it to `cros_val_score` like this:"
   ]
  },
  {
   "cell_type": "code",
   "execution_count": 69,
   "metadata": {},
   "outputs": [
    {
     "data": {
      "text/plain": [
       "array([0.93333333, 0.96666667, 1.        , 0.96666667, 0.93333333,\n",
       "       0.96666667, 0.96666667, 0.86666667, 0.96666667, 1.        ,\n",
       "       0.9       , 0.96666667, 0.93333333, 0.96666667, 1.        ])"
      ]
     },
     "execution_count": 69,
     "metadata": {},
     "output_type": "execute_result"
    }
   ],
   "source": [
    "rkf = RepeatedKFold(n_splits = 5, n_repeats = 3)\n",
    "scores2 = cross_val_score(clf, iris.data, iris.target, cv = rkf)\n",
    "scores2"
   ]
  },
  {
   "cell_type": "code",
   "execution_count": 70,
   "metadata": {},
   "outputs": [
    {
     "name": "stdout",
     "output_type": "stream",
     "text": [
      "mean accuracy: 0.9555555555555556 , stdDev: 0.03583225665910466\n"
     ]
    }
   ],
   "source": [
    "print('mean accuracy:', scores2.mean(), ', stdDev:', scores2.std())"
   ]
  },
  {
   "cell_type": "markdown",
   "metadata": {},
   "source": [
    "# Try using N-by-K to compare some classifiers\n",
    "\n",
    "Last week, we tried to compare some classifiers by hand; this week, lets use cross-validation and statistics.\n",
    "\n",
    "First, we'll run 5-fold cross-validation with 4 repeats to train and test a Nearest Neighbor classifier and a Decision Tree.  Each should give you an array of 20 accuracy values.  Print the mean and standard deviation for each classifier, then print the difference between the means.  Finally, use `scipy.stats.mannwhitneyu()` to check the $p$ value and see whether the difference is statistically significant (just hand it the two score arrays as inputs)."
   ]
  },
  {
   "cell_type": "code",
   "execution_count": 71,
   "metadata": {},
   "outputs": [
    {
     "name": "stdout",
     "output_type": "stream",
     "text": [
      "Nearest Neighbor: mean = 0.9549999999999998 , stdDev = 0.03539460096932549\n",
      "Decision Tree: mean = 0.9466666666666667 , stdDev = 0.03559026084010436\n",
      "Difference between means: -0.008333333333333193\n"
     ]
    },
    {
     "data": {
      "text/plain": [
       "MannwhitneyuResult(statistic=221.5, pvalue=0.5559762807254107)"
      ]
     },
     "execution_count": 71,
     "metadata": {},
     "output_type": "execute_result"
    }
   ],
   "source": [
    "rkf = RepeatedKFold(n_splits = 5, n_repeats = 4)\n",
    "\n",
    "nn = neighbors.KNeighborsClassifier(n_neighbors=1, metric='euclidean')\n",
    "dt = tree.DecisionTreeClassifier()\n",
    "\n",
    "nnScores = cross_val_score(nn, iris.data, iris.target, cv = rkf)\n",
    "dtScores = cross_val_score(dt, iris.data, iris.target, cv = rkf)\n",
    "\n",
    "print('Nearest Neighbor: mean =', nnScores.mean(), ', stdDev =', nnScores.std())\n",
    "print('Decision Tree: mean =', dtScores.mean(), ', stdDev =', dtScores.std())\n",
    "print('Difference between means:', dtScores.mean() - nnScores.mean())\n",
    "scipy.stats.mannwhitneyu(nnScores, dtScores)"
   ]
  },
  {
   "cell_type": "markdown",
   "metadata": {},
   "source": [
    "## Compare different values of K and N\n",
    "\n",
    "Repeat the above experiment using the values of K and N below, and report the mean, stdDev, differece between the means, and p-value for each (alternatively, you could write a loop to automate this process).  The first row has been completed for you (note that your numbers may be slightly different, since this is a stochastic process).  Also notice how long these take to finish (though you don't need to write that down).  Once the table is complete, look at it and try to see what patterns you can spot.\n",
    "\n",
    "Remember that we're working with a pretty trivial toy problem here; the point is the process and methodology, not the exact magnitude of the scores.\n",
    "\n",
    "_NOTE: please limit values to a reasonable number of sig figs_\n",
    "\n",
    "***\n",
    "\n",
    "Folds | Repeats  |   NN-mean  |  NN-stdev  | DT-mean   |  DT-stdDev   |  difference   |  p-value\n",
    "------|----------|------------|------------|-----------|--------------|---------------|--------------\n",
    "5     |      4   |    0.957   |   0.035    |  0.943    |   0.038      |     -0.02     |   0.084\n",
    "2     |      10  |      ?     |      ?     |    ?      |    ?         |     ?         |    ?\n",
    "10    |      2   |      ?     |      ?     |    ?      |    ?         |     ?         |    ?\n",
    "10    |      10  |      ?     |      ?     |    ?      |    ?         |     ?         |    ?"
   ]
  },
  {
   "cell_type": "markdown",
   "metadata": {},
   "source": [
    "# Part 4: Alternative Metrics\n",
    "\n",
    "Up until now, we've just worked with overall accuracy as our only way of \"scoring\" the performance of a classifier.  Now, we will try out some alternative tools for evaluating classifier performance.  In addition to the `.scores()` method, scikit-learn classifiers have a `.predict()` method which takes in a set of examples as an argument, and returns an array with the predicted labels for those examples.  Here's an example:"
   ]
  },
  {
   "cell_type": "code",
   "execution_count": 72,
   "metadata": {},
   "outputs": [
    {
     "name": "stdout",
     "output_type": "stream",
     "text": [
      "predicted labels:  [2 1 0 2 0 2 0 1 1 1 2 1 1 1 1 0 1 1 0 0 2 1 0 0 2 0 0 1 1 0 2 1 0 2 2 1 0\n",
      " 2 1 1 2 0 2 0 0 1 2 2 1 2 1 2 1 1 1 1 1 2 1 2]\n",
      "true labels:  [2 1 0 2 0 2 0 1 1 1 2 1 1 1 1 0 1 1 0 0 2 1 0 0 2 0 0 1 1 0 2 1 0 2 2 1 0\n",
      " 1 1 1 2 0 2 0 0 1 2 2 2 2 1 2 1 1 2 2 2 2 1 2]\n"
     ]
    }
   ],
   "source": [
    "train, test, trainLabels, testLabels = train_test_split(iris.data, iris.target, test_size=0.4, random_state=0)\n",
    "clf = neighbors.KNeighborsClassifier(n_neighbors=1, metric='euclidean')\n",
    "clf.fit(train, trainLabels)\n",
    "predictions = clf.predict(test)\n",
    "print('predicted labels: ', predictions)\n",
    "print('true labels: ', testLabels)"
   ]
  },
  {
   "cell_type": "markdown",
   "metadata": {},
   "source": [
    "## Confusion Matrix\n",
    "\n",
    "By comparing the predicted labels to the 'true' labels, we could easily compute accuracy like we've done in the past.  This time, however, we want to drill down and get more details, so we're going to build a confusion matrix.\n",
    "\n",
    "A confusion matrix works by making a 2D array (i.e. a matrix), with the rows corresponding to 'true' class labels and the columns corresponding to 'predicted' class labels.  You just need to loop over the pairs of corresponding true/predicted labels, and add to the count in the corresponding cell of the array.\n",
    "\n",
    "**NOTE:** try to write this as a reasonably generic function; i.e. don't hardcode values so it only works for this particular dataset."
   ]
  },
  {
   "cell_type": "code",
   "execution_count": 73,
   "metadata": {},
   "outputs": [],
   "source": [
    " def confusion_matrix(test, pred):\n",
    "        \n",
    "    # get number of unique labels\n",
    "    tn = np.unique(test)\n",
    "    pn = np.unique(pred)\n",
    "    num = max(len(tn), len(pn))\n",
    "        \n",
    "    # set up 2D array representing n x m matrix\n",
    "    arr = np.array([[0]*num]*num)\n",
    "    \n",
    "    # fill in confusion matrix\n",
    "    for i in range(len(test)):\n",
    "        n = test[i]\n",
    "        m = pred[i]\n",
    "                \n",
    "        arr[n,m] += 1\n",
    "    \n",
    "    return arr"
   ]
  },
  {
   "cell_type": "markdown",
   "metadata": {},
   "source": [
    "### Confusion Matrix using scikit-learn\n",
    "\n",
    "We can also ask scikit-learn to generate a confusion matrix for us, as the following example shows.  Your own confusion matrix should look like the one produced by the library."
   ]
  },
  {
   "cell_type": "code",
   "execution_count": 74,
   "metadata": {},
   "outputs": [
    {
     "name": "stdout",
     "output_type": "stream",
     "text": [
      "[[16  0  0]\n",
      " [ 0 22  1]\n",
      " [ 0  4 17]]\n"
     ]
    }
   ],
   "source": [
    "confMat = confusion_matrix(testLabels, predictions)\n",
    "print(confMat)"
   ]
  },
  {
   "cell_type": "markdown",
   "metadata": {},
   "source": [
    "## Fancy Graphics\n",
    "\n",
    "It's also possible to use Python's plotting tools to make fancy graphical versions of a confusion matrix; the following example is adapted from http://scikit-learn.org/stable/auto_examples/model_selection/plot_confusion_matrix.html.  _NOTE:_ it's fine if you don't understand what this function is doing; we haven't really covered making plots yet.  For now, it's okay if this is just magic."
   ]
  },
  {
   "cell_type": "code",
   "execution_count": 75,
   "metadata": {},
   "outputs": [],
   "source": [
    "import matplotlib.pyplot as plt\n",
    "import itertools\n",
    "%matplotlib widget\n",
    "\n",
    "\n",
    "def plot_confusion_matrix(cm, classes,\n",
    "                          normalize=False,\n",
    "                          title='Confusion matrix',\n",
    "                          cmap=plt.cm.Blues):\n",
    "    \"\"\"\n",
    "    This function prints and plots the confusion matrix.\n",
    "    Normalization can be applied by setting `normalize=True`.\n",
    "    \"\"\"\n",
    "    if normalize:\n",
    "        cm = cm.astype('float') / cm.sum(axis=1)[:, np.newaxis]\n",
    "\n",
    "    plt.imshow(cm, interpolation='nearest', cmap=cmap)\n",
    "    plt.title(title)\n",
    "    plt.colorbar()\n",
    "    tick_marks = np.arange(len(classes))\n",
    "    plt.xticks(tick_marks, classes, rotation=45)\n",
    "    plt.yticks(tick_marks, classes)\n",
    "\n",
    "    fmt = '.2f' if normalize else 'd'\n",
    "    thresh = cm.max() / 2.\n",
    "    for i, j in itertools.product(range(cm.shape[0]), range(cm.shape[1])):\n",
    "        plt.text(j, i, format(cm[i, j], fmt),\n",
    "                 horizontalalignment=\"center\",\n",
    "                 color=\"white\" if cm[i, j] > thresh else \"black\")\n",
    "\n",
    "    plt.tight_layout()\n",
    "    plt.ylabel('True label')\n",
    "    plt.xlabel('Predicted label')\n",
    "\n"
   ]
  },
  {
   "cell_type": "code",
   "execution_count": 76,
   "metadata": {},
   "outputs": [
    {
     "data": {
      "application/vnd.jupyter.widget-view+json": {
       "model_id": "2161fc071bf94e1fa43b6a2f71b5b927",
       "version_major": 2,
       "version_minor": 0
      },
      "image/png": "[encoded data removed]",
      "text/html": [
       "\n",
       "            <div style=\"display: inline-block;\">\n",
       "                <div class=\"jupyter-widgets widget-label\" style=\"text-align: center;\">\n",
       "                    Figure\n",
       "                </div>\n",
       "                <img src='data:image/png;base64,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' width=640.0/>\n",
       "            </div>\n",
       "        "
      ],
      "text/plain": [
       "Canvas(toolbar=Toolbar(toolitems=[('Home', 'Reset original view', 'home', 'home'), ('Back', 'Back to previous …"
      ]
     },
     "metadata": {},
     "output_type": "display_data"
    },
    {
     "data": {
      "application/vnd.jupyter.widget-view+json": {
       "model_id": "ad16e9f5ea8b49f492dd65170aed05a4",
       "version_major": 2,
       "version_minor": 0
      },
      "image/png": "[encoded data removed]",
      "text/html": [
       "\n",
       "            <div style=\"display: inline-block;\">\n",
       "                <div class=\"jupyter-widgets widget-label\" style=\"text-align: center;\">\n",
       "                    Figure\n",
       "                </div>\n",
       "                <img src='data:image/png;base64,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' width=640.0/>\n",
       "            </div>\n",
       "        "
      ],
      "text/plain": [
       "Canvas(toolbar=Toolbar(toolitems=[('Home', 'Reset original view', 'home', 'home'), ('Back', 'Back to previous …"
      ]
     },
     "metadata": {},
     "output_type": "display_data"
    }
   ],
   "source": [
    "# Plot non-normalized confusion matrix\n",
    "plt.figure()\n",
    "plot_confusion_matrix(confMat, classes=iris.target_names,\n",
    "                      title='Confusion matrix, without normalization')\n",
    "# Plot normalized confusion matrix\n",
    "plt.figure()\n",
    "plot_confusion_matrix(confMat, classes=iris.target_names, normalize=True,\n",
    "                      title='Normalized confusion matrix')\n",
    "\n",
    "\n",
    "plt.show()"
   ]
  },
  {
   "cell_type": "markdown",
   "metadata": {
    "tags": []
   },
   "source": [
    "# Part 5 - Hyperparameter Tuning\n",
    "\n",
    "The goal of this section is to start practicing how to set up a pipeline to tune and test an ML model.\n",
    "\n",
    "## Coding Requirements\n",
    "\n",
    "The coding portion is flexible - the goal is to be able to execute the experiments below for analysis.  It may be a bit frustrating to figure out how to get started, but we are trying to prepare you for the final project by having you spend time first planning and studying the APIs. You should keep these requirements in mind:\n",
    "\n",
    "* Make your code reusable and not overly dependent on a particular dataset. For example, don't rely on hardcoding your datasets names and labels.  Write code that can work for any data set that's formatted properly. \n",
    "* Functions should be modular and short. Break your major steps into functions, and be sure to comment your code so it is easy to follow.\n",
    "* Keep your code simple and easy to read. Let scikit-learn do most of the heavy lifting. Most of your time will be spent reading the documentation and finding the appropriate methods to call. \n",
    "\n",
    "SciKit-Learn is very well documented; in most cases, a google search for something like 'sklearn [method]' will direct you to their pages.  However, you should also familiarize yourself with their documentation pages directly.\n",
    "\n",
    "There are two different styles of documentation provided, and they are complementary:\n",
    "\n",
    "* [SciKit-Learn User's Guide](https://scikit-learn.org/stable/user_guide.html)\n",
    "* [SciKit-Learn API Reference](https://scikit-learn.org/stable/modules/classes.html)\n",
    "\n",
    "The User's Guide gives explanations (with references), and provides cut-and-paste examples of how to use the various different methods the library provides; it's almost textbook-like in the way it's written and organized.  It's the best place to start looking if you're not sure exactly what classes/methods you want to use, since it's organized by ML technique, making it easy to find what you're looking for.\n",
    "\n",
    "The API Reference, on the other hand, provides detailed specifications for each of the classes and methods available, listing all the different parameters, including what values are available, what they do, what defaults will be used if nothing is specified, etc..\n",
    "\n",
    "Note that the User's Guide and the API tend to have links to each other; i.e. the API page tends to have a link to the user's guide at the top, and in the user's guide most class/method names are links that, if clicked, will take you to the corresponding page in the API reference.\n"
   ]
  },
  {
   "cell_type": "markdown",
   "metadata": {},
   "source": [
    "***\n",
    "## Part 5a: Full ML Pipeline for RandomForests\n",
    "\n",
    "Below you will run Random Forests and compare which hyperparameter values do better in terms of estimated generalization error.\n",
    "\n",
    "### Coding Details\n",
    "\n",
    "The design of the solution is largely up to you.  To start, we are _requiring_ two functions:\n",
    "\n",
    "* `run_pipeline` - the initial interface.  This method loads and parses the data and sets up the classifier(s).  It then runs the tune/test pipeline (below).\n",
    "* `runTuneTest` - runs a train/tune/test pipeline on a given data set and classifier\n",
    "\n",
    "You will _likely want_ some helper functions as well, but their design and naming is up to you.  \n",
    "\n",
    "### Implement `run_pipeline()` and `run_tunetest()`\n",
    "\n",
    "1. `run_pipeline should should load the data set specified in the parameter.  This will be the only part of your code that will be data-set specific - you will need to do something for some datasets (e.g., normalize, convert categorical variables to numeric, etc.) that you do not need to do for others (e.g., the iris dataset can be used as-is).  The goal should be to load the data in the same format for later analysis so that you won't need to know the name of the data set after this point.  **At a minimum, you should support the Breast Cancer Data Set and two other datasets from SKlearn of your choice.**\n",
    "\n",
    "**See https://scikit-learn.org/stable/datasets.html for what data is available built-in to scikit learn and how to use it.**  As an optional extension, you can try finding other datasets and see what's needed to get them to work with your code.\n",
    "\n",
    "Running on the cancer data set might look like:\n",
    "    ```\n",
    "    run_pipeline('cancer')\n",
    "    ```\n",
    "\n",
    "2. Once the data set is loaded, you will run that data set through the analysis pipeline using Random Forests using the `runTuneTest()` method **which you will define below (don't worry about it until you get the basic data-loading working).**\n",
    "    * Your [RandomForest](https://scikit-learn.org/stable/modules/generated/sklearn.ensemble.RandomForestClassifier.html) classifier should fix the number of trees at 200, but **tune the number of features** using the range $1\\%, 10\\%, 50\\%, 100\\%, \\sqrt{F}$ (square-root of the number of features in the dataset). Note the interface; if passed integers, it will assume they are absolute numbers of features, while if passed floating point numbers it will assume they are fractions of the features to use.\n",
    "    \n",
    "3. Add a second classifier of your choice to `run_pipeline()` so that the method now tunes and then compares the scores for two different classifiers\n",
    "    \n",
    "4. Lastly, you will write code to report your results.  At a minimum, print the paired test accuracies for all 5 folds for both classifiers. You may want to add more for your analysis in Part B.\n",
    "\n",
    "NOTE: This is a high-level function; you will need to return to it and add capabilities as you define more methods below.  Be sure you keep this short and rely on other methods to implement the details.\n"
   ]
  },
  {
   "cell_type": "code",
   "execution_count": 77,
   "metadata": {},
   "outputs": [],
   "source": [
    "from sklearn.datasets import load_breast_cancer, load_wine, load_digits, load_iris\n",
    "from sklearn import preprocessing"
   ]
  },
  {
   "cell_type": "code",
   "execution_count": 78,
   "metadata": {},
   "outputs": [],
   "source": [
    "\"\"\"\n",
    "loads and parses dataset and sets up classifiers before calling runTuneTest\n",
    "\n",
    "PARAMETERS\n",
    "   dataSetName - string indicate name of dataset to import and test\n",
    "   \n",
    "RETURNS\n",
    "   rf_accArr - array of accuracy scores from random forest classifier\n",
    "   sgd_accArr - array of accuracy scores from sgd classifier\n",
    "\"\"\"\n",
    "def runPipeline(dataSetName):\n",
    "\n",
    "    # load data\n",
    "    ds = loadDataSet(dataSetName)\n",
    "    if ds == False:\n",
    "        return\n",
    "    \n",
    "    print()\n",
    "    print(f\"runPipeline({dataSetName}) \\n\")\n",
    "\n",
    "    # process and save data\n",
    "    X = ds[0]\n",
    "    y = ds[1]\n",
    "        \n",
    "    print(\"Running 5-fold CV on RF\")\n",
    "    print(\"-----------------------\")\n",
    "    \n",
    "    # run random forests classifier \n",
    "    rf = ensemble.RandomForestClassifier(n_estimators=200)\n",
    "    params = {'max_features':[None, 'sqrt', 'log2', 5, 10, 20],'n_estimators':[100, 200, 300]}\n",
    "    rf_accArr = runTuneTest(rf, params, X, y)\n",
    "    \n",
    "    print(\"Running 5-fold CV on SGD\")\n",
    "    print(\"------------------------\")\n",
    "\n",
    "    # run sgd classifier \n",
    "    sgd = SGDClassifier(loss='log_loss', max_iter=100,shuffle=False, tol=None, \\\n",
    "                        penalty='none', learning_rate='constant', eta0 = 0.1)\n",
    "    params = {'learning_rate': ['constant', 'optimal', 'invscaling', 'adaptive'],\n",
    "                 'loss': ['hinge','log_loss', 'modified_huber', 'squared_hinge', 'perceptron', 'squared_error']}\n",
    "    sgd_accArr = runTuneTest(sgd, params, X, y)\n",
    "    \n",
    "    # report results\n",
    "    report(dataSetName, rf_accArr, sgd_accArr)\n",
    "    \n",
    "    return [rf_accArr, sgd_accArr]"
   ]
  },
  {
   "cell_type": "code",
   "execution_count": 79,
   "metadata": {},
   "outputs": [],
   "source": [
    "\"\"\"\n",
    "load data set\n",
    "\n",
    "PARAMETERS\n",
    "   dataSetName - string indicating name of data set\n",
    "\n",
    "RETURN\n",
    "   data set if valid name\n",
    "   FALSE if invalid name\n",
    "\"\"\"\n",
    "def loadDataSet(dataSetName):\n",
    "    if dataSetName == \"cancer\":\n",
    "        X, y = load_breast_cancer(return_X_y=True)\n",
    "    elif dataSetName == \"wine\":\n",
    "        X, y = load_breast_cancer(return_X_y=True)\n",
    "    elif dataSetName == \"mnist\":\n",
    "        X, y = load_breast_cancer(return_X_y=True)\n",
    "    elif dataSetName == \"iris\":\n",
    "        X, y = load_iris(return_X_y=True)\n",
    "    else:\n",
    "        print(\"Invalid data set, use one of the following data sets:\")\n",
    "        print(\"\\tcancer - Wisconsin Breast Cancer data set\")\n",
    "        print(\"\\twine - Wine Recognition data set\")\n",
    "        print(\"\\tmnist - Optical Recognition of Handwritten Digits data set\")\n",
    "        print(\"\\tiris - Iris data set\")\n",
    "        return False\n",
    "    \n",
    "    return [X, y]\n",
    "\n",
    "\"\"\"\n",
    "print accuracy report\n",
    "\n",
    "PARAMTERS\n",
    "   ds - name of dataset\n",
    "   rf - array of accuracy scores from random forest\n",
    "   knn - array of accuracy scores from sgd\n",
    "\"\"\"\n",
    "def report(ds, rf, sgd):\n",
    "    print(ds, \"Results\")\n",
    "    print(\"------------\")\n",
    "    print(\"Fold    RF        SGD\")\n",
    "    \n",
    "    for i in range(5):\n",
    "        print(\"%d       %.3f      %.3f\" % (i+1, rf[i], sgd[i]))\n",
    "        \n",
    "    print(\"RF Mean Accuracy: %.3f\" % np.mean(rf))\n",
    "    print(\"SGD Mean Accuracy: %.3f\" % np.mean(sgd))"
   ]
  },
  {
   "cell_type": "code",
   "execution_count": 80,
   "metadata": {},
   "outputs": [],
   "source": [
    "#runPipeline(\"cancer\")\n",
    "#runPipeline(\"wine\")\n",
    "#runPipeline(\"mnist\")\n",
    "#runPipeline(\"iris\")\n",
    "#runPipeline(\"other\")"
   ]
  },
  {
   "cell_type": "markdown",
   "metadata": {},
   "source": [
    "### Implement `runTuneTest()`\n",
    "\n",
    "Write a method `runTuneTest` that takes in a base learner object that obeys the SKLearn API conventions (e.g., `SGDClassifier`, `RandomForestClassifier`, etc.), a dictionary of hyperparameters to tune,  and all of the data. This method will then handle creating train/tune/test sets and then performing end-to-end training and evaluation. For example, we could create a $k$-Nearest Neighbor classifier for analysis as follows:\n",
    "\n",
    "```\n",
    "    clf = KNeighborsClassifier()\n",
    "    parameters = {\"weights\":[\"uniform\",\"distance\"], \"n_neighbors\":[1,5,11]}\n",
    "    results = runTuneTest(clf, parameters, X,y)\n",
    "```\n",
    "    \n",
    "  Note that the hyperparameter names match the API for `KNeighborsClassifier`. `parameters` is a dictionary that mapes the (string) name of the hyperparameter to a list of values to try for that hyperparameter.  `runTuneTest` follows this sequence of steps:\n",
    "\n",
    "1. Divide the data into training/test splits using [`StratifiedKFold`](https://scikit-learn.org/stable/modules/generated/sklearn.model_selection.StratifiedKFold.html). **Follow [this example](https://scikit-learn.org/stable/modules/cross_validation.html#stratified-k-fold) to create a for-loop** that lets you specify operations for each fold. Set the parameters to **shuffle** the data and use **5 folds** for validation. Set the `random_state` to a fixed integer value (e.g., 42) so the folds are consistent for both algorithms.\n",
    "1. For each fold, tune the hyperparameters using [`GridSearchCV`](https://scikit-learn.org/stable/modules/generated/sklearn.model_selection.GridSearchCV.html), which is a wrapper for your base learning algorithms; it automates the search over multiple hyperparameters. Set the function to use **3 folds** for tuning.\n",
    "1. After creating a `GridSearchCV` classifier, Call `fit` to train the model using your training data.\n",
    "1. Get the test-set accuracy by running the `GridSearchCV.score()` method taking in the fold's test data.\n",
    "1. Return a list of accuracy scores for each fold for analysis.\n",
    "\n",
    "\n",
    "Code incrementally, and be sure to examine the results of your tuning (what were the best hyperparameter settings? What were the scores across each parameter?) to ensure you have the pipeline correct. You can print out the best parameters using some of the attributes of the `GridSearchCV` classifier such as `best_params_`and the tuning-set score on that set of parameters using `best_score_`.  See the documentation to access other information such as retrieving all scores for all parameters tested, or retrieving the weights for the best tuned model.\n"
   ]
  },
  {
   "cell_type": "code",
   "execution_count": 81,
   "metadata": {},
   "outputs": [],
   "source": [
    "\"\"\"\n",
    "tunes classifier to find best paramters and gets accuracy \n",
    "scores for each fold\n",
    "\n",
    "PARAMETERS\n",
    "  learner - base learner object \n",
    "  parameters - a dictionary of hyperparameters to tune\n",
    "  X - data and features\n",
    "  y - labels of data\n",
    "\n",
    "RETURNS\n",
    "  accArr - array of accuracy scores for each fold\n",
    "\"\"\"\n",
    "def runTuneTest(learner, parameters, X,y):\n",
    "    accArr = []\n",
    "    \n",
    "    # divide train/test splits\n",
    "    skf = StratifiedKFold(n_splits = 5, shuffle=True, random_state=42)\n",
    "    \n",
    "    # tune hyperparameters for each fold\n",
    "    fcount = 1\n",
    "    for train, test in skf.split(X,y): \n",
    "        \n",
    "        print(\"Fold %d:\" % fcount)\n",
    "        fcount += 1\n",
    "        \n",
    "        clf = GridSearchCV(learner, parameters, cv=3)\n",
    "        clf.fit(X[train], y[train])\n",
    "            \n",
    "        print(\"Best Parameters: \", clf.best_params_)\n",
    "       \n",
    "        score = clf.score(X[test], y[test])\n",
    "        accArr.append(score)\n",
    "        \n",
    "        print(\"Tuning Set Score: %.3f \\n\" % score)\n",
    "    \n",
    "    return accArr"
   ]
  },
  {
   "cell_type": "code",
   "execution_count": 82,
   "metadata": {},
   "outputs": [],
   "source": [
    "#runPipeline(\"cancer\")\n",
    "#runPipeline(\"wine\")\n",
    "#runPipeline(\"mnist\")\n",
    "#runPipeline(\"iris\")"
   ]
  },
  {
   "cell_type": "markdown",
   "metadata": {},
   "source": [
    "### Tests and sample output\n",
    "\n",
    "Since the analysis below is dependent on your results, we cannot provide sample output for all possible classifiers and datasets.  But here is what you might get for the breast cancer data set when comparing Random Forests and SVMs (your results may vary slightly; this was the result if you hard code `random_state=42` for the splitting/grid search methods):\n",
    "\n",
    "```\n",
    "run_pipeline('cancer')\n",
    "\n",
    "RUNNING 5-Fold CV on SVMs\n",
    "------------------------\n",
    "Fold 1:\n",
    "Best parameters: {'C': 100, 'gamma': 0.0001}\n",
    "Tuning Set Score: 0.947\n",
    "\n",
    "Fold 2:\n",
    "Best parameters: {'C': 100, 'gamma': 0.0001}\n",
    "Tuning Set Score: 0.936\n",
    "\n",
    "... (not all folds are shown in this output)\n",
    "\n",
    "RUNNING 5-Fold CV on Random Forests\n",
    "-----------------------------------\n",
    "Fold 1:\n",
    "Best parameters: {'max_features': 5}\n",
    "Tuning Set Score: 0.963\n",
    "\n",
    "Fold 2:\n",
    "Best parameters: {'max_features': 3}\n",
    "Tuning Set Score: 0.965\n",
    "\n",
    "... (not all folds are shown in this output)\n",
    "\n",
    "Test set results\n",
    "-----------------\n",
    "\n",
    "Fold, SVM, RF\n",
    "0, 0.912, 0.965\n",
    "1, 0.930, 0.956\n",
    "2, 0.930, 0.947\n",
    "3, 0.939, 0.947\n",
    "4, 0.965, 0.965\n",
    "```\n",
    "\n",
    "**Only the last few lines are required to print.**  But it useful to output other information to understand what choices the grid search makes and for the analysis below."
   ]
  },
  {
   "cell_type": "markdown",
   "metadata": {},
   "source": [
    "## Part 5b: Analysis\n",
    "\n",
    "Analyze your results. This is more open-ended to prepare you for the final project, so it is up to you to explore the data and results, but it should be several paragraphs. **Tell us what you find interesting about the results.** At a minimum, your submission should run on **two datasets besides Breastcancer**, and should compare at least **two different classifiers**.  Include the following types of analysis:\n",
    "\n",
    " * Provide **quantitative results**. Present the results visually both in summary and detail (e.g., a [table](https://www.markdownguide.org/cheat-sheet#extended-syntax) using markdown format).  Here is an example of how to create a basic table in markdown:\n",
    " \n",
    "    | A | B | C |\n",
    "    |---|---|---|\n",
    "    | 1 | 5 | 7 |\n",
    "    | 2 | 9 | 3 |\n",
    " \n",
    " * **Qualitatively assess** the results. What can we conclude/infer about both methods and how did the methods compare to each other? You can use accuracy, confusion matricies, or _hypothesis testing_ (this is optional, but more robust and a very useful concept to understand).  Refer to Section 5.7 of the CIML text book for details.  You can use the [scipy library](https://docs.scipy.org/doc/scipy/reference/generated/scipy.stats.ttest_rel.html) to calculate a paired test (e.g. [Wilcoxon](https://docs.scipy.org/doc/scipy/reference/generated/scipy.stats.wilcoxon.html)) and see if there is a _statistically signifcant_ difference in accuracies:\n",
    "\n",
    "    ```\n",
    "    w, p = scipy.stats.wilcoxon(methodAResults, methodBResults)\n",
    "    print(\"P-value is: \", p)\n",
    "    ```\n",
    " * Align the results with class discussion e.g., Did one method do better across both data sets, or did they split across the data sets? Can you explain this using properties for each algorithm as discussed in class? What, if any, hyperparameters were commonly chosen for each dataset?\n",
    "\n",
    "Your analysis should be written as if it were the results section of a scientific report/paper. "
   ]
  },
  {
   "cell_type": "code",
   "execution_count": 83,
   "metadata": {},
   "outputs": [
    {
     "name": "stdout",
     "output_type": "stream",
     "text": [
      "\n",
      "runPipeline(wine) \n",
      "\n",
      "Running 5-fold CV on RF\n",
      "-----------------------\n",
      "Fold 1:\n",
      "Best Parameters:  {'max_features': 10, 'n_estimators': 100}\n",
      "Tuning Set Score: 0.965 \n",
      "\n",
      "Fold 2:\n"
     ]
    },
    {
     "ename": "KeyboardInterrupt",
     "evalue": "",
     "output_type": "error",
     "traceback": [
      "\u001b[0;31m---------------------------------------------------------------------------\u001b[0m",
      "\u001b[0;31mKeyboardInterrupt\u001b[0m                         Traceback (most recent call last)",
      "Input \u001b[0;32mIn [83]\u001b[0m, in \u001b[0;36m<cell line: 3>\u001b[0;34m()\u001b[0m\n\u001b[1;32m      1\u001b[0m \u001b[38;5;66;03m#Optional: if you want to run code for your analysis, this is a place you could put it\\\u001b[39;00m\n\u001b[0;32m----> 3\u001b[0m results \u001b[38;5;241m=\u001b[39m \u001b[43mrunPipeline\u001b[49m\u001b[43m(\u001b[49m\u001b[38;5;124;43m\"\u001b[39;49m\u001b[38;5;124;43mwine\u001b[39;49m\u001b[38;5;124;43m\"\u001b[39;49m\u001b[43m)\u001b[49m\n\u001b[1;32m      5\u001b[0m methodAResults \u001b[38;5;241m=\u001b[39m results[\u001b[38;5;241m0\u001b[39m]\n\u001b[1;32m      6\u001b[0m methodBResults \u001b[38;5;241m=\u001b[39m results[\u001b[38;5;241m1\u001b[39m]\n",
      "Input \u001b[0;32mIn [78]\u001b[0m, in \u001b[0;36mrunPipeline\u001b[0;34m(dataSetName)\u001b[0m\n\u001b[1;32m     29\u001b[0m rf \u001b[38;5;241m=\u001b[39m ensemble\u001b[38;5;241m.\u001b[39mRandomForestClassifier(n_estimators\u001b[38;5;241m=\u001b[39m\u001b[38;5;241m200\u001b[39m)\n\u001b[1;32m     30\u001b[0m params \u001b[38;5;241m=\u001b[39m {\u001b[38;5;124m'\u001b[39m\u001b[38;5;124mmax_features\u001b[39m\u001b[38;5;124m'\u001b[39m:[\u001b[38;5;28;01mNone\u001b[39;00m, \u001b[38;5;124m'\u001b[39m\u001b[38;5;124msqrt\u001b[39m\u001b[38;5;124m'\u001b[39m, \u001b[38;5;124m'\u001b[39m\u001b[38;5;124mlog2\u001b[39m\u001b[38;5;124m'\u001b[39m, \u001b[38;5;241m5\u001b[39m, \u001b[38;5;241m10\u001b[39m, \u001b[38;5;241m20\u001b[39m],\u001b[38;5;124m'\u001b[39m\u001b[38;5;124mn_estimators\u001b[39m\u001b[38;5;124m'\u001b[39m:[\u001b[38;5;241m100\u001b[39m, \u001b[38;5;241m200\u001b[39m, \u001b[38;5;241m300\u001b[39m]}\n\u001b[0;32m---> 31\u001b[0m rf_accArr \u001b[38;5;241m=\u001b[39m \u001b[43mrunTuneTest\u001b[49m\u001b[43m(\u001b[49m\u001b[43mrf\u001b[49m\u001b[43m,\u001b[49m\u001b[43m \u001b[49m\u001b[43mparams\u001b[49m\u001b[43m,\u001b[49m\u001b[43m \u001b[49m\u001b[43mX\u001b[49m\u001b[43m,\u001b[49m\u001b[43m \u001b[49m\u001b[43my\u001b[49m\u001b[43m)\u001b[49m\n\u001b[1;32m     33\u001b[0m \u001b[38;5;28mprint\u001b[39m(\u001b[38;5;124m\"\u001b[39m\u001b[38;5;124mRunning 5-fold CV on SGD\u001b[39m\u001b[38;5;124m\"\u001b[39m)\n\u001b[1;32m     34\u001b[0m \u001b[38;5;28mprint\u001b[39m(\u001b[38;5;124m\"\u001b[39m\u001b[38;5;124m------------------------\u001b[39m\u001b[38;5;124m\"\u001b[39m)\n",
      "Input \u001b[0;32mIn [81]\u001b[0m, in \u001b[0;36mrunTuneTest\u001b[0;34m(learner, parameters, X, y)\u001b[0m\n\u001b[1;32m     25\u001b[0m fcount \u001b[38;5;241m+\u001b[39m\u001b[38;5;241m=\u001b[39m \u001b[38;5;241m1\u001b[39m\n\u001b[1;32m     27\u001b[0m clf \u001b[38;5;241m=\u001b[39m GridSearchCV(learner, parameters, cv\u001b[38;5;241m=\u001b[39m\u001b[38;5;241m3\u001b[39m)\n\u001b[0;32m---> 28\u001b[0m \u001b[43mclf\u001b[49m\u001b[38;5;241;43m.\u001b[39;49m\u001b[43mfit\u001b[49m\u001b[43m(\u001b[49m\u001b[43mX\u001b[49m\u001b[43m[\u001b[49m\u001b[43mtrain\u001b[49m\u001b[43m]\u001b[49m\u001b[43m,\u001b[49m\u001b[43m \u001b[49m\u001b[43my\u001b[49m\u001b[43m[\u001b[49m\u001b[43mtrain\u001b[49m\u001b[43m]\u001b[49m\u001b[43m)\u001b[49m\n\u001b[1;32m     30\u001b[0m \u001b[38;5;28mprint\u001b[39m(\u001b[38;5;124m\"\u001b[39m\u001b[38;5;124mBest Parameters: \u001b[39m\u001b[38;5;124m\"\u001b[39m, clf\u001b[38;5;241m.\u001b[39mbest_params_)\n\u001b[1;32m     32\u001b[0m score \u001b[38;5;241m=\u001b[39m clf\u001b[38;5;241m.\u001b[39mscore(X[test], y[test])\n",
      "File \u001b[0;32m/scratch/knerr/venvs/cs66/lib/python3.10/site-packages/sklearn/model_selection/_search.py:875\u001b[0m, in \u001b[0;36mBaseSearchCV.fit\u001b[0;34m(self, X, y, groups, **fit_params)\u001b[0m\n\u001b[1;32m    869\u001b[0m     results \u001b[38;5;241m=\u001b[39m \u001b[38;5;28mself\u001b[39m\u001b[38;5;241m.\u001b[39m_format_results(\n\u001b[1;32m    870\u001b[0m         all_candidate_params, n_splits, all_out, all_more_results\n\u001b[1;32m    871\u001b[0m     )\n\u001b[1;32m    873\u001b[0m     \u001b[38;5;28;01mreturn\u001b[39;00m results\n\u001b[0;32m--> 875\u001b[0m \u001b[38;5;28;43mself\u001b[39;49m\u001b[38;5;241;43m.\u001b[39;49m\u001b[43m_run_search\u001b[49m\u001b[43m(\u001b[49m\u001b[43mevaluate_candidates\u001b[49m\u001b[43m)\u001b[49m\n\u001b[1;32m    877\u001b[0m \u001b[38;5;66;03m# multimetric is determined here because in the case of a callable\u001b[39;00m\n\u001b[1;32m    878\u001b[0m \u001b[38;5;66;03m# self.scoring the return type is only known after calling\u001b[39;00m\n\u001b[1;32m    879\u001b[0m first_test_score \u001b[38;5;241m=\u001b[39m all_out[\u001b[38;5;241m0\u001b[39m][\u001b[38;5;124m\"\u001b[39m\u001b[38;5;124mtest_scores\u001b[39m\u001b[38;5;124m\"\u001b[39m]\n",
      "File \u001b[0;32m/scratch/knerr/venvs/cs66/lib/python3.10/site-packages/sklearn/model_selection/_search.py:1379\u001b[0m, in \u001b[0;36mGridSearchCV._run_search\u001b[0;34m(self, evaluate_candidates)\u001b[0m\n\u001b[1;32m   1377\u001b[0m \u001b[38;5;28;01mdef\u001b[39;00m \u001b[38;5;21m_run_search\u001b[39m(\u001b[38;5;28mself\u001b[39m, evaluate_candidates):\n\u001b[1;32m   1378\u001b[0m     \u001b[38;5;124;03m\"\"\"Search all candidates in param_grid\"\"\"\u001b[39;00m\n\u001b[0;32m-> 1379\u001b[0m     \u001b[43mevaluate_candidates\u001b[49m\u001b[43m(\u001b[49m\u001b[43mParameterGrid\u001b[49m\u001b[43m(\u001b[49m\u001b[38;5;28;43mself\u001b[39;49m\u001b[38;5;241;43m.\u001b[39;49m\u001b[43mparam_grid\u001b[49m\u001b[43m)\u001b[49m\u001b[43m)\u001b[49m\n",
      "File \u001b[0;32m/scratch/knerr/venvs/cs66/lib/python3.10/site-packages/sklearn/model_selection/_search.py:822\u001b[0m, in \u001b[0;36mBaseSearchCV.fit.<locals>.evaluate_candidates\u001b[0;34m(candidate_params, cv, more_results)\u001b[0m\n\u001b[1;32m    814\u001b[0m \u001b[38;5;28;01mif\u001b[39;00m \u001b[38;5;28mself\u001b[39m\u001b[38;5;241m.\u001b[39mverbose \u001b[38;5;241m>\u001b[39m \u001b[38;5;241m0\u001b[39m:\n\u001b[1;32m    815\u001b[0m     \u001b[38;5;28mprint\u001b[39m(\n\u001b[1;32m    816\u001b[0m         \u001b[38;5;124m\"\u001b[39m\u001b[38;5;124mFitting \u001b[39m\u001b[38;5;132;01m{0}\u001b[39;00m\u001b[38;5;124m folds for each of \u001b[39m\u001b[38;5;132;01m{1}\u001b[39;00m\u001b[38;5;124m candidates,\u001b[39m\u001b[38;5;124m\"\u001b[39m\n\u001b[1;32m    817\u001b[0m         \u001b[38;5;124m\"\u001b[39m\u001b[38;5;124m totalling \u001b[39m\u001b[38;5;132;01m{2}\u001b[39;00m\u001b[38;5;124m fits\u001b[39m\u001b[38;5;124m\"\u001b[39m\u001b[38;5;241m.\u001b[39mformat(\n\u001b[1;32m    818\u001b[0m             n_splits, n_candidates, n_candidates \u001b[38;5;241m*\u001b[39m n_splits\n\u001b[1;32m    819\u001b[0m         )\n\u001b[1;32m    820\u001b[0m     )\n\u001b[0;32m--> 822\u001b[0m out \u001b[38;5;241m=\u001b[39m \u001b[43mparallel\u001b[49m\u001b[43m(\u001b[49m\n\u001b[1;32m    823\u001b[0m \u001b[43m    \u001b[49m\u001b[43mdelayed\u001b[49m\u001b[43m(\u001b[49m\u001b[43m_fit_and_score\u001b[49m\u001b[43m)\u001b[49m\u001b[43m(\u001b[49m\n\u001b[1;32m    824\u001b[0m \u001b[43m        \u001b[49m\u001b[43mclone\u001b[49m\u001b[43m(\u001b[49m\u001b[43mbase_estimator\u001b[49m\u001b[43m)\u001b[49m\u001b[43m,\u001b[49m\n\u001b[1;32m    825\u001b[0m \u001b[43m        \u001b[49m\u001b[43mX\u001b[49m\u001b[43m,\u001b[49m\n\u001b[1;32m    826\u001b[0m \u001b[43m        \u001b[49m\u001b[43my\u001b[49m\u001b[43m,\u001b[49m\n\u001b[1;32m    827\u001b[0m \u001b[43m        \u001b[49m\u001b[43mtrain\u001b[49m\u001b[38;5;241;43m=\u001b[39;49m\u001b[43mtrain\u001b[49m\u001b[43m,\u001b[49m\n\u001b[1;32m    828\u001b[0m \u001b[43m        \u001b[49m\u001b[43mtest\u001b[49m\u001b[38;5;241;43m=\u001b[39;49m\u001b[43mtest\u001b[49m\u001b[43m,\u001b[49m\n\u001b[1;32m    829\u001b[0m \u001b[43m        \u001b[49m\u001b[43mparameters\u001b[49m\u001b[38;5;241;43m=\u001b[39;49m\u001b[43mparameters\u001b[49m\u001b[43m,\u001b[49m\n\u001b[1;32m    830\u001b[0m \u001b[43m        \u001b[49m\u001b[43msplit_progress\u001b[49m\u001b[38;5;241;43m=\u001b[39;49m\u001b[43m(\u001b[49m\u001b[43msplit_idx\u001b[49m\u001b[43m,\u001b[49m\u001b[43m \u001b[49m\u001b[43mn_splits\u001b[49m\u001b[43m)\u001b[49m\u001b[43m,\u001b[49m\n\u001b[1;32m    831\u001b[0m \u001b[43m        \u001b[49m\u001b[43mcandidate_progress\u001b[49m\u001b[38;5;241;43m=\u001b[39;49m\u001b[43m(\u001b[49m\u001b[43mcand_idx\u001b[49m\u001b[43m,\u001b[49m\u001b[43m \u001b[49m\u001b[43mn_candidates\u001b[49m\u001b[43m)\u001b[49m\u001b[43m,\u001b[49m\n\u001b[1;32m    832\u001b[0m \u001b[43m        \u001b[49m\u001b[38;5;241;43m*\u001b[39;49m\u001b[38;5;241;43m*\u001b[39;49m\u001b[43mfit_and_score_kwargs\u001b[49m\u001b[43m,\u001b[49m\n\u001b[1;32m    833\u001b[0m \u001b[43m    \u001b[49m\u001b[43m)\u001b[49m\n\u001b[1;32m    834\u001b[0m \u001b[43m    \u001b[49m\u001b[38;5;28;43;01mfor\u001b[39;49;00m\u001b[43m \u001b[49m\u001b[43m(\u001b[49m\u001b[43mcand_idx\u001b[49m\u001b[43m,\u001b[49m\u001b[43m \u001b[49m\u001b[43mparameters\u001b[49m\u001b[43m)\u001b[49m\u001b[43m,\u001b[49m\u001b[43m \u001b[49m\u001b[43m(\u001b[49m\u001b[43msplit_idx\u001b[49m\u001b[43m,\u001b[49m\u001b[43m \u001b[49m\u001b[43m(\u001b[49m\u001b[43mtrain\u001b[49m\u001b[43m,\u001b[49m\u001b[43m \u001b[49m\u001b[43mtest\u001b[49m\u001b[43m)\u001b[49m\u001b[43m)\u001b[49m\u001b[43m \u001b[49m\u001b[38;5;129;43;01min\u001b[39;49;00m\u001b[43m \u001b[49m\u001b[43mproduct\u001b[49m\u001b[43m(\u001b[49m\n\u001b[1;32m    835\u001b[0m \u001b[43m        \u001b[49m\u001b[38;5;28;43menumerate\u001b[39;49m\u001b[43m(\u001b[49m\u001b[43mcandidate_params\u001b[49m\u001b[43m)\u001b[49m\u001b[43m,\u001b[49m\u001b[43m \u001b[49m\u001b[38;5;28;43menumerate\u001b[39;49m\u001b[43m(\u001b[49m\u001b[43mcv\u001b[49m\u001b[38;5;241;43m.\u001b[39;49m\u001b[43msplit\u001b[49m\u001b[43m(\u001b[49m\u001b[43mX\u001b[49m\u001b[43m,\u001b[49m\u001b[43m \u001b[49m\u001b[43my\u001b[49m\u001b[43m,\u001b[49m\u001b[43m \u001b[49m\u001b[43mgroups\u001b[49m\u001b[43m)\u001b[49m\u001b[43m)\u001b[49m\n\u001b[1;32m    836\u001b[0m \u001b[43m    \u001b[49m\u001b[43m)\u001b[49m\n\u001b[1;32m    837\u001b[0m \u001b[43m\u001b[49m\u001b[43m)\u001b[49m\n\u001b[1;32m    839\u001b[0m \u001b[38;5;28;01mif\u001b[39;00m \u001b[38;5;28mlen\u001b[39m(out) \u001b[38;5;241m<\u001b[39m \u001b[38;5;241m1\u001b[39m:\n\u001b[1;32m    840\u001b[0m     \u001b[38;5;28;01mraise\u001b[39;00m \u001b[38;5;167;01mValueError\u001b[39;00m(\n\u001b[1;32m    841\u001b[0m         \u001b[38;5;124m\"\u001b[39m\u001b[38;5;124mNo fits were performed. \u001b[39m\u001b[38;5;124m\"\u001b[39m\n\u001b[1;32m    842\u001b[0m         \u001b[38;5;124m\"\u001b[39m\u001b[38;5;124mWas the CV iterator empty? \u001b[39m\u001b[38;5;124m\"\u001b[39m\n\u001b[1;32m    843\u001b[0m         \u001b[38;5;124m\"\u001b[39m\u001b[38;5;124mWere there no candidates?\u001b[39m\u001b[38;5;124m\"\u001b[39m\n\u001b[1;32m    844\u001b[0m     )\n",
      "File \u001b[0;32m/scratch/knerr/venvs/cs66/lib/python3.10/site-packages/joblib/parallel.py:1088\u001b[0m, in \u001b[0;36mParallel.__call__\u001b[0;34m(self, iterable)\u001b[0m\n\u001b[1;32m   1085\u001b[0m \u001b[38;5;28;01mif\u001b[39;00m \u001b[38;5;28mself\u001b[39m\u001b[38;5;241m.\u001b[39mdispatch_one_batch(iterator):\n\u001b[1;32m   1086\u001b[0m     \u001b[38;5;28mself\u001b[39m\u001b[38;5;241m.\u001b[39m_iterating \u001b[38;5;241m=\u001b[39m \u001b[38;5;28mself\u001b[39m\u001b[38;5;241m.\u001b[39m_original_iterator \u001b[38;5;129;01mis\u001b[39;00m \u001b[38;5;129;01mnot\u001b[39;00m \u001b[38;5;28;01mNone\u001b[39;00m\n\u001b[0;32m-> 1088\u001b[0m \u001b[38;5;28;01mwhile\u001b[39;00m \u001b[38;5;28;43mself\u001b[39;49m\u001b[38;5;241;43m.\u001b[39;49m\u001b[43mdispatch_one_batch\u001b[49m\u001b[43m(\u001b[49m\u001b[43miterator\u001b[49m\u001b[43m)\u001b[49m:\n\u001b[1;32m   1089\u001b[0m     \u001b[38;5;28;01mpass\u001b[39;00m\n\u001b[1;32m   1091\u001b[0m \u001b[38;5;28;01mif\u001b[39;00m pre_dispatch \u001b[38;5;241m==\u001b[39m \u001b[38;5;124m\"\u001b[39m\u001b[38;5;124mall\u001b[39m\u001b[38;5;124m\"\u001b[39m \u001b[38;5;129;01mor\u001b[39;00m n_jobs \u001b[38;5;241m==\u001b[39m \u001b[38;5;241m1\u001b[39m:\n\u001b[1;32m   1092\u001b[0m     \u001b[38;5;66;03m# The iterable was consumed all at once by the above for loop.\u001b[39;00m\n\u001b[1;32m   1093\u001b[0m     \u001b[38;5;66;03m# No need to wait for async callbacks to trigger to\u001b[39;00m\n\u001b[1;32m   1094\u001b[0m     \u001b[38;5;66;03m# consumption.\u001b[39;00m\n",
      "File \u001b[0;32m/scratch/knerr/venvs/cs66/lib/python3.10/site-packages/joblib/parallel.py:901\u001b[0m, in \u001b[0;36mParallel.dispatch_one_batch\u001b[0;34m(self, iterator)\u001b[0m\n\u001b[1;32m    899\u001b[0m     \u001b[38;5;28;01mreturn\u001b[39;00m \u001b[38;5;28;01mFalse\u001b[39;00m\n\u001b[1;32m    900\u001b[0m \u001b[38;5;28;01melse\u001b[39;00m:\n\u001b[0;32m--> 901\u001b[0m     \u001b[38;5;28;43mself\u001b[39;49m\u001b[38;5;241;43m.\u001b[39;49m\u001b[43m_dispatch\u001b[49m\u001b[43m(\u001b[49m\u001b[43mtasks\u001b[49m\u001b[43m)\u001b[49m\n\u001b[1;32m    902\u001b[0m     \u001b[38;5;28;01mreturn\u001b[39;00m \u001b[38;5;28;01mTrue\u001b[39;00m\n",
      "File \u001b[0;32m/scratch/knerr/venvs/cs66/lib/python3.10/site-packages/joblib/parallel.py:819\u001b[0m, in \u001b[0;36mParallel._dispatch\u001b[0;34m(self, batch)\u001b[0m\n\u001b[1;32m    817\u001b[0m \u001b[38;5;28;01mwith\u001b[39;00m \u001b[38;5;28mself\u001b[39m\u001b[38;5;241m.\u001b[39m_lock:\n\u001b[1;32m    818\u001b[0m     job_idx \u001b[38;5;241m=\u001b[39m \u001b[38;5;28mlen\u001b[39m(\u001b[38;5;28mself\u001b[39m\u001b[38;5;241m.\u001b[39m_jobs)\n\u001b[0;32m--> 819\u001b[0m     job \u001b[38;5;241m=\u001b[39m \u001b[38;5;28;43mself\u001b[39;49m\u001b[38;5;241;43m.\u001b[39;49m\u001b[43m_backend\u001b[49m\u001b[38;5;241;43m.\u001b[39;49m\u001b[43mapply_async\u001b[49m\u001b[43m(\u001b[49m\u001b[43mbatch\u001b[49m\u001b[43m,\u001b[49m\u001b[43m \u001b[49m\u001b[43mcallback\u001b[49m\u001b[38;5;241;43m=\u001b[39;49m\u001b[43mcb\u001b[49m\u001b[43m)\u001b[49m\n\u001b[1;32m    820\u001b[0m     \u001b[38;5;66;03m# A job can complete so quickly than its callback is\u001b[39;00m\n\u001b[1;32m    821\u001b[0m     \u001b[38;5;66;03m# called before we get here, causing self._jobs to\u001b[39;00m\n\u001b[1;32m    822\u001b[0m     \u001b[38;5;66;03m# grow. To ensure correct results ordering, .insert is\u001b[39;00m\n\u001b[1;32m    823\u001b[0m     \u001b[38;5;66;03m# used (rather than .append) in the following line\u001b[39;00m\n\u001b[1;32m    824\u001b[0m     \u001b[38;5;28mself\u001b[39m\u001b[38;5;241m.\u001b[39m_jobs\u001b[38;5;241m.\u001b[39minsert(job_idx, job)\n",
      "File \u001b[0;32m/scratch/knerr/venvs/cs66/lib/python3.10/site-packages/joblib/_parallel_backends.py:208\u001b[0m, in \u001b[0;36mSequentialBackend.apply_async\u001b[0;34m(self, func, callback)\u001b[0m\n\u001b[1;32m    206\u001b[0m \u001b[38;5;28;01mdef\u001b[39;00m \u001b[38;5;21mapply_async\u001b[39m(\u001b[38;5;28mself\u001b[39m, func, callback\u001b[38;5;241m=\u001b[39m\u001b[38;5;28;01mNone\u001b[39;00m):\n\u001b[1;32m    207\u001b[0m     \u001b[38;5;124;03m\"\"\"Schedule a func to be run\"\"\"\u001b[39;00m\n\u001b[0;32m--> 208\u001b[0m     result \u001b[38;5;241m=\u001b[39m \u001b[43mImmediateResult\u001b[49m\u001b[43m(\u001b[49m\u001b[43mfunc\u001b[49m\u001b[43m)\u001b[49m\n\u001b[1;32m    209\u001b[0m     \u001b[38;5;28;01mif\u001b[39;00m callback:\n\u001b[1;32m    210\u001b[0m         callback(result)\n",
      "File \u001b[0;32m/scratch/knerr/venvs/cs66/lib/python3.10/site-packages/joblib/_parallel_backends.py:597\u001b[0m, in \u001b[0;36mImmediateResult.__init__\u001b[0;34m(self, batch)\u001b[0m\n\u001b[1;32m    594\u001b[0m \u001b[38;5;28;01mdef\u001b[39;00m \u001b[38;5;21m__init__\u001b[39m(\u001b[38;5;28mself\u001b[39m, batch):\n\u001b[1;32m    595\u001b[0m     \u001b[38;5;66;03m# Don't delay the application, to avoid keeping the input\u001b[39;00m\n\u001b[1;32m    596\u001b[0m     \u001b[38;5;66;03m# arguments in memory\u001b[39;00m\n\u001b[0;32m--> 597\u001b[0m     \u001b[38;5;28mself\u001b[39m\u001b[38;5;241m.\u001b[39mresults \u001b[38;5;241m=\u001b[39m \u001b[43mbatch\u001b[49m\u001b[43m(\u001b[49m\u001b[43m)\u001b[49m\n",
      "File \u001b[0;32m/scratch/knerr/venvs/cs66/lib/python3.10/site-packages/joblib/parallel.py:288\u001b[0m, in \u001b[0;36mBatchedCalls.__call__\u001b[0;34m(self)\u001b[0m\n\u001b[1;32m    284\u001b[0m \u001b[38;5;28;01mdef\u001b[39;00m \u001b[38;5;21m__call__\u001b[39m(\u001b[38;5;28mself\u001b[39m):\n\u001b[1;32m    285\u001b[0m     \u001b[38;5;66;03m# Set the default nested backend to self._backend but do not set the\u001b[39;00m\n\u001b[1;32m    286\u001b[0m     \u001b[38;5;66;03m# change the default number of processes to -1\u001b[39;00m\n\u001b[1;32m    287\u001b[0m     \u001b[38;5;28;01mwith\u001b[39;00m parallel_backend(\u001b[38;5;28mself\u001b[39m\u001b[38;5;241m.\u001b[39m_backend, n_jobs\u001b[38;5;241m=\u001b[39m\u001b[38;5;28mself\u001b[39m\u001b[38;5;241m.\u001b[39m_n_jobs):\n\u001b[0;32m--> 288\u001b[0m         \u001b[38;5;28;01mreturn\u001b[39;00m [func(\u001b[38;5;241m*\u001b[39margs, \u001b[38;5;241m*\u001b[39m\u001b[38;5;241m*\u001b[39mkwargs)\n\u001b[1;32m    289\u001b[0m                 \u001b[38;5;28;01mfor\u001b[39;00m func, args, kwargs \u001b[38;5;129;01min\u001b[39;00m \u001b[38;5;28mself\u001b[39m\u001b[38;5;241m.\u001b[39mitems]\n",
      "File \u001b[0;32m/scratch/knerr/venvs/cs66/lib/python3.10/site-packages/joblib/parallel.py:288\u001b[0m, in \u001b[0;36m<listcomp>\u001b[0;34m(.0)\u001b[0m\n\u001b[1;32m    284\u001b[0m \u001b[38;5;28;01mdef\u001b[39;00m \u001b[38;5;21m__call__\u001b[39m(\u001b[38;5;28mself\u001b[39m):\n\u001b[1;32m    285\u001b[0m     \u001b[38;5;66;03m# Set the default nested backend to self._backend but do not set the\u001b[39;00m\n\u001b[1;32m    286\u001b[0m     \u001b[38;5;66;03m# change the default number of processes to -1\u001b[39;00m\n\u001b[1;32m    287\u001b[0m     \u001b[38;5;28;01mwith\u001b[39;00m parallel_backend(\u001b[38;5;28mself\u001b[39m\u001b[38;5;241m.\u001b[39m_backend, n_jobs\u001b[38;5;241m=\u001b[39m\u001b[38;5;28mself\u001b[39m\u001b[38;5;241m.\u001b[39m_n_jobs):\n\u001b[0;32m--> 288\u001b[0m         \u001b[38;5;28;01mreturn\u001b[39;00m [\u001b[43mfunc\u001b[49m\u001b[43m(\u001b[49m\u001b[38;5;241;43m*\u001b[39;49m\u001b[43margs\u001b[49m\u001b[43m,\u001b[49m\u001b[43m \u001b[49m\u001b[38;5;241;43m*\u001b[39;49m\u001b[38;5;241;43m*\u001b[39;49m\u001b[43mkwargs\u001b[49m\u001b[43m)\u001b[49m\n\u001b[1;32m    289\u001b[0m                 \u001b[38;5;28;01mfor\u001b[39;00m func, args, kwargs \u001b[38;5;129;01min\u001b[39;00m \u001b[38;5;28mself\u001b[39m\u001b[38;5;241m.\u001b[39mitems]\n",
      "File \u001b[0;32m/scratch/knerr/venvs/cs66/lib/python3.10/site-packages/sklearn/utils/fixes.py:117\u001b[0m, in \u001b[0;36m_FuncWrapper.__call__\u001b[0;34m(self, *args, **kwargs)\u001b[0m\n\u001b[1;32m    115\u001b[0m \u001b[38;5;28;01mdef\u001b[39;00m \u001b[38;5;21m__call__\u001b[39m(\u001b[38;5;28mself\u001b[39m, \u001b[38;5;241m*\u001b[39margs, \u001b[38;5;241m*\u001b[39m\u001b[38;5;241m*\u001b[39mkwargs):\n\u001b[1;32m    116\u001b[0m     \u001b[38;5;28;01mwith\u001b[39;00m config_context(\u001b[38;5;241m*\u001b[39m\u001b[38;5;241m*\u001b[39m\u001b[38;5;28mself\u001b[39m\u001b[38;5;241m.\u001b[39mconfig):\n\u001b[0;32m--> 117\u001b[0m         \u001b[38;5;28;01mreturn\u001b[39;00m \u001b[38;5;28;43mself\u001b[39;49m\u001b[38;5;241;43m.\u001b[39;49m\u001b[43mfunction\u001b[49m\u001b[43m(\u001b[49m\u001b[38;5;241;43m*\u001b[39;49m\u001b[43margs\u001b[49m\u001b[43m,\u001b[49m\u001b[43m \u001b[49m\u001b[38;5;241;43m*\u001b[39;49m\u001b[38;5;241;43m*\u001b[39;49m\u001b[43mkwargs\u001b[49m\u001b[43m)\u001b[49m\n",
      "File \u001b[0;32m/scratch/knerr/venvs/cs66/lib/python3.10/site-packages/sklearn/model_selection/_validation.py:686\u001b[0m, in \u001b[0;36m_fit_and_score\u001b[0;34m(estimator, X, y, scorer, train, test, verbose, parameters, fit_params, return_train_score, return_parameters, return_n_test_samples, return_times, return_estimator, split_progress, candidate_progress, error_score)\u001b[0m\n\u001b[1;32m    684\u001b[0m         estimator\u001b[38;5;241m.\u001b[39mfit(X_train, \u001b[38;5;241m*\u001b[39m\u001b[38;5;241m*\u001b[39mfit_params)\n\u001b[1;32m    685\u001b[0m     \u001b[38;5;28;01melse\u001b[39;00m:\n\u001b[0;32m--> 686\u001b[0m         \u001b[43mestimator\u001b[49m\u001b[38;5;241;43m.\u001b[39;49m\u001b[43mfit\u001b[49m\u001b[43m(\u001b[49m\u001b[43mX_train\u001b[49m\u001b[43m,\u001b[49m\u001b[43m \u001b[49m\u001b[43my_train\u001b[49m\u001b[43m,\u001b[49m\u001b[43m \u001b[49m\u001b[38;5;241;43m*\u001b[39;49m\u001b[38;5;241;43m*\u001b[39;49m\u001b[43mfit_params\u001b[49m\u001b[43m)\u001b[49m\n\u001b[1;32m    688\u001b[0m \u001b[38;5;28;01mexcept\u001b[39;00m \u001b[38;5;167;01mException\u001b[39;00m:\n\u001b[1;32m    689\u001b[0m     \u001b[38;5;66;03m# Note fit time as time until error\u001b[39;00m\n\u001b[1;32m    690\u001b[0m     fit_time \u001b[38;5;241m=\u001b[39m time\u001b[38;5;241m.\u001b[39mtime() \u001b[38;5;241m-\u001b[39m start_time\n",
      "File \u001b[0;32m/scratch/knerr/venvs/cs66/lib/python3.10/site-packages/sklearn/ensemble/_forest.py:476\u001b[0m, in \u001b[0;36mBaseForest.fit\u001b[0;34m(self, X, y, sample_weight)\u001b[0m\n\u001b[1;32m    465\u001b[0m trees \u001b[38;5;241m=\u001b[39m [\n\u001b[1;32m    466\u001b[0m     \u001b[38;5;28mself\u001b[39m\u001b[38;5;241m.\u001b[39m_make_estimator(append\u001b[38;5;241m=\u001b[39m\u001b[38;5;28;01mFalse\u001b[39;00m, random_state\u001b[38;5;241m=\u001b[39mrandom_state)\n\u001b[1;32m    467\u001b[0m     \u001b[38;5;28;01mfor\u001b[39;00m i \u001b[38;5;129;01min\u001b[39;00m \u001b[38;5;28mrange\u001b[39m(n_more_estimators)\n\u001b[1;32m    468\u001b[0m ]\n\u001b[1;32m    470\u001b[0m \u001b[38;5;66;03m# Parallel loop: we prefer the threading backend as the Cython code\u001b[39;00m\n\u001b[1;32m    471\u001b[0m \u001b[38;5;66;03m# for fitting the trees is internally releasing the Python GIL\u001b[39;00m\n\u001b[1;32m    472\u001b[0m \u001b[38;5;66;03m# making threading more efficient than multiprocessing in\u001b[39;00m\n\u001b[1;32m    473\u001b[0m \u001b[38;5;66;03m# that case. However, for joblib 0.12+ we respect any\u001b[39;00m\n\u001b[1;32m    474\u001b[0m \u001b[38;5;66;03m# parallel_backend contexts set at a higher level,\u001b[39;00m\n\u001b[1;32m    475\u001b[0m \u001b[38;5;66;03m# since correctness does not rely on using threads.\u001b[39;00m\n\u001b[0;32m--> 476\u001b[0m trees \u001b[38;5;241m=\u001b[39m \u001b[43mParallel\u001b[49m\u001b[43m(\u001b[49m\n\u001b[1;32m    477\u001b[0m \u001b[43m    \u001b[49m\u001b[43mn_jobs\u001b[49m\u001b[38;5;241;43m=\u001b[39;49m\u001b[38;5;28;43mself\u001b[39;49m\u001b[38;5;241;43m.\u001b[39;49m\u001b[43mn_jobs\u001b[49m\u001b[43m,\u001b[49m\n\u001b[1;32m    478\u001b[0m \u001b[43m    \u001b[49m\u001b[43mverbose\u001b[49m\u001b[38;5;241;43m=\u001b[39;49m\u001b[38;5;28;43mself\u001b[39;49m\u001b[38;5;241;43m.\u001b[39;49m\u001b[43mverbose\u001b[49m\u001b[43m,\u001b[49m\n\u001b[1;32m    479\u001b[0m \u001b[43m    \u001b[49m\u001b[43mprefer\u001b[49m\u001b[38;5;241;43m=\u001b[39;49m\u001b[38;5;124;43m\"\u001b[39;49m\u001b[38;5;124;43mthreads\u001b[39;49m\u001b[38;5;124;43m\"\u001b[39;49m\u001b[43m,\u001b[49m\n\u001b[1;32m    480\u001b[0m \u001b[43m\u001b[49m\u001b[43m)\u001b[49m\u001b[43m(\u001b[49m\n\u001b[1;32m    481\u001b[0m \u001b[43m    \u001b[49m\u001b[43mdelayed\u001b[49m\u001b[43m(\u001b[49m\u001b[43m_parallel_build_trees\u001b[49m\u001b[43m)\u001b[49m\u001b[43m(\u001b[49m\n\u001b[1;32m    482\u001b[0m \u001b[43m        \u001b[49m\u001b[43mt\u001b[49m\u001b[43m,\u001b[49m\n\u001b[1;32m    483\u001b[0m \u001b[43m        \u001b[49m\u001b[38;5;28;43mself\u001b[39;49m\u001b[38;5;241;43m.\u001b[39;49m\u001b[43mbootstrap\u001b[49m\u001b[43m,\u001b[49m\n\u001b[1;32m    484\u001b[0m \u001b[43m        \u001b[49m\u001b[43mX\u001b[49m\u001b[43m,\u001b[49m\n\u001b[1;32m    485\u001b[0m \u001b[43m        \u001b[49m\u001b[43my\u001b[49m\u001b[43m,\u001b[49m\n\u001b[1;32m    486\u001b[0m \u001b[43m        \u001b[49m\u001b[43msample_weight\u001b[49m\u001b[43m,\u001b[49m\n\u001b[1;32m    487\u001b[0m \u001b[43m        \u001b[49m\u001b[43mi\u001b[49m\u001b[43m,\u001b[49m\n\u001b[1;32m    488\u001b[0m \u001b[43m        \u001b[49m\u001b[38;5;28;43mlen\u001b[39;49m\u001b[43m(\u001b[49m\u001b[43mtrees\u001b[49m\u001b[43m)\u001b[49m\u001b[43m,\u001b[49m\n\u001b[1;32m    489\u001b[0m \u001b[43m        \u001b[49m\u001b[43mverbose\u001b[49m\u001b[38;5;241;43m=\u001b[39;49m\u001b[38;5;28;43mself\u001b[39;49m\u001b[38;5;241;43m.\u001b[39;49m\u001b[43mverbose\u001b[49m\u001b[43m,\u001b[49m\n\u001b[1;32m    490\u001b[0m \u001b[43m        \u001b[49m\u001b[43mclass_weight\u001b[49m\u001b[38;5;241;43m=\u001b[39;49m\u001b[38;5;28;43mself\u001b[39;49m\u001b[38;5;241;43m.\u001b[39;49m\u001b[43mclass_weight\u001b[49m\u001b[43m,\u001b[49m\n\u001b[1;32m    491\u001b[0m \u001b[43m        \u001b[49m\u001b[43mn_samples_bootstrap\u001b[49m\u001b[38;5;241;43m=\u001b[39;49m\u001b[43mn_samples_bootstrap\u001b[49m\u001b[43m,\u001b[49m\n\u001b[1;32m    492\u001b[0m \u001b[43m    \u001b[49m\u001b[43m)\u001b[49m\n\u001b[1;32m    493\u001b[0m \u001b[43m    \u001b[49m\u001b[38;5;28;43;01mfor\u001b[39;49;00m\u001b[43m \u001b[49m\u001b[43mi\u001b[49m\u001b[43m,\u001b[49m\u001b[43m \u001b[49m\u001b[43mt\u001b[49m\u001b[43m \u001b[49m\u001b[38;5;129;43;01min\u001b[39;49;00m\u001b[43m \u001b[49m\u001b[38;5;28;43menumerate\u001b[39;49m\u001b[43m(\u001b[49m\u001b[43mtrees\u001b[49m\u001b[43m)\u001b[49m\n\u001b[1;32m    494\u001b[0m \u001b[43m\u001b[49m\u001b[43m)\u001b[49m\n\u001b[1;32m    496\u001b[0m \u001b[38;5;66;03m# Collect newly grown trees\u001b[39;00m\n\u001b[1;32m    497\u001b[0m \u001b[38;5;28mself\u001b[39m\u001b[38;5;241m.\u001b[39mestimators_\u001b[38;5;241m.\u001b[39mextend(trees)\n",
      "File \u001b[0;32m/scratch/knerr/venvs/cs66/lib/python3.10/site-packages/joblib/parallel.py:1088\u001b[0m, in \u001b[0;36mParallel.__call__\u001b[0;34m(self, iterable)\u001b[0m\n\u001b[1;32m   1085\u001b[0m \u001b[38;5;28;01mif\u001b[39;00m \u001b[38;5;28mself\u001b[39m\u001b[38;5;241m.\u001b[39mdispatch_one_batch(iterator):\n\u001b[1;32m   1086\u001b[0m     \u001b[38;5;28mself\u001b[39m\u001b[38;5;241m.\u001b[39m_iterating \u001b[38;5;241m=\u001b[39m \u001b[38;5;28mself\u001b[39m\u001b[38;5;241m.\u001b[39m_original_iterator \u001b[38;5;129;01mis\u001b[39;00m \u001b[38;5;129;01mnot\u001b[39;00m \u001b[38;5;28;01mNone\u001b[39;00m\n\u001b[0;32m-> 1088\u001b[0m \u001b[38;5;28;01mwhile\u001b[39;00m \u001b[38;5;28;43mself\u001b[39;49m\u001b[38;5;241;43m.\u001b[39;49m\u001b[43mdispatch_one_batch\u001b[49m\u001b[43m(\u001b[49m\u001b[43miterator\u001b[49m\u001b[43m)\u001b[49m:\n\u001b[1;32m   1089\u001b[0m     \u001b[38;5;28;01mpass\u001b[39;00m\n\u001b[1;32m   1091\u001b[0m \u001b[38;5;28;01mif\u001b[39;00m pre_dispatch \u001b[38;5;241m==\u001b[39m \u001b[38;5;124m\"\u001b[39m\u001b[38;5;124mall\u001b[39m\u001b[38;5;124m\"\u001b[39m \u001b[38;5;129;01mor\u001b[39;00m n_jobs \u001b[38;5;241m==\u001b[39m \u001b[38;5;241m1\u001b[39m:\n\u001b[1;32m   1092\u001b[0m     \u001b[38;5;66;03m# The iterable was consumed all at once by the above for loop.\u001b[39;00m\n\u001b[1;32m   1093\u001b[0m     \u001b[38;5;66;03m# No need to wait for async callbacks to trigger to\u001b[39;00m\n\u001b[1;32m   1094\u001b[0m     \u001b[38;5;66;03m# consumption.\u001b[39;00m\n",
      "File \u001b[0;32m/scratch/knerr/venvs/cs66/lib/python3.10/site-packages/joblib/parallel.py:901\u001b[0m, in \u001b[0;36mParallel.dispatch_one_batch\u001b[0;34m(self, iterator)\u001b[0m\n\u001b[1;32m    899\u001b[0m     \u001b[38;5;28;01mreturn\u001b[39;00m \u001b[38;5;28;01mFalse\u001b[39;00m\n\u001b[1;32m    900\u001b[0m \u001b[38;5;28;01melse\u001b[39;00m:\n\u001b[0;32m--> 901\u001b[0m     \u001b[38;5;28;43mself\u001b[39;49m\u001b[38;5;241;43m.\u001b[39;49m\u001b[43m_dispatch\u001b[49m\u001b[43m(\u001b[49m\u001b[43mtasks\u001b[49m\u001b[43m)\u001b[49m\n\u001b[1;32m    902\u001b[0m     \u001b[38;5;28;01mreturn\u001b[39;00m \u001b[38;5;28;01mTrue\u001b[39;00m\n",
      "File \u001b[0;32m/scratch/knerr/venvs/cs66/lib/python3.10/site-packages/joblib/parallel.py:819\u001b[0m, in \u001b[0;36mParallel._dispatch\u001b[0;34m(self, batch)\u001b[0m\n\u001b[1;32m    817\u001b[0m \u001b[38;5;28;01mwith\u001b[39;00m \u001b[38;5;28mself\u001b[39m\u001b[38;5;241m.\u001b[39m_lock:\n\u001b[1;32m    818\u001b[0m     job_idx \u001b[38;5;241m=\u001b[39m \u001b[38;5;28mlen\u001b[39m(\u001b[38;5;28mself\u001b[39m\u001b[38;5;241m.\u001b[39m_jobs)\n\u001b[0;32m--> 819\u001b[0m     job \u001b[38;5;241m=\u001b[39m \u001b[38;5;28;43mself\u001b[39;49m\u001b[38;5;241;43m.\u001b[39;49m\u001b[43m_backend\u001b[49m\u001b[38;5;241;43m.\u001b[39;49m\u001b[43mapply_async\u001b[49m\u001b[43m(\u001b[49m\u001b[43mbatch\u001b[49m\u001b[43m,\u001b[49m\u001b[43m \u001b[49m\u001b[43mcallback\u001b[49m\u001b[38;5;241;43m=\u001b[39;49m\u001b[43mcb\u001b[49m\u001b[43m)\u001b[49m\n\u001b[1;32m    820\u001b[0m     \u001b[38;5;66;03m# A job can complete so quickly than its callback is\u001b[39;00m\n\u001b[1;32m    821\u001b[0m     \u001b[38;5;66;03m# called before we get here, causing self._jobs to\u001b[39;00m\n\u001b[1;32m    822\u001b[0m     \u001b[38;5;66;03m# grow. To ensure correct results ordering, .insert is\u001b[39;00m\n\u001b[1;32m    823\u001b[0m     \u001b[38;5;66;03m# used (rather than .append) in the following line\u001b[39;00m\n\u001b[1;32m    824\u001b[0m     \u001b[38;5;28mself\u001b[39m\u001b[38;5;241m.\u001b[39m_jobs\u001b[38;5;241m.\u001b[39minsert(job_idx, job)\n",
      "File \u001b[0;32m/scratch/knerr/venvs/cs66/lib/python3.10/site-packages/joblib/_parallel_backends.py:208\u001b[0m, in \u001b[0;36mSequentialBackend.apply_async\u001b[0;34m(self, func, callback)\u001b[0m\n\u001b[1;32m    206\u001b[0m \u001b[38;5;28;01mdef\u001b[39;00m \u001b[38;5;21mapply_async\u001b[39m(\u001b[38;5;28mself\u001b[39m, func, callback\u001b[38;5;241m=\u001b[39m\u001b[38;5;28;01mNone\u001b[39;00m):\n\u001b[1;32m    207\u001b[0m     \u001b[38;5;124;03m\"\"\"Schedule a func to be run\"\"\"\u001b[39;00m\n\u001b[0;32m--> 208\u001b[0m     result \u001b[38;5;241m=\u001b[39m \u001b[43mImmediateResult\u001b[49m\u001b[43m(\u001b[49m\u001b[43mfunc\u001b[49m\u001b[43m)\u001b[49m\n\u001b[1;32m    209\u001b[0m     \u001b[38;5;28;01mif\u001b[39;00m callback:\n\u001b[1;32m    210\u001b[0m         callback(result)\n",
      "File \u001b[0;32m/scratch/knerr/venvs/cs66/lib/python3.10/site-packages/joblib/_parallel_backends.py:597\u001b[0m, in \u001b[0;36mImmediateResult.__init__\u001b[0;34m(self, batch)\u001b[0m\n\u001b[1;32m    594\u001b[0m \u001b[38;5;28;01mdef\u001b[39;00m \u001b[38;5;21m__init__\u001b[39m(\u001b[38;5;28mself\u001b[39m, batch):\n\u001b[1;32m    595\u001b[0m     \u001b[38;5;66;03m# Don't delay the application, to avoid keeping the input\u001b[39;00m\n\u001b[1;32m    596\u001b[0m     \u001b[38;5;66;03m# arguments in memory\u001b[39;00m\n\u001b[0;32m--> 597\u001b[0m     \u001b[38;5;28mself\u001b[39m\u001b[38;5;241m.\u001b[39mresults \u001b[38;5;241m=\u001b[39m \u001b[43mbatch\u001b[49m\u001b[43m(\u001b[49m\u001b[43m)\u001b[49m\n",
      "File \u001b[0;32m/scratch/knerr/venvs/cs66/lib/python3.10/site-packages/joblib/parallel.py:288\u001b[0m, in \u001b[0;36mBatchedCalls.__call__\u001b[0;34m(self)\u001b[0m\n\u001b[1;32m    284\u001b[0m \u001b[38;5;28;01mdef\u001b[39;00m \u001b[38;5;21m__call__\u001b[39m(\u001b[38;5;28mself\u001b[39m):\n\u001b[1;32m    285\u001b[0m     \u001b[38;5;66;03m# Set the default nested backend to self._backend but do not set the\u001b[39;00m\n\u001b[1;32m    286\u001b[0m     \u001b[38;5;66;03m# change the default number of processes to -1\u001b[39;00m\n\u001b[1;32m    287\u001b[0m     \u001b[38;5;28;01mwith\u001b[39;00m parallel_backend(\u001b[38;5;28mself\u001b[39m\u001b[38;5;241m.\u001b[39m_backend, n_jobs\u001b[38;5;241m=\u001b[39m\u001b[38;5;28mself\u001b[39m\u001b[38;5;241m.\u001b[39m_n_jobs):\n\u001b[0;32m--> 288\u001b[0m         \u001b[38;5;28;01mreturn\u001b[39;00m [func(\u001b[38;5;241m*\u001b[39margs, \u001b[38;5;241m*\u001b[39m\u001b[38;5;241m*\u001b[39mkwargs)\n\u001b[1;32m    289\u001b[0m                 \u001b[38;5;28;01mfor\u001b[39;00m func, args, kwargs \u001b[38;5;129;01min\u001b[39;00m \u001b[38;5;28mself\u001b[39m\u001b[38;5;241m.\u001b[39mitems]\n",
      "File \u001b[0;32m/scratch/knerr/venvs/cs66/lib/python3.10/site-packages/joblib/parallel.py:288\u001b[0m, in \u001b[0;36m<listcomp>\u001b[0;34m(.0)\u001b[0m\n\u001b[1;32m    284\u001b[0m \u001b[38;5;28;01mdef\u001b[39;00m \u001b[38;5;21m__call__\u001b[39m(\u001b[38;5;28mself\u001b[39m):\n\u001b[1;32m    285\u001b[0m     \u001b[38;5;66;03m# Set the default nested backend to self._backend but do not set the\u001b[39;00m\n\u001b[1;32m    286\u001b[0m     \u001b[38;5;66;03m# change the default number of processes to -1\u001b[39;00m\n\u001b[1;32m    287\u001b[0m     \u001b[38;5;28;01mwith\u001b[39;00m parallel_backend(\u001b[38;5;28mself\u001b[39m\u001b[38;5;241m.\u001b[39m_backend, n_jobs\u001b[38;5;241m=\u001b[39m\u001b[38;5;28mself\u001b[39m\u001b[38;5;241m.\u001b[39m_n_jobs):\n\u001b[0;32m--> 288\u001b[0m         \u001b[38;5;28;01mreturn\u001b[39;00m [\u001b[43mfunc\u001b[49m\u001b[43m(\u001b[49m\u001b[38;5;241;43m*\u001b[39;49m\u001b[43margs\u001b[49m\u001b[43m,\u001b[49m\u001b[43m \u001b[49m\u001b[38;5;241;43m*\u001b[39;49m\u001b[38;5;241;43m*\u001b[39;49m\u001b[43mkwargs\u001b[49m\u001b[43m)\u001b[49m\n\u001b[1;32m    289\u001b[0m                 \u001b[38;5;28;01mfor\u001b[39;00m func, args, kwargs \u001b[38;5;129;01min\u001b[39;00m \u001b[38;5;28mself\u001b[39m\u001b[38;5;241m.\u001b[39mitems]\n",
      "File \u001b[0;32m/scratch/knerr/venvs/cs66/lib/python3.10/site-packages/sklearn/utils/fixes.py:117\u001b[0m, in \u001b[0;36m_FuncWrapper.__call__\u001b[0;34m(self, *args, **kwargs)\u001b[0m\n\u001b[1;32m    115\u001b[0m \u001b[38;5;28;01mdef\u001b[39;00m \u001b[38;5;21m__call__\u001b[39m(\u001b[38;5;28mself\u001b[39m, \u001b[38;5;241m*\u001b[39margs, \u001b[38;5;241m*\u001b[39m\u001b[38;5;241m*\u001b[39mkwargs):\n\u001b[1;32m    116\u001b[0m     \u001b[38;5;28;01mwith\u001b[39;00m config_context(\u001b[38;5;241m*\u001b[39m\u001b[38;5;241m*\u001b[39m\u001b[38;5;28mself\u001b[39m\u001b[38;5;241m.\u001b[39mconfig):\n\u001b[0;32m--> 117\u001b[0m         \u001b[38;5;28;01mreturn\u001b[39;00m \u001b[38;5;28;43mself\u001b[39;49m\u001b[38;5;241;43m.\u001b[39;49m\u001b[43mfunction\u001b[49m\u001b[43m(\u001b[49m\u001b[38;5;241;43m*\u001b[39;49m\u001b[43margs\u001b[49m\u001b[43m,\u001b[49m\u001b[43m \u001b[49m\u001b[38;5;241;43m*\u001b[39;49m\u001b[38;5;241;43m*\u001b[39;49m\u001b[43mkwargs\u001b[49m\u001b[43m)\u001b[49m\n",
      "File \u001b[0;32m/scratch/knerr/venvs/cs66/lib/python3.10/site-packages/sklearn/ensemble/_forest.py:176\u001b[0m, in \u001b[0;36m_parallel_build_trees\u001b[0;34m(tree, bootstrap, X, y, sample_weight, tree_idx, n_trees, verbose, class_weight, n_samples_bootstrap)\u001b[0m\n\u001b[1;32m    173\u001b[0m \u001b[38;5;28;01melse\u001b[39;00m:\n\u001b[1;32m    174\u001b[0m     curr_sample_weight \u001b[38;5;241m=\u001b[39m sample_weight\u001b[38;5;241m.\u001b[39mcopy()\n\u001b[0;32m--> 176\u001b[0m indices \u001b[38;5;241m=\u001b[39m \u001b[43m_generate_sample_indices\u001b[49m\u001b[43m(\u001b[49m\n\u001b[1;32m    177\u001b[0m \u001b[43m    \u001b[49m\u001b[43mtree\u001b[49m\u001b[38;5;241;43m.\u001b[39;49m\u001b[43mrandom_state\u001b[49m\u001b[43m,\u001b[49m\u001b[43m \u001b[49m\u001b[43mn_samples\u001b[49m\u001b[43m,\u001b[49m\u001b[43m \u001b[49m\u001b[43mn_samples_bootstrap\u001b[49m\n\u001b[1;32m    178\u001b[0m \u001b[43m\u001b[49m\u001b[43m)\u001b[49m\n\u001b[1;32m    179\u001b[0m sample_counts \u001b[38;5;241m=\u001b[39m np\u001b[38;5;241m.\u001b[39mbincount(indices, minlength\u001b[38;5;241m=\u001b[39mn_samples)\n\u001b[1;32m    180\u001b[0m curr_sample_weight \u001b[38;5;241m*\u001b[39m\u001b[38;5;241m=\u001b[39m sample_counts\n",
      "File \u001b[0;32m/scratch/knerr/venvs/cs66/lib/python3.10/site-packages/sklearn/ensemble/_forest.py:132\u001b[0m, in \u001b[0;36m_generate_sample_indices\u001b[0;34m(random_state, n_samples, n_samples_bootstrap)\u001b[0m\n\u001b[1;32m    128\u001b[0m \u001b[38;5;28;01mdef\u001b[39;00m \u001b[38;5;21m_generate_sample_indices\u001b[39m(random_state, n_samples, n_samples_bootstrap):\n\u001b[1;32m    129\u001b[0m     \u001b[38;5;124;03m\"\"\"\u001b[39;00m\n\u001b[1;32m    130\u001b[0m \u001b[38;5;124;03m    Private function used to _parallel_build_trees function.\"\"\"\u001b[39;00m\n\u001b[0;32m--> 132\u001b[0m     random_instance \u001b[38;5;241m=\u001b[39m \u001b[43mcheck_random_state\u001b[49m\u001b[43m(\u001b[49m\u001b[43mrandom_state\u001b[49m\u001b[43m)\u001b[49m\n\u001b[1;32m    133\u001b[0m     sample_indices \u001b[38;5;241m=\u001b[39m random_instance\u001b[38;5;241m.\u001b[39mrandint(\u001b[38;5;241m0\u001b[39m, n_samples, n_samples_bootstrap)\n\u001b[1;32m    135\u001b[0m     \u001b[38;5;28;01mreturn\u001b[39;00m sample_indices\n",
      "File \u001b[0;32m/scratch/knerr/venvs/cs66/lib/python3.10/site-packages/sklearn/utils/validation.py:1180\u001b[0m, in \u001b[0;36mcheck_random_state\u001b[0;34m(seed)\u001b[0m\n\u001b[1;32m   1178\u001b[0m     \u001b[38;5;28;01mreturn\u001b[39;00m np\u001b[38;5;241m.\u001b[39mrandom\u001b[38;5;241m.\u001b[39mmtrand\u001b[38;5;241m.\u001b[39m_rand\n\u001b[1;32m   1179\u001b[0m \u001b[38;5;28;01mif\u001b[39;00m \u001b[38;5;28misinstance\u001b[39m(seed, numbers\u001b[38;5;241m.\u001b[39mIntegral):\n\u001b[0;32m-> 1180\u001b[0m     \u001b[38;5;28;01mreturn\u001b[39;00m \u001b[43mnp\u001b[49m\u001b[38;5;241;43m.\u001b[39;49m\u001b[43mrandom\u001b[49m\u001b[38;5;241;43m.\u001b[39;49m\u001b[43mRandomState\u001b[49m\u001b[43m(\u001b[49m\u001b[43mseed\u001b[49m\u001b[43m)\u001b[49m\n\u001b[1;32m   1181\u001b[0m \u001b[38;5;28;01mif\u001b[39;00m \u001b[38;5;28misinstance\u001b[39m(seed, np\u001b[38;5;241m.\u001b[39mrandom\u001b[38;5;241m.\u001b[39mRandomState):\n\u001b[1;32m   1182\u001b[0m     \u001b[38;5;28;01mreturn\u001b[39;00m seed\n",
      "File \u001b[0;32mmtrand.pyx:184\u001b[0m, in \u001b[0;36mnumpy.random.mtrand.RandomState.__init__\u001b[0;34m()\u001b[0m\n",
      "File \u001b[0;32m_mt19937.pyx:130\u001b[0m, in \u001b[0;36mnumpy.random._mt19937.MT19937.__init__\u001b[0;34m()\u001b[0m\n",
      "File \u001b[0;32m/usr/lib/python3.10/contextlib.py:78\u001b[0m, in \u001b[0;36mContextDecorator.__call__.<locals>.inner\u001b[0;34m(*args, **kwds)\u001b[0m\n\u001b[1;32m     76\u001b[0m \u001b[38;5;129m@wraps\u001b[39m(func)\n\u001b[1;32m     77\u001b[0m \u001b[38;5;28;01mdef\u001b[39;00m \u001b[38;5;21minner\u001b[39m(\u001b[38;5;241m*\u001b[39margs, \u001b[38;5;241m*\u001b[39m\u001b[38;5;241m*\u001b[39mkwds):\n\u001b[0;32m---> 78\u001b[0m     \u001b[38;5;28;01mwith\u001b[39;00m \u001b[38;5;28mself\u001b[39m\u001b[38;5;241m.\u001b[39m_recreate_cm():\n\u001b[1;32m     79\u001b[0m         \u001b[38;5;28;01mreturn\u001b[39;00m func(\u001b[38;5;241m*\u001b[39margs, \u001b[38;5;241m*\u001b[39m\u001b[38;5;241m*\u001b[39mkwds)\n",
      "File \u001b[0;32m/scratch/knerr/venvs/cs66/lib/python3.10/site-packages/numpy/core/_ufunc_config.py:431\u001b[0m, in \u001b[0;36merrstate.__enter__\u001b[0;34m(self)\u001b[0m\n\u001b[1;32m    430\u001b[0m \u001b[38;5;28;01mdef\u001b[39;00m \u001b[38;5;21m__enter__\u001b[39m(\u001b[38;5;28mself\u001b[39m):\n\u001b[0;32m--> 431\u001b[0m     \u001b[38;5;28mself\u001b[39m\u001b[38;5;241m.\u001b[39moldstate \u001b[38;5;241m=\u001b[39m \u001b[43mseterr\u001b[49m\u001b[43m(\u001b[49m\u001b[38;5;241;43m*\u001b[39;49m\u001b[38;5;241;43m*\u001b[39;49m\u001b[38;5;28;43mself\u001b[39;49m\u001b[38;5;241;43m.\u001b[39;49m\u001b[43mkwargs\u001b[49m\u001b[43m)\u001b[49m\n\u001b[1;32m    432\u001b[0m     \u001b[38;5;28;01mif\u001b[39;00m \u001b[38;5;28mself\u001b[39m\u001b[38;5;241m.\u001b[39mcall \u001b[38;5;129;01mis\u001b[39;00m \u001b[38;5;129;01mnot\u001b[39;00m _Unspecified:\n\u001b[1;32m    433\u001b[0m         \u001b[38;5;28mself\u001b[39m\u001b[38;5;241m.\u001b[39moldcall \u001b[38;5;241m=\u001b[39m seterrcall(\u001b[38;5;28mself\u001b[39m\u001b[38;5;241m.\u001b[39mcall)\n",
      "File \u001b[0;32m/scratch/knerr/venvs/cs66/lib/python3.10/site-packages/numpy/core/_ufunc_config.py:128\u001b[0m, in \u001b[0;36mseterr\u001b[0;34m(all, divide, over, under, invalid)\u001b[0m\n\u001b[1;32m    122\u001b[0m maskvalue \u001b[38;5;241m=\u001b[39m ((_errdict[divide] \u001b[38;5;241m<<\u001b[39m SHIFT_DIVIDEBYZERO) \u001b[38;5;241m+\u001b[39m\n\u001b[1;32m    123\u001b[0m              (_errdict[over] \u001b[38;5;241m<<\u001b[39m SHIFT_OVERFLOW) \u001b[38;5;241m+\u001b[39m\n\u001b[1;32m    124\u001b[0m              (_errdict[under] \u001b[38;5;241m<<\u001b[39m SHIFT_UNDERFLOW) \u001b[38;5;241m+\u001b[39m\n\u001b[1;32m    125\u001b[0m              (_errdict[invalid] \u001b[38;5;241m<<\u001b[39m SHIFT_INVALID))\n\u001b[1;32m    127\u001b[0m pyvals[\u001b[38;5;241m1\u001b[39m] \u001b[38;5;241m=\u001b[39m maskvalue\n\u001b[0;32m--> 128\u001b[0m \u001b[43mumath\u001b[49m\u001b[38;5;241;43m.\u001b[39;49m\u001b[43mseterrobj\u001b[49m\u001b[43m(\u001b[49m\u001b[43mpyvals\u001b[49m\u001b[43m)\u001b[49m\n\u001b[1;32m    129\u001b[0m \u001b[38;5;28;01mreturn\u001b[39;00m old\n",
      "\u001b[0;31mKeyboardInterrupt\u001b[0m: "
     ]
    }
   ],
   "source": [
    "#Optional: if you want to run code for your analysis, this is a place you could put it\\\n",
    "\n",
    "results = runPipeline(\"wine\")\n",
    "\n",
    "methodAResults = results[0]\n",
    "methodBResults = results[1]\n",
    "\n",
    "w, p = scipy.stats.wilcoxon(methodAResults, methodBResults)\n",
    "print(\"\\nP-value is: \", p)"
   ]
  },
  {
   "cell_type": "markdown",
   "metadata": {},
   "source": [
    "### MNIST Data Set \n",
    "\n",
    "\n",
    "| Classifier | Fold 1 | Fold 2 | Fold 3 | Fold 4 | Fold 5 | Mean Accuracy |\n",
    "|------------|--------|--------|--------|--------|--------|---------------|\n",
    "|RF | 0.965 | 0.921 | 0.947 | 0.974 | 0.965 | 0.958 |\n",
    "| SGD | 0.886 | 0.904 | 0.895 | 0.956 | 0.965 | 0.921 |\n",
    "\n",
    "Each call to RF had varied results when it came to tuning the hyperparamters themselves, but the mean accuracy for each fold remained consistently high at 0.954 with each fold scoring consistently above 0.92 for each run. The max_features hyperparameter was usually optimized at 'sqrt' though some preference was also given to 5 for this particular data set. The n_estimators hyperparameter was varied with some preference given to 200 which makes sense as the middle ground is likely to work for a wide variety of shuffled data points. Each call to the SGD classifier had more varied results, though an 'optimal' learning rate was consistently favored. The mean accuracy generally stayed around 0.9, but the difference between the two classifiers is not statistically significant, as suggested by the low p-value of 0.068. Generally, RF makes sense as a better fit because training an ensemble of trees to get the average prediction of the individual classifiers will allow for better generalization when the classifier is presented with a novel query. The multiple sources of randomness when incorporating RF into a K-Fold model further decreases variance, which helps offset the tendency of a decision tree classifier to overfit.\n",
    "\n",
    "### Wine Recognition Data Set\n",
    "\n",
    "| Classifier | Fold 1 | Fold 2 | Fold 3 | Fold 4 | Fold 5 | Mean Accuracy |\n",
    "|------------|--------|--------|--------|--------|--------|---------------|\n",
    "| RF | 0.974 | 0.939 | 0.974 | 0.956 | 0.973 | 0.963 |\n",
    "| SGD | 0.886 | 0.904 | 0.842 | 0.947 | 0.947 | 0.905 |\n",
    "\n",
    "\n",
    "Each call to RF on this data set had more consisent results for tuning each hyperparameter, with max_features usually being set to 10 and n_estimators being 200 or 300. This suggests that the wine recognition data set has a higher bias and lower variance compared to the MNIST data set since broader assumptions about the data creates pretty good splits across the board even when the training data is varied. This seems generally true for the SGD classifier as well, with a clear preference for a hinge loss function and optimal learning rate, though invscaling did come up as being a best learning_rate a few times. Though the RF classifier has marginally better performance, a low p-value of 0.0625 suggests that this difference is not statistically significant. I am surprised that SGD has a better performance on the MNIST data set than the Wine Recognition data set because I'd assume lower variance would mean that feature weights could be more consistent, but the MNIST data set does have more examples, so I think that is a contributing factor in ensuring that the model generated from the training data is better at generalizing over the testing data.\n",
    "\n",
    "***\n",
    "## Part 6A: Validation Curves\n",
    "\n",
    "In this part, you will focus on generating validation curves to visualize the impact of the hyperparameters on the model. This is a useful technique for analyzing machine learning models and datasets.  You will generate the curves for at least two classifiers, one of which must be Random Forests.\n",
    "\n",
    "**Note that the examples in the notebook `plot_curves.ipynb` show much of what you need here**\n"
   ]
  },
  {
   "cell_type": "markdown",
   "metadata": {},
   "source": [
    "\n",
    "### Coding requirements\n",
    "\n",
    "* Follow the same guidelines for loading the data as in Part 1 (support at least MNIST and 20 Newsgroup).  If you wrote your code above in a modular fashion, you should be able to reuse it for this part as well.\n",
    "* For Random Forests, you will generate a curve for the number of trees (i.e., `n_estimators`). Try all values from 1 to 201 spaced by 10 (i.e., 1, 11, 21, ..., 201). Keep all other hyperparameters at their default values.\n",
    "* For other classifiers, you'll need to come up with appropriate values.  For instance, if using Support Vector Machines with an RBF kernel, you might range over gamma values $10^{-4},10^{-3},10^{-2},10^{-1},1$.\n",
    "* To generate the data for the curve, you need the [`validation_curve`](https://scikit-learn.org/stable/modules/generated/sklearn.model_selection.validation_curve.html#sklearn.model_selection.validation_curve) method, which returns the training and test set accuracies for each parameter and each fold. Use 3-fold cross validation in the parameters; this will return to three estimates for each setting to provide a more robust estimate without taking an excessive amount of time.\n",
    "*  Print the following for each parameter value: the parameter value, the average train accuracy across the three folds, and the average test accuracy across the three folds. \n",
    "* Plot the data using [`matplotlib`](https://matplotlib.org/stable/users/index.html) (see this [basic tutorial](https://matplotlib.org/stable/tutorials/introductory/usage.html#sphx-glr-tutorials-introductory-usage-py) to get started with matplotlib).  The image should include a title (name of the algorithm), axis labels (the hyperparameter on the x-axis and accuracy on the y), a legend, and a different color for the training accuracy and testing accuracy. For SVM's gamma parameter, use a log plot using `semilogx` as in [this example](https://www.statology.org/matplotlib-log-plot/).  See the example output below.\n",
    "\n",
    "\n",
    "Here is the result if we run `KNeighborsClassifier` with all odd $k$ values from 1 to 21 (this is not your task, you are doing SVMs and Random Forests, but your output should be similarly formatted):\n",
    "\n",
    "```\n",
    ">> generateCurve('mnist', 'KNN')\n",
    "\n",
    "Neighbors, Train Accuracy, Test Accuracy\n",
    "1, 1.000, 0.853\n",
    "3, 0.925, 0.853\n",
    "5, 0.910, 0.851\n",
    "7, 0.884, 0.843\n",
    "9, 0.871, 0.841\n",
    "11, 0.864, 0.830\n",
    "13, 0.849, 0.812\n",
    "15, 0.845, 0.812\n",
    "17, 0.834, 0.807\n",
    "19, 0.826, 0.802\n",
    "21, 0.815, 0.788\n",
    "```\n",
    "\n",
    "![Plot](KNN-curve.png)\n",
    "\n",
    "This example image is also provided in your repository as the file `KNN-curve.png`."
   ]
  },
  {
   "cell_type": "code",
   "execution_count": null,
   "metadata": {},
   "outputs": [],
   "source": [
    "from sklearn.model_selection import validation_curve\n",
    "from sklearn.svm import SVC"
   ]
  },
  {
   "cell_type": "code",
   "execution_count": null,
   "metadata": {},
   "outputs": [],
   "source": [
    "\"\"\"\n",
    "generating validation curves to visualize the impact of \n",
    "hyperparameters on given model\n",
    "\n",
    "PARAMETERS\n",
    "   dataSetName - string representing name of dataset\n",
    "   method - string representing model to visualize\n",
    "\"\"\"\n",
    "def generateCurves(dataSetName, method):\n",
    "\n",
    "    # load data set \n",
    "    ds = loadDataSet(dataSetName)\n",
    "    if ds == False:\n",
    "        return\n",
    "    \n",
    "    X = ds[0]\n",
    "    y = ds[1]\n",
    "\n",
    "    if method == \"SVM\":\n",
    "        \n",
    "        # create classifiers and generate data\n",
    "        svm = SVC()\n",
    "        kRange = np.array([0.0001, 0.001, 0.01, 0.1, 1])\n",
    "        strArr = [\"SVM\", \"Gamma\"]\n",
    "        trainAcc, testAcc = validation_curve(svm, X, y, param_name=\"gamma\", param_range=kRange, cv=3, n_jobs=3)\n",
    "        \n",
    "        # visualize results\n",
    "        visualizeCurve(strArr, svm, ds, kRange, trainAcc, testAcc)\n",
    "    elif method == \"RF\":\n",
    "        # create classifier and generate data\n",
    "        rf = ensemble.RandomForestClassifier(n_estimators=200)\n",
    "        kRange = np.arange(1,201,10).astype('int')\n",
    "        strArr = [\"RF\", \"Trees\"]\n",
    "        trainAcc, testAcc = validation_curve(rf, X, y, param_name=\"n_estimators\", param_range=kRange, cv=3, n_jobs=3)\n",
    "        \n",
    "        # visualize results\n",
    "        visualizeCurve(strArr, rf, ds, kRange, trainAcc, testAcc)\n",
    "    else:\n",
    "        print(\"Invalid method, use one of the following methods:\")\n",
    "        print(\"\\tSVM - Support Vector Machines\")\n",
    "        print(\"\\tRF - Random Forest Classifier\")\n",
    "        \n",
    "    return"
   ]
  },
  {
   "cell_type": "code",
   "execution_count": null,
   "metadata": {},
   "outputs": [],
   "source": [
    "\"\"\"\n",
    "visualizes validation curve\n",
    "\n",
    "PARAMETERS\n",
    "   strings - array of method specific strings\n",
    "   clf - classifier\n",
    "   kRange - range of hyperparameter values\n",
    "   xAxis - hyperparamter being tuned\n",
    "\"\"\"\n",
    "def visualizeCurve(strings, clf, ds, kRange, trainAcc, testAcc):\n",
    "\n",
    "    # generate data for validation curves\n",
    "    mean_trainAcc = np.mean(trainAcc, axis=1)\n",
    "    mean_testAcc = np.mean(testAcc, axis=1)\n",
    "    \n",
    "    # print results\n",
    "    print(strings[0])\n",
    "    print(strings[1], \", Train Accuracy, Test Accuracy\")\n",
    "    print(\"--------------------------------------------\")\n",
    "    for i in range(len(kRange)):\n",
    "        print(kRange[i], \"   %.3f   %.3f\" % (mean_trainAcc[i], mean_testAcc[i]))\n",
    "    \n",
    "    print(\"\\nMean Train Accuracy: %.3f\" % np.mean(mean_trainAcc))\n",
    "    print(\"Mean Test Accuracy: %.3f\" % np.mean(mean_testAcc))\n",
    "        \n",
    "    # generate curve\n",
    "    fig, ax = plt.subplots()\n",
    "    ax.plot(kRange, mean_trainAcc, label=\"Training Score\", color=\"darkorange\")\n",
    "    ax.plot(kRange, mean_testAcc, label=\"Testing Score\", color=\"navy\")\n",
    "    \n",
    "    plt.title(strings[0])\n",
    "    plt.xlabel(strings[1])\n",
    "    plt.ylabel(\"Accuracy\")\n",
    "    plt.ylim(0.0, 1.1)\n",
    "    plt.xticks(kRange)\n",
    "    \n",
    "    if strings[0] == \"SVM\":\n",
    "        plt.semilogx()\n",
    "    \n",
    "    plt.legend(loc=\"best\")\n",
    "    plt.show()"
   ]
  },
  {
   "cell_type": "code",
   "execution_count": null,
   "metadata": {},
   "outputs": [],
   "source": [
    "#write test code here\n",
    "generateCurves(\"cancer\",\"SVM\")\n",
    "generateCurves(\"cancer\",\"RF\")"
   ]
  },
  {
   "cell_type": "markdown",
   "metadata": {},
   "source": [
    "## Part 6B: Analysis\n",
    "\n",
    "Analyse your results for Part 2A. At a minimum, you should have:\n",
    "\n",
    "* A validation curve for each data set (cancer, etc.) and each method (Random Forests, etc.).  Each curve should have both the training and test accuracy, clearly labeled axes, and a legend. If appropriate, consider plotting your x-axis in log space to evenly space the points.\n",
    "\n",
    "* Analyze each of your curves. Your discussion should describe the results and relate it to relevant course topics such as bias/variance as well as overfitting/underfitting.  \n",
    "\n",
    "* What else do you find interesting?  For example, are some classifiers more robust or more sensitive to variation in the hyperparameter setting?\n",
    "\n",
    "Intersperse code and analysis below so that your figures show up with your analysis.  You will want to have multiple code/text blocks (it is up to you if you want to have 4 pairs of code/discussion blocks or to group them by e.g., data set or method)"
   ]
  },
  {
   "cell_type": "code",
   "execution_count": null,
   "metadata": {},
   "outputs": [],
   "source": [
    "generateCurves(\"mnist\",\"SVM\")\n",
    "generateCurves(\"mnist\",\"RF\")\n",
    "\n",
    "generateCurves(\"iris\",\"SVM\")\n",
    "generateCurves(\"iris\",\"RF\")"
   ]
  },
  {
   "cell_type": "markdown",
   "metadata": {},
   "source": [
    "### MNIST Data Set\n",
    "\n",
    "| Gamma | Train Accuracy | Test Accuracy | \n",
    "|-------|----------------|---------------|\n",
    "| $10^{-4}$ | 0.952 | 0.931 |\n",
    "| $10^{-3}$ | 0.978 | 0.921 |\n",
    "| $10^{-2}$ | 1.000 | 0.626 |\n",
    "| $10^{-1}$ | 1.000 | 0.627 |\n",
    "| 1.0 | 1.000 | 0.627 |\n",
    "\n",
    "**Mean Train Accuracy:** 0.986\n",
    "\n",
    "**Mean Test Accuracy:** 0.747\n",
    "\n",
    "From the data table above, we can see that as the value of gammma ($\\gamma$) gets higher, the accuracy of the SVM classifier on the training set gets higher, but the accuracy on the testing set gets lower, indicating overfitting. Conversely, as the value of $\\gamma$ gets lower, the opposite is true, suggesting that a lower $\\gamma$ value is better for generalization when using an SVM classifier on the MNIST data set.\n",
    "\n",
    "| Trees | Train Accuracy | Test Accuracy |\n",
    "|-------|----------------|---------------|\n",
    "| 1 | 0.967 | 0.891 |\n",
    "| 11 | 0.996 | 0.951 |\n",
    "| 21 | 1.000 | 0.961 |\n",
    "| 31 | 0.999 | 0.956 |\n",
    "| 41 | 1.000 | 0.951 |\n",
    "| 51 | 0.998 | 0.960 |\n",
    "| 61 | 1.000 | 0.953 |\n",
    "| 71 | 1.000 | 0.958 |\n",
    "| 81 | 1.000 | 0.951 |\n",
    "| 91 | 1.000 | 0.956 |\n",
    "| 101 | 1.000 | 0.960 |\n",
    "| 111 | 1.000 | 0.961 |\n",
    "| 121 | 1.000 | 0.956 |\n",
    "| 131 | 1.000 | 0.958 |\n",
    "| 141 | 1.000 | 0.961 |\n",
    "| 151 | 1.000 | 0.958 |\n",
    "| 161 | 1.000 | 0.960 |\n",
    "| 171 | 1.000 | 0.958 |\n",
    "| 181 | 1.000 | 0.958 |\n",
    "| 191 | 1.000 | 0.954 |\n",
    "\n",
    "**Mean Train Accuracy:** 0.998\n",
    "\n",
    "**Mean Test Accuracy:** 0.954\n",
    "\n",
    "From the data table above, we can see that as the number of trees gets greater, the accuracy of the RF classifier on the training and testing sets both get higher, suggesting that the by training an ensemble of decision trees, errors in over or underfitting have a better chance of cancelling out and averaging to a generally good prediction because it is able to reduce variance in combining a diversity of trees. The remaining error is likely due to an increase in bias because, as discussed in class, an decrease in variance is likely to lead to an increase in bias and vice versa. Because the mean train accuracy is higher than the mean test accuracy, we can see a slight tendency to overfit, that it seems marginal. \n",
    "\n",
    "\n",
    "### Iris Data Set\n",
    "| Gamma | Train Accuracy | Test Accuracy | \n",
    "|-------|----------------|---------------|\n",
    "| $10^{-4}$ | 0.340 | 0.320 |\n",
    "| $10^{-3}$ | 0.533 | 0.520 |\n",
    "| $10^{-2}$ | 1.940 | 0.940 |\n",
    "| $10^{-1}$ | 1.977 | 0.967 |\n",
    "| 1.0 | 1.987 | 0.967 |\n",
    "\n",
    "**Mean Train Accuracy:** 0.755\n",
    "\n",
    "**Mean Test Accuracy:** 0.743\n",
    "\n",
    "From the data table above, we can see that as the value of gammma ($\\gamma$) gets higher, the accuracy of the SVM classifier on the training and testing sets gets higher, suggesting that the iris data set can be generalized to perform better because we can give a lot of weight to a single example and get good results for classification. We see that the SVM classifier averages about a 75% accuracy rate, so the SVM model cannot be entirely trusted for classifying irises.\n",
    "\n",
    "| Trees | Train Accuracy | Test Accuracy |\n",
    "|-------|----------------|---------------|\n",
    "| 1 | 0.973 | 0.920\n",
    "| 11 | 0.990 | 0.960\n",
    "| 21 | 0.993 | 0.953\n",
    "| 31 | 1.000 | 0.960\n",
    "| 41 | 1.000 | 0.953\n",
    "| 51 | 1.000 | 0.967\n",
    "| 61 | 1.000 | 0.967\n",
    "| 71 | 1.000 | 0.960\n",
    "| 81 | 1.000 | 0.960\n",
    "| 91 | 1.000 | 0.960\n",
    "| 101 | 1.000 | 0.967\n",
    "| 111 | 1.000 | 0.967\n",
    "| 121 | 1.000 | 0.953\n",
    "| 131 | 1.000 | 0.967\n",
    "| 141 | 1.000 | 0.960\n",
    "| 151 | 1.000 | 0.960\n",
    "| 161 | 1.000 | 0.967\n",
    "| 171 | 1.000 | 0.960\n",
    "| 181 | 1.000 | 0.967\n",
    "| 191 | 1.000 | 0.960\n",
    "\n",
    "**Mean Train Accuracy:** 0.998\n",
    "\n",
    "**Mean Test Accuracy:** 0.959\n",
    "\n",
    "From the data table above, we can see that as the number of trees gets greater, the accuracy of the RF classifier on the training and testing sets both get higher, though that is not consistently true because at 151 trees, the classifier shows a decrease in test accuracy, though teh train accuracy remains high. This shows a tendency for overfitting the training data, though the marginal difference in the mean train accuracy and mean test accuracy suggests that it is not statistically significant for this particular data set. This classifier performs significantly better than the SVM classifier, so there must be some iris that has similar features to another iris such that placing more weight on one sample gives good generalized classifications, but fails to account for the features that RF is able to average out and take into consideration.\n",
    "\n",
    "### Conclusion\n",
    "It is clear from both data sets that the RF classifier performs better because the ensemble method with multiple sources of randomness is more robust and allows for better generalization. I found it interesting that the mean train accuracy for both data sets in the 5-fold CV on RF is 0.998 and the mean test accuracy is off by only 0.005, again exemplifying how powerful RF when it comes to generalization."
   ]
  },
  {
   "cell_type": "markdown",
   "metadata": {
    "tags": []
   },
   "source": [
    "## Submission\n",
    "\n",
    "Ensure your code above is:\n",
    "* Modular and following top-design principles.\n",
    "* Well-documented, with a top-level function comments describing purprose/parameters/return values and line-comments to explain major steps.\n",
    "* Cleaned-up: all `TODO`s, `pass` statements should be completed and removed.  Remove debugging prints/commented out code that is no longer needed.\n",
    "* Well-tested.  Be sure it works on several different data sets.\n",
    "\n",
    "For your analysis:\n",
    "* Writing should be clear, concise, and good English\n",
    "* Plots should have (legible and meaningful). titles, keys, and labels on axes.\n",
    "* It should always be clear what text is talking about what data/visualization (i.e. in your paragraphs, be clear about what plot your're referring to).\n"
   ]
  }
 ],
 "metadata": {
  "kernelspec": {
   "display_name": "Python 3 (ipykernel)",
   "language": "python",
   "name": "python3"
  },
  "language_info": {
   "codemirror_mode": {
    "name": "ipython",
    "version": 3
   },
   "file_extension": ".py",
   "mimetype": "text/x-python",
   "name": "python",
   "nbconvert_exporter": "python",
   "pygments_lexer": "ipython3",
   "version": "3.10.12"
  }
 },
 "nbformat": 4,
 "nbformat_minor": 4
}
