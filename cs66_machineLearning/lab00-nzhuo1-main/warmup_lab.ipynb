{
 "cells": [
  {
   "cell_type": "markdown",
   "metadata": {},
   "source": [
    "# Lab 0 - Warmup\n",
    "\n",
    "This lab is a quick \"warmup\" designed to (re)familiarize you with some of the tools we'll be using this semester.  \n",
    "\n",
    "The goals of this lab are:\n",
    "\n",
    "* Introduce (or refresh your memory of) the Python programming language\n",
    "* Introduce the Jupyter Lab programming environment and the Notebook style of development\n",
    "* Introduce several basic libraries we'll be using for reading and manipulating data\n",
    "* Give you a chance to practice and play around with things you'll need this semester so you're comfortable with them and can focus on course content in the future, rather than struggling to learn the content and the tools at the same time.\n",
    "\n",
    "It will be graded based on completion (i.e. did you do something and turn it in); **how much time you need to spend with it will depend on how much exposure you've had to these tools and concepts in previous courses.**  Take the time that you, personally, need to become comfortable with this stuff."
   ]
  },
  {
   "cell_type": "markdown",
   "metadata": {},
   "source": [
    "# Part 0: A quick introductory survey\n",
    "\n",
    "***\n",
    "Here is a link to a quick pre-survey for the course; if you haven't yet done so, please take a few minutes to complete it sometime before the end of the day on Friday so I can look at the results over the weekend.  This will help me get to know you better, and also help me make sure I deliver lectures and content at a level that will work for the majority of students.\n",
    "\n",
    "\n",
    "## Survey Link: https://forms.gle/8cT6EJxKS3xLEuRLA\n",
    "***"
   ]
  },
  {
   "cell_type": "markdown",
   "metadata": {
    "tags": []
   },
   "source": [
    "# Part 1: Introducing Python and Jupyter\n",
    "\n",
    "This first part of the assignment is intended to be a quick introduction to Jupyter Notebooks, and also a refresher on basic Python syntax.  If you're less experienced with Python, you may want to start by working through some tutorials online.\n",
    "We recommend [this tutorial](https://cs231n.github.io/python-numpy-tutorial/#python) which succinctly covers a lot of features that will be useful for this course.  Beyond that, there is a ton of information on Python on the internet; a quick search will typically give you a rang e of different sources to learn more about any given topic.\n",
    "\n",
    "We will also introduce [Jupyter](https://jupyter.org/), an interactive programming environment that is very useful for machine learning, data science, and other data-oriented disciplines.  The primary advantage of Jupyter is that it lets us intermix code with text, equations, and plots in one document.  Thus, instead of having the instructions for a lab in one place (e.g. a website), the code a second (e.g. a `.py` file), and the results in a third (e.g. a set of `.png` images and text files), we can combine all of these things in a single document, which will be a `.ipynb` file (the extension is short for _**i**nteractive **py**thon **n**ote**b**ook_)   \n",
    "\n",
    "There are two fundamental principles of Jupyter we will introduce here.  The first is the idea of a **kernel**: a computational engine that will execute code that you write here. If you look above, you will see buttons such as **run** (the triangular 'play' icon), **`run all`** (the double-arrow 'fast-forward' icon) as well as **restart kernel** (the looping arrow 'refresh' icon) and **interrupt execution** (the square 'stop' icon) in the toolbar at the upper left of the tab.  These are commands to the kernel - they will tell Jupyter to execute code or to restart/shutdown the computation that has been done.  For this course we will be using Python3 as our kernel, but Jupyter can handle a variety of other kernels as well.  There are further options for controlling the kernel in the **Run** and **Kernel** dropdown menus.\n",
    "\n",
    "The second concept is the idea of a **cell** - a box of text that Jupyter will treat as a unit, allowing you to execute your program one block at a time.  This will be detailed below.\n",
    "\n",
    "The first thing you should do is modify the comment block below, filling in your information as appropriate.  Once you've done that, read through the text and **run** (the triangle button at the top) the blocks of code as you proceed through the lab. Click the box below to begin editing:\n"
   ]
  },
  {
   "cell_type": "code",
   "execution_count": null,
   "metadata": {},
   "outputs": [],
   "source": [
    "# CS 66 - Machine Learning\n",
    "# Lab 0\n",
    "# Scaffolding by Profs. Ben Mitchell and Ameet Soni\n",
    "# Assignment completed by: Nina Zhuo"
   ]
  },
  {
   "cell_type": "markdown",
   "metadata": {},
   "source": [
    "### Saving\n",
    "Once you've edited the above cell, be sure to save your work by either clicking on the \"save\" icon or pressing `[Ctrl+s]`.  Note that Jupyter Lab will auto-save your work periodically, but it's always a good habit to save regularly to be sure you don't loose work if something goes wrong."
   ]
  },
  {
   "cell_type": "markdown",
   "metadata": {},
   "source": [
    "## Cells\n",
    "\n",
    "A Jupyter Notebook is organized into blocks called **cells.**  Each cell can contain either _**code**_ or _**markdown**_ (this cell is Markdown text; the next cell is code).  You can **Run** a cell by selecting the cell and clicking the play button.  Alternatively, pressing `[Shift+Enter]` is a shortcut for running the currently selected cell.\n",
    "\n",
    "Notice that running the current cell also moves the selection to the next cell; thus, doing **run** several times will execute successive cells.\n",
    "\n",
    "For a code cell, \"running\" will execute the Python code in that cell, and then display any result that code produces below the cell.  For a markdown cell (like this one), \"running\" will transform the markdown text into pretty, textbook-style text.  If you double click on a markdown cell, you can edit the raw text (try it now with this one!).  \n",
    "\n",
    "The `+` button in the toolbar will create a new cell, which will default to being a _code_ cell.\n",
    "\n",
    "If you select a cell, you can see whether it's _markdown_ or _code_ by looking in the toolbar at the top; clicking on the word will then let you switch the type of a cell.\n",
    "\n",
    "The cell below contains some Python code.  Because Python is an interpreted language, you can run individual statements and get results; you can do the same thing if you run `python3` interactievly at the command line.  If you run the following cell, you should get the answer `10`; by default, Jupyter will display the result of the _last_ command in a cell."
   ]
  },
  {
   "cell_type": "code",
   "execution_count": 1,
   "metadata": {},
   "outputs": [
    {
     "data": {
      "text/plain": [
       "10"
      ]
     },
     "execution_count": 1,
     "metadata": {},
     "output_type": "execute_result"
    }
   ],
   "source": [
    "3 + 7"
   ]
  },
  {
   "cell_type": "markdown",
   "metadata": {},
   "source": [
    "The previous cell ran a calculation, _but it didn't store the result anywhere_.  If we want to do anything beyond just displaying the result, we need to store it in a variable.  Python variables are auto-typed, meaning you don't need to declare them with a typename the way you do in languages like Java or C; if you assign an integer to a variable name, Python automatically creates an integer variable with that name.  Note that when you run the following cell, there's no 'result' displayed, because the assignment doesn't have an output (i.e. it does not return a value)."
   ]
  },
  {
   "cell_type": "code",
   "execution_count": 2,
   "metadata": {},
   "outputs": [],
   "source": [
    "myNumber = 7 + 3"
   ]
  },
  {
   "cell_type": "markdown",
   "metadata": {},
   "source": [
    "Now the value of the operation is stored in a variable.  The Python kernel is paused when code isn't actively running, but it still keeps track of the program state, so we can reference things in later cells like so:"
   ]
  },
  {
   "cell_type": "code",
   "execution_count": 3,
   "metadata": {},
   "outputs": [
    {
     "name": "stdout",
     "output_type": "stream",
     "text": [
      "My number:  10\n"
     ]
    }
   ],
   "source": [
    "print(\"My number: \", myNumber)"
   ]
  },
  {
   "cell_type": "markdown",
   "metadata": {},
   "source": [
    "Note that while you don't need to declare variable types in Python, that doesn't mean values don't _have_ types, it just means that Python figures them out automatically.  To check the type of something, you can use the `type()` operator:"
   ]
  },
  {
   "cell_type": "code",
   "execution_count": 4,
   "metadata": {},
   "outputs": [
    {
     "data": {
      "text/plain": [
       "int"
      ]
     },
     "execution_count": 4,
     "metadata": {},
     "output_type": "execute_result"
    }
   ],
   "source": [
    "type(myNumber)"
   ]
  },
  {
   "cell_type": "markdown",
   "metadata": {},
   "source": [
    "### Printing\n",
    "\n",
    "Python actually has several different ways you can use the `print` function:\n",
    "\n",
    "* A single value (of any type) will be converted to a string equivalent and printed\n",
    "    * a special case of this is concatenating several strings together with the `+` operator to make one long string before printing\n",
    "* A comma-separated list of values will convert each value to a string and print them with a space between each\n",
    "* The `%` operator can be used to do printf-style string formatting\n",
    "* The `f..{}` operator can be used to do an alternative style of string formatting\n",
    "\n",
    "Here are some examples:"
   ]
  },
  {
   "cell_type": "code",
   "execution_count": 5,
   "metadata": {},
   "outputs": [
    {
     "name": "stdout",
     "output_type": "stream",
     "text": [
      "hello\n",
      "casting to strings and concatenation: 73.33333333hello\n",
      "comma-separated list of values: 7 3.33333333 hello\n",
      "old style format string:\n",
      "hello--7--3.33\n",
      "new style format string:\n",
      "7_3.3_hello\n"
     ]
    }
   ],
   "source": [
    "x = 7\n",
    "y = 3.33333333\n",
    "z = \"hello\"\n",
    "print(z)\n",
    "print(\"casting to strings and concatenation: \" + str(x) + str(y) + z)\n",
    "print(\"comma-separated list of values:\", x, y, z)\n",
    "print(\"old style format string:\")\n",
    "print(\"%s--%x--%.2f\" % (z, x, y))\n",
    "print(\"new style format string:\")\n",
    "print(f\"{x}_{y:.2}_{z}\")"
   ]
  },
  {
   "cell_type": "markdown",
   "metadata": {},
   "source": [
    "## Python Formatting\n",
    "\n",
    "Python is sensitive to whitespace; there are no curly braces to denote the beginning and ending of blocks of code.  Instead, all code indented to the same level is part of a block.  For example, look at the for loop below. We use a `:` to say we're starting the body of the statement, and then use indentation to indicate what code is 'inside' the loop or conditional.  When the indent goes back out, the loop is over. Read the code and then Run the cell to see the output."
   ]
  },
  {
   "cell_type": "code",
   "execution_count": 7,
   "metadata": {},
   "outputs": [
    {
     "name": "stdout",
     "output_type": "stream",
     "text": [
      "0\n",
      "done\n",
      "1\n",
      "done\n",
      "2\n",
      "done\n"
     ]
    }
   ],
   "source": [
    "for i in range(0,3):\n",
    "    print(i)\n",
    "    print(\"done\")\n",
    "\n",
    "\n",
    "# NOTE: this is equivalent to the C++ loop:\n",
    "\n",
    "# for (int i=0; i<3; i++) {\n",
    "#    cout << i << endl;\n",
    "# }\n",
    "# cout << \"done\" << endl;"
   ]
  },
  {
   "cell_type": "markdown",
   "metadata": {
    "tags": []
   },
   "source": [
    "## Markdown\n",
    "\n",
    "Markdown is quite flexible, and lets us put all kinds of things into our notebooks without needing anything other than typing regular text to get them.  Double click on a markdown cell (like this one) to see the underlying raw text; running that cell will then turn it into the \"pretty\" version again.  This cell demonstrates several of the fun things you can do with markdown; try playing around with them!\n",
    "\n",
    "### Emphasized text\n",
    "Text can be made _italics_ or **bold**, or even _**both at once**_.  You can also make text `monospace to look like code snippets`, or \n",
    "<font color=blue>turn</font> <font color=red>it</font> <font color=green>different</font> <font color=purple>colors</font> \n",
    "\n",
    "### Bulleted lists/outlines:\n",
    "- thing one\n",
    "- thing two\n",
    "- thing three\n",
    "    - sub-thing a\n",
    "        - sub-sub-thing aleph\n",
    "    - sub-thing b\n",
    "\n",
    "### Equations:\n",
    "\n",
    "Markdown has built-in support for LaTeX style math notation, allowing pretty equations to be created quickly and easily.\n",
    "\n",
    "These can be \"inline\" equations, e.g.: $ y = 5x^3 + x^2 + 4x + 7 $ \n",
    "\n",
    "Or \"block\" equations, which show up on their own line and centered, e.g.:\n",
    "$$ a + \\sum_{i=1}^N (x_i \\cdot w_i) $$\n",
    "\n",
    "### Tables:\n",
    "\n",
    "| A | B | C |\n",
    "|---|---|---|\n",
    "| 1 | 5 | 7 |\n",
    "| 2 | 9.2 | 3.3 |\n",
    "| red | green | blue |\n",
    "\n",
    "\n",
    "### ...and lots more!\n",
    "For more about the things you can do with markdown, check out this [cheatsheet for markdown commands](https://medium.com/ibm-data-science-experience/markdown-for-jupyter-notebooks-cheatsheet-386c05aeebed).\n"
   ]
  },
  {
   "cell_type": "markdown",
   "metadata": {},
   "source": [
    "# Part 2: Basic Types\n",
    "Here are some types in Python.  You can print the type of any variable as shown below; see also the examples of print formatting."
   ]
  },
  {
   "cell_type": "code",
   "execution_count": 8,
   "metadata": {},
   "outputs": [
    {
     "name": "stdout",
     "output_type": "stream",
     "text": [
      "5\n",
      "<class 'int'>\n",
      "<class 'float'>\n",
      "6 4 10 2.5 2 1 25\n"
     ]
    }
   ],
   "source": [
    "#numeric types\n",
    "x = 5 \n",
    "print(x)\n",
    "print(type(x)) # x is an int --> <class 'int'>\n",
    "print(type(2.5)) # a float\n",
    "print(x+1, x-1, x*2, x/2, x//2, x%2, x**2) # addtion, subtraction, multiplication, division, int division, modulo, and exponentiation"
   ]
  },
  {
   "cell_type": "code",
   "execution_count": 9,
   "metadata": {},
   "outputs": [
    {
     "name": "stdout",
     "output_type": "stream",
     "text": [
      "<class 'bool'>\n",
      "False True False\n"
     ]
    }
   ],
   "source": [
    "#booleans\n",
    "bl = True\n",
    "print(type(bl)) # boolean\n",
    "print(bl and False, bl or True, not bl) # and, or, and not"
   ]
  },
  {
   "cell_type": "code",
   "execution_count": 10,
   "metadata": {},
   "outputs": [
    {
     "name": "stdout",
     "output_type": "stream",
     "text": [
      "<class 'str'>\n",
      "16\n",
      "Machine Learning: CS 66\n",
      "M\n",
      "a\n",
      "c\n",
      "h\n",
      "Welcome to Week 1 of Machine Learning\n",
      "You are 7.69% of the way through the semester\n",
      "\"  first, line, of, file\n",
      "\"\n",
      "\"first, line, of, file\"\n",
      "\"  first, line, of, file\n",
      "\"\n",
      "\"first, line, of, file\"\n",
      "['first', ' line', ' of', ' file']\n"
     ]
    }
   ],
   "source": [
    "# strings\n",
    "name = \"Machine Learning\" # can also use single quotes 'Machine Learning'\n",
    "print(type(name)) # prints <class 'string'>\n",
    "print(len(name))  # length of name\n",
    "print(name+\": CS 66\") # string concatenation\n",
    "for i in range(4):\n",
    "    print(name[i]) # indexing, print first 4 characters\n",
    "\n",
    "print(\"Welcome to Week %d of %s\" % (1, name)) # string formatting\n",
    "print(\"You are %.2f%% of the way through the semester\" % (1/13*100)) # format floats to maintain a specific precision\n",
    "# note the use of '%%' on the previous line for a % literal\n",
    "\n",
    "fileiostr = \"  first, line, of, file\\n\" # for file input, you will need to know how to parse the input and removing trailing whitespace\n",
    "print(\"\\\"%s\\\"\" %(fileiostr)) # note that the newline in the string gets printed here, resulting in an extra linebreak\n",
    "print(\"\\\"%s\\\"\" % (fileiostr.strip())) # remove white space (i.e., the blanks at the front and the newline character at the end)\n",
    "print(\"\\\"%s\\\"\" % (fileiostr))   # Notice the newline still prints here.  This is because strings are not\n",
    "                                # mutable in Python; the above calls *return* a new string, it doesn't modify the argument.  \n",
    "cleanstr = fileiostr.strip()\n",
    "print(\"\\\"%s\\\"\" % (cleanstr)) # remove white space from both ends\n",
    "\n",
    "print(cleanstr.split(',')) # split the string into pieces whereever a comma is found, returns a list"
   ]
  },
  {
   "cell_type": "markdown",
   "metadata": {},
   "source": [
    "### Type Conversion\n",
    "You can convert between types in Python by doing `typename(value)` e.g., "
   ]
  },
  {
   "cell_type": "code",
   "execution_count": 11,
   "metadata": {},
   "outputs": [
    {
     "name": "stdout",
     "output_type": "stream",
     "text": [
      "7 <class 'str'>\n",
      "7 <class 'int'>\n",
      "CPSC 66 <class 'str'>\n"
     ]
    }
   ],
   "source": [
    "s = \"7\"\n",
    "print(s, type(s))\n",
    "x = int(s) # convert string to integer value (only works if the string is a number)\n",
    "print(x, type(x))\n",
    "courseNum = \"CPSC \" + str(66) # converts 66 (an int) to the string \"66\" and appends it to the string \"CPSC \"\n",
    "print(courseNum, type(courseNum))\n",
    "\n",
    "# note that casting doesn't happen automatically in many instances;\n",
    "# for example, the following line will result in a type error if you uncommment it:\n",
    "#courseNum = \"CPSC\" + 66"
   ]
  },
  {
   "cell_type": "markdown",
   "metadata": {},
   "source": [
    "### Try playing with a string to convert it to a list of integers\n",
    "Below, write some code to convert a string of numbers (this is typical in file i/o where files are read in as strings)"
   ]
  },
  {
   "cell_type": "code",
   "execution_count": 15,
   "metadata": {},
   "outputs": [
    {
     "name": "stdout",
     "output_type": "stream",
     "text": [
      "1 <class 'int'> \n",
      "\n",
      "3 <class 'int'> \n",
      "\n",
      "7 <class 'int'> \n",
      "\n",
      "9 <class 'int'> \n",
      "\n"
     ]
    }
   ],
   "source": [
    "filestr = \"1,3,7,9\\n\"\n",
    "# TODO: first, strip and split the string as show above.  remember to save the result in a variable.\n",
    "cleanup = filestr.strip()\n",
    "cleanstr = cleanup.split(',')\n",
    "\n",
    "# TODO: now, write a for loop to convert and print each element as an integer; \n",
    "#       print both the value and the type to ensure you've got ints\n",
    "for num in cleanstr:\n",
    "    x = int(num)\n",
    "    print(x, type(x), \"\\n\")\n"
   ]
  },
  {
   "cell_type": "markdown",
   "metadata": {},
   "source": [
    "# Part 3: Containers\n",
    "\n",
    "Below is information on built-in containers for managing many values together.  While this is not fully comprehensive (Python has a lot of built-in stuff), it should cover the aspects you'll need this semester."
   ]
  },
  {
   "cell_type": "markdown",
   "metadata": {},
   "source": [
    "## Lists\n",
    "Python lists (which are like arrays in other languages) also work by auto-typed assignment; the following cell creates three different variables, each of which stores a list of numbers."
   ]
  },
  {
   "cell_type": "code",
   "execution_count": 6,
   "metadata": {},
   "outputs": [],
   "source": [
    "a = [1, 2, 3]\n",
    "b = [3, 7, -2, 5]\n",
    "c = [22, 3, 97, 12, 15, 72, 8, 34, 60]"
   ]
  },
  {
   "cell_type": "markdown",
   "metadata": {},
   "source": [
    "Python loops actually iterate over a collection of items.  The `range` statement used above generates a sequence of numbers (i.e., `range(0,3)` generates collection `[0,1,2]` to iterate over), but we can also hand a list directly to the loop.  For example:"
   ]
  },
  {
   "cell_type": "code",
   "execution_count": 18,
   "metadata": {},
   "outputs": [
    {
     "name": "stdout",
     "output_type": "stream",
     "text": [
      "3\n",
      "7\n",
      "-2\n",
      "5\n"
     ]
    }
   ],
   "source": [
    "for x in b:\n",
    "    print(x)\n",
    "    \n",
    "# the following is an alternate way to accomplish the same thing:\n",
    "# for i in range(0,len(b)):\n",
    "#     print(b[i])"
   ]
  },
  {
   "cell_type": "markdown",
   "metadata": {},
   "source": [
    "By default, Python does assignment by reference, so the following doesn't actually make a copy of all the values stored in `a`, instead it makes `lst` refer to the same array that `a` does. This means modifying one will modify the other!  _Note: if you get an error, it may be because you didn't run the cells above.  If you see an empty set of brackets to the left of a cell, it means it has not been run.  Go back and run those cells and then rerun this cell.  You can also click on the **Run** and **Kernel** menus for more options such as **Restart and Clear All Cell Outputs** and **Run all Cells Above**_"
   ]
  },
  {
   "cell_type": "code",
   "execution_count": 10,
   "metadata": {},
   "outputs": [
    {
     "name": "stdout",
     "output_type": "stream",
     "text": [
      "a: [5, 2, 3]\n",
      "max(a): 5\n",
      "b: [5, 7, -2, 5]\n",
      "lst: [5, 7, -2, 5]\n",
      "max(lst) 7\n"
     ]
    }
   ],
   "source": [
    "print(\"a:\", a)\n",
    "print(\"max(a):\", max(a))\n",
    "lst = b\n",
    "lst[0] = 5\n",
    "print(\"b:\", b)\n",
    "print(\"lst:\", lst)\n",
    "print(\"max(lst)\", max(lst))"
   ]
  },
  {
   "cell_type": "markdown",
   "metadata": {},
   "source": [
    "Try changing the cell above to make lst refer to `b` instead of `a`, and then re-run the cell to see the difference. Note that just changing the assignment code doesn't actually do anything; you need to re-run the cell in order for the modified code to actually do anything."
   ]
  },
  {
   "cell_type": "markdown",
   "metadata": {},
   "source": [
    "Defining functions/methods works similarly, using the colon and indentation with the keyword `def`.  Here's an example:"
   ]
  },
  {
   "cell_type": "code",
   "execution_count": 20,
   "metadata": {},
   "outputs": [],
   "source": [
    "def getMax(someList):\n",
    "    maxVal = someList[0]\n",
    "    for x in someList:\n",
    "        if x > maxVal:\n",
    "            maxVal = x\n",
    "    return maxVal"
   ]
  },
  {
   "cell_type": "markdown",
   "metadata": {},
   "source": [
    "Note that you need to run the cell with the function definition and then call the function before it will do anything:"
   ]
  },
  {
   "cell_type": "code",
   "execution_count": 21,
   "metadata": {},
   "outputs": [
    {
     "data": {
      "text/plain": [
       "5"
      ]
     },
     "execution_count": 21,
     "metadata": {},
     "output_type": "execute_result"
    }
   ],
   "source": [
    "getMax(lst)"
   ]
  },
  {
   "cell_type": "markdown",
   "metadata": {},
   "source": [
    "### Slicing\n",
    "A common operation is to retrieve a subset of elements in a container, referred to as **slicing**.  While we will practice with lists, much of the following extends to `numpy` and more advanced containers that we will use this semester (the following example is found in this [Python tutorial](https://cs231n.github.io/python-numpy-tutorial/#python))."
   ]
  },
  {
   "cell_type": "code",
   "execution_count": 22,
   "metadata": {},
   "outputs": [
    {
     "name": "stdout",
     "output_type": "stream",
     "text": [
      "[0, 1, 2, 3, 4]\n",
      "[2, 3]\n",
      "[2, 3, 4]\n",
      "[0, 1]\n",
      "[0, 1, 2, 3, 4]\n",
      "[0, 1, 2, 3]\n",
      "[0, 1, 8, 9, 10, 4]\n"
     ]
    }
   ],
   "source": [
    "nums = list(range(5))     # range is a built-in function that creates a list of integers\n",
    "print(nums)               # Prints \"[0, 1, 2, 3, 4]\"\n",
    "print(nums[2:4])          # Get a slice from index 2 to 4 (exclusive); prints \"[2, 3]\"\n",
    "print(nums[2:])           # Get a slice from index 2 to the end; prints \"[2, 3, 4]\"\n",
    "print(nums[:2])           # Get a slice from the start to index 2 (exclusive); prints \"[0, 1]\"\n",
    "print(nums[:])            # Get a slice of the whole list; prints \"[0, 1, 2, 3, 4]\"\n",
    "print(nums[:-1])          # Slice indices can be negative, counting backwards from the end; prints \"[0, 1, 2, 3]\"\n",
    "nums[2:4] = [8, 9, 10]    # Assign a new sublist to a slice; notice this can change the length of the list\n",
    "print(nums)               # Prints \"[0, 1, 8, 9, 10, 4]\""
   ]
  },
  {
   "cell_type": "markdown",
   "metadata": {},
   "source": [
    "### Comprehensions\n",
    "\n",
    "A useful operation in Python that you probably did not see in CS21 is list comprehension.  We can create lists fairly quickly e.g.,"
   ]
  },
  {
   "cell_type": "code",
   "execution_count": 23,
   "metadata": {},
   "outputs": [
    {
     "name": "stdout",
     "output_type": "stream",
     "text": [
      "[1, 2, 9, 10, 11, 5]\n",
      "[1, 2, 9, 10, 11, 5]\n",
      "['1', '9', '11', '5']\n"
     ]
    }
   ],
   "source": [
    "plusones = []\n",
    "for x in nums:\n",
    "    plusones.append(x+1)  # creates a new list where every element is shifted by one\n",
    "print(plusones)\n",
    "\n",
    "lstcomp = [x+1 for x in nums] # this is equivalent to the code above but uses list comprehension to do it all at once\n",
    "print(lstcomp)\n",
    "\n",
    "toStringOdd = [str(x) for x in plusones if x % 2 == 1 ]  # keep only the odd values and convert to a string\n",
    "print(toStringOdd)"
   ]
  },
  {
   "cell_type": "markdown",
   "metadata": {},
   "source": [
    "------"
   ]
  },
  {
   "cell_type": "markdown",
   "metadata": {},
   "source": [
    "## Tuples\n",
    "\n",
    "**Tuples** are in some ways similar to lists, but have fewer features.  They are can often be treated as a single element (e.g., an item in a list, or as the key to a dictionary) or as a way to return \"multiple values\" from a function as a single object."
   ]
  },
  {
   "cell_type": "code",
   "execution_count": 24,
   "metadata": {},
   "outputs": [
    {
     "name": "stdout",
     "output_type": "stream",
     "text": [
      "(1, 2)\n",
      "<class 'tuple'>\n",
      "(7, 'hello')\n",
      "<class 'tuple'>\n",
      "7\n",
      "<class 'int'>\n"
     ]
    }
   ],
   "source": [
    "t = (1, 2)\n",
    "print(t)\n",
    "print(type(t))\n",
    "u = (7, \"hello\")\n",
    "print(u)\n",
    "print(type(u))\n",
    "(first, second) = u\n",
    "print(first)\n",
    "print(type(first))"
   ]
  },
  {
   "cell_type": "markdown",
   "metadata": {},
   "source": [
    "In the next cell we re-define the `getMax()` function to return a tuple instead of just a single number:"
   ]
  },
  {
   "cell_type": "code",
   "execution_count": 25,
   "metadata": {
    "tags": []
   },
   "outputs": [
    {
     "name": "stdout",
     "output_type": "stream",
     "text": [
      "15 2\n"
     ]
    }
   ],
   "source": [
    "def getMax(someList):\n",
    "    maxVal = 0\n",
    "    idx = -1\n",
    "    for i in range(len(someList)):\n",
    "        if someList[i] > maxVal:\n",
    "            maxVal = someList[i]\n",
    "            idx = i\n",
    "    return (maxVal, idx) # A tuple containg two elements\n",
    "\n",
    "(largestVal, index) = getMax([10, 7, 15, 8]) # have python unpack the tuple into two variables\n",
    "print(largestVal, index)"
   ]
  },
  {
   "cell_type": "markdown",
   "metadata": {},
   "source": [
    "## Dictionaries\n",
    "\n",
    "**Dictionaries** allow mapping from a _key_ to a _value_; both the key and the value can be any type.  They are very easy to create and manage in Python, and are useful for encoding a variety of things.  You can learn more about dictionaries [here](https://docs.python.org/3.5/library/stdtypes.html#dict), but a few basic examples are shown below:"
   ]
  },
  {
   "cell_type": "code",
   "execution_count": 26,
   "metadata": {
    "tags": []
   },
   "outputs": [
    {
     "name": "stdout",
     "output_type": "stream",
     "text": [
      "one\n",
      "three\n",
      "22\n",
      "19\n",
      "{'Stella': 19, 'John': 18, 'Ada': 22, 'Emma': 21}\n",
      "{'Stella': 19, 'John': 18, 'Ada': 23, 'Emma': 21, 'Kate': 20}\n",
      "key =  Stella -- value =  19\n",
      "key =  John -- value =  18\n",
      "key =  Ada -- value =  23\n",
      "key =  Emma -- value =  21\n",
      "key =  Kate -- value =  20\n"
     ]
    }
   ],
   "source": [
    "numberNames = {1: \"one\", 2: \"two\", 3:\"three\"}\n",
    "print(numberNames[1])\n",
    "print(numberNames[3])\n",
    "\n",
    "ages = { \"Stella\":19, \"John\":18, \"Ada\":22, \"Emma\":21 }\n",
    "print(ages[\"Ada\"])\n",
    "print(ages[\"Stella\"])\n",
    "\n",
    "print(ages)\n",
    "ages[\"Kate\"] = 20\n",
    "ages[\"Ada\"] += 1\n",
    "print(ages)\n",
    "\n",
    "for (k, val) in ages.items():\n",
    "    print(\"key = \", k, \"-- value = \", val)"
   ]
  },
  {
   "cell_type": "markdown",
   "metadata": {},
   "source": [
    "-----\n",
    "# Part 4: Python Practice\n",
    "\n",
    "Fill in the next three cells to calculate the sum, the minimum, and the mean for `lst`.  Be sure to test your code using multiple lists (you can use the ones defined above by just making `lst` refer to `a`, `b`, or `c`, or create new ones of your own).\n",
    "\n",
    "You **should not** use built-in or library functions to trivialize these; the point is to get practice!  See below for what the equivalent built-in functions.\n",
    "\n",
    "Also, be careful not to use reserved words (hilighted in green) for variable names!  For example, if you use the name `max` as a variable, that variable name now overrides the name of the builtin function `max()`, and you will no longer be able to call the built-in function.  If this happens, remember that you need to re-start the kernel to clear out old assignments; just modifying and re-running the code with a different variable name won't actually fix it."
   ]
  },
  {
   "cell_type": "code",
   "execution_count": 39,
   "metadata": {},
   "outputs": [
    {
     "name": "stdout",
     "output_type": "stream",
     "text": [
      "total is:  10\n"
     ]
    }
   ],
   "source": [
    "total = 0\n",
    "#TODO: write code to calculate the total of the values in lst\n",
    "for x in lst:\n",
    "    total = total + x\n",
    "    \n",
    "print('total is: ', total)"
   ]
  },
  {
   "cell_type": "code",
   "execution_count": 37,
   "metadata": {},
   "outputs": [
    {
     "name": "stdout",
     "output_type": "stream",
     "text": [
      "maxiumum value is:  5\n"
     ]
    }
   ],
   "source": [
    "#TODO: write code to calculate and print the maxiumum value in the list\n",
    "hi = 0\n",
    "for x in lst:\n",
    "    if x > hi:\n",
    "        hi = x\n",
    "\n",
    "print('maxiumum value is: ', hi)"
   ]
  },
  {
   "cell_type": "code",
   "execution_count": 33,
   "metadata": {},
   "outputs": [
    {
     "name": "stdout",
     "output_type": "stream",
     "text": [
      "minimum value is:  2\n"
     ]
    }
   ],
   "source": [
    "#TODO: write code to calculate and print the minimum value in the list\n",
    "lo = 555\n",
    "for x in lst:\n",
    "    if x < lo:\n",
    "        lo = x\n",
    "\n",
    "print('minimum value is: ', lo)"
   ]
  },
  {
   "cell_type": "code",
   "execution_count": 41,
   "metadata": {},
   "outputs": [
    {
     "name": "stdout",
     "output_type": "stream",
     "text": [
      "average value is:  3.3333333333333335\n"
     ]
    }
   ],
   "source": [
    "#TODO: write code to calculate and print the average value of the elements in the list\n",
    "length = len(lst)\n",
    "avg = total/length\n",
    "print('average value is: ', avg)"
   ]
  },
  {
   "cell_type": "markdown",
   "metadata": {},
   "source": [
    "Note that these are all things that Python has built-in functions for; examples of their use are given below.  As will frequently be the case in this course, we're going to be implementing things that already exist in libraries.  This means that for this lab you shouldn't just use the library implementation; e.g. don't just call the built-in `min()` method in response to the above prompt, since the point of implementing it yourself is to help you understand how the library works.\n",
    "\n",
    "However, you *should* use the libraries to help check to make sure your code works; compare the output of your own code to the output of the calls below (assuming you were using `lst` as the input to your code):"
   ]
  },
  {
   "cell_type": "code",
   "execution_count": 36,
   "metadata": {},
   "outputs": [
    {
     "name": "stdout",
     "output_type": "stream",
     "text": [
      "Total for lst is:  10\n",
      "Max for lst is:  5\n",
      "Min for lst is:  2\n"
     ]
    }
   ],
   "source": [
    "print(\"Total for lst is: \", sum(lst))\n",
    "print(\"Max for lst is: \", max(lst))\n",
    "print(\"Min for lst is: \", min(lst))"
   ]
  },
  {
   "cell_type": "markdown",
   "metadata": {},
   "source": [
    "Python doesn't actually have a built-in for calculating the mean (average), so we'll need to import a library for that:"
   ]
  },
  {
   "cell_type": "code",
   "execution_count": 40,
   "metadata": {},
   "outputs": [
    {
     "name": "stdout",
     "output_type": "stream",
     "text": [
      "Avg for lst is:  3.3333333333333335\n"
     ]
    }
   ],
   "source": [
    "from numpy import mean\n",
    "\n",
    "print(\"Avg for lst is: \", mean(lst))"
   ]
  },
  {
   "cell_type": "markdown",
   "metadata": {},
   "source": [
    "-----\n",
    "# Part 5: Numpy\n",
    "\n",
    "This section is from the [Stanford Numpy Tutorial](https://cs231n.github.io/python-numpy-tutorial/#numpy) developed by Justin Johnson.\n",
    "                                                   \n",
    "Numpy is the core library for scientific computing in Python. It provides a high-performance multidimensional array object, and tools for working with these arrays.\n",
    "\n",
    "To use Numpy, we first need to import the `numpy` package, which is often given the alias `np` to make things shorter:"
   ]
  },
  {
   "cell_type": "code",
   "execution_count": 43,
   "metadata": {},
   "outputs": [],
   "source": [
    "import numpy as np"
   ]
  },
  {
   "cell_type": "markdown",
   "metadata": {},
   "source": [
    "## Arrays\n",
    "\n",
    "A numpy array is a grid of values, all of the same type, and is indexed by a tuple of nonnegative integers. The number of dimensions is the _rank of_ the array; the _shape_ of an array is a tuple of integers giving the size of the array along each dimension.\n",
    "\n",
    "We can initialize numpy arrays from nested Python lists, and access elements using square brackets:"
   ]
  },
  {
   "cell_type": "code",
   "execution_count": 44,
   "metadata": {},
   "outputs": [
    {
     "name": "stdout",
     "output_type": "stream",
     "text": [
      "<class 'numpy.ndarray'>\n",
      "(3,)\n",
      "1 2 3\n",
      "[5 2 3]\n",
      "(2, 3)\n",
      "1 2 4\n"
     ]
    }
   ],
   "source": [
    "a = np.array([1, 2, 3])   # Create a rank 1 array\n",
    "print(type(a))            # Prints \"<class 'numpy.ndarray'>\"\n",
    "print(a.shape)            # Prints \"(3,)\"\n",
    "print(a[0], a[1], a[2])   # Prints \"1 2 3\"\n",
    "a[0] = 5                  # Change an element of the array\n",
    "print(a)                  # Prints \"[5, 2, 3]\"\n",
    "\n",
    "b = np.array([[1,2,3],[4,5,6]])    # Create a rank 2 array\n",
    "print(b.shape)                     # Prints \"(2, 3)\"\n",
    "print(b[0, 0], b[0, 1], b[1, 0])   # Prints \"1 2 4\""
   ]
  },
  {
   "cell_type": "markdown",
   "metadata": {},
   "source": [
    "Numpy also provides many functions to create arrays (read more [here](http://docs.scipy.org/doc/numpy/user/basics.creation.html#arrays-creation)):"
   ]
  },
  {
   "cell_type": "code",
   "execution_count": 45,
   "metadata": {},
   "outputs": [
    {
     "name": "stdout",
     "output_type": "stream",
     "text": [
      "[[0. 0.]\n",
      " [0. 0.]]\n",
      "[[1. 1.]]\n",
      "[[7 7]\n",
      " [7 7]]\n",
      "[[1. 0.]\n",
      " [0. 1.]]\n",
      "[[0.60206892 0.62877346]\n",
      " [0.13390309 0.01046069]]\n"
     ]
    }
   ],
   "source": [
    "a = np.zeros((2,2))   # Create an array of all zeros\n",
    "print(a)              # Prints \"[[ 0.  0.]\n",
    "                      #          [ 0.  0.]]\"\n",
    "\n",
    "b = np.ones((1,2))    # Create an array of all ones\n",
    "print(b)              # Prints \"[[ 1.  1.]]\"\n",
    "\n",
    "c = np.full((2,2), 7)  # Create a constant array\n",
    "print(c)               # Prints \"[[ 7.  7.]\n",
    "                       #          [ 7.  7.]]\"\n",
    "\n",
    "d = np.eye(2)         # Create a 2x2 identity matrix\n",
    "print(d)              # Prints \"[[ 1.  0.]\n",
    "                      #          [ 0.  1.]]\"\n",
    "\n",
    "e = np.random.random((2,2))  # Create an array filled with random values\n",
    "print(e)                     # Might print \"[[ 0.91940167  0.08143941]\n",
    "                             #               [ 0.68744134  0.87236687]]\""
   ]
  },
  {
   "cell_type": "markdown",
   "metadata": {},
   "source": [
    "## Array indexing\n",
    "\n",
    "Numpy offers several ways to index into arrays.\n",
    "\n",
    "**Slicing**: Similar to Python lists, numpy arrays can be sliced. Since arrays may be multidimensional, you must specify a slice for each dimension of the array:"
   ]
  },
  {
   "cell_type": "code",
   "execution_count": 46,
   "metadata": {},
   "outputs": [
    {
     "name": "stdout",
     "output_type": "stream",
     "text": [
      "2\n",
      "77\n",
      "[5 6 7 8] (4,)\n",
      "[[5 6 7 8]] (1, 4)\n"
     ]
    }
   ],
   "source": [
    "# Create the following rank 2 array with shape (3, 4)\n",
    "# [[ 1  2  3  4]\n",
    "#  [ 5  6  7  8]\n",
    "#  [ 9 10 11 12]]\n",
    "a = np.array([[1,2,3,4], [5,6,7,8], [9,10,11,12]])\n",
    "\n",
    "# Use slicing to pull out the subarray consisting of the first 2 rows\n",
    "# and columns 1 and 2; b is the following array of shape (2, 2):\n",
    "# [[2 3]\n",
    "#  [6 7]]\n",
    "b = a[:2, 1:3]\n",
    "\n",
    "# A slice of an array is a view into the same data, so modifying it\n",
    "# will modify the original array.\n",
    "print(a[0, 1])   # Prints \"2\"\n",
    "b[0, 0] = 77     # b[0, 0] is the same piece of data as a[0, 1]\n",
    "print(a[0, 1])   # Prints \"77\"\n",
    "\n",
    "# Two ways of accessing the data in the middle row of the array.\n",
    "# Mixing integer indexing with slices yields an array of lower rank,\n",
    "# while using only slices yields an array of the same rank as the\n",
    "# original array:\n",
    "row_r1 = a[1, :]    # Rank 1 view of the second row of a\n",
    "row_r2 = a[1:2, :]  # Rank 2 view of the second row of a\n",
    "print(row_r1, row_r1.shape)  # Prints \"[5 6 7 8] (4,)\"\n",
    "print(row_r2, row_r2.shape)  # Prints \"[[5 6 7 8]] (1, 4)\""
   ]
  },
  {
   "cell_type": "markdown",
   "metadata": {},
   "source": [
    "This is only a brief introduction to indexing.  You can refer to [this resource](https://numpy.org/doc/stable/reference/arrays.indexing.html) for very useful approaches such as boolean indexing (masking) and integer indexing.  "
   ]
  },
  {
   "cell_type": "markdown",
   "metadata": {},
   "source": [
    "## Datatypes\n",
    "\n",
    "Every numpy array is a grid of elements of the same type. Numpy provides a large set of numeric datatypes that you can use to construct arrays. Numpy tries to guess a datatype when you create an array, but functions that construct arrays usually also include an optional argument to explicitly specify the datatype. This can be helpful when dealing with memory constraints/issues in many machine learning packages.  Here is more [documentation on types in NumPy](http://docs.scipy.org/doc/numpy/reference/arrays.dtypes.html). Here is an example:"
   ]
  },
  {
   "cell_type": "code",
   "execution_count": 47,
   "metadata": {},
   "outputs": [
    {
     "name": "stdout",
     "output_type": "stream",
     "text": [
      "int64\n",
      "float64\n",
      "int64\n"
     ]
    }
   ],
   "source": [
    "x = np.array([1, 2])   # Let numpy choose the datatype\n",
    "print(x.dtype)         # Prints \"int64\"\n",
    "\n",
    "x = np.array([1.0, 2.0])   # Let numpy choose the datatype\n",
    "print(x.dtype)             # Prints \"float64\"\n",
    "\n",
    "x = np.array([1, 2], dtype=np.int64)   # Force a particular datatype\n",
    "print(x.dtype)                         # Prints \"int64\""
   ]
  },
  {
   "cell_type": "markdown",
   "metadata": {},
   "source": [
    "## Array math\n",
    "\n",
    "Basic mathematical functions operate elementwise on arrays, and are available both as operator overloads and as functions in the numpy module:\n"
   ]
  },
  {
   "cell_type": "code",
   "execution_count": 48,
   "metadata": {},
   "outputs": [
    {
     "name": "stdout",
     "output_type": "stream",
     "text": [
      "[[ 6.  8.]\n",
      " [10. 12.]]\n",
      "[[ 6.  8.]\n",
      " [10. 12.]]\n",
      "[[-4. -4.]\n",
      " [-4. -4.]]\n",
      "[[-4. -4.]\n",
      " [-4. -4.]]\n",
      "[[ 5. 12.]\n",
      " [21. 32.]]\n",
      "[[ 5. 12.]\n",
      " [21. 32.]]\n",
      "[[0.2        0.33333333]\n",
      " [0.42857143 0.5       ]]\n",
      "[[0.2        0.33333333]\n",
      " [0.42857143 0.5       ]]\n",
      "[[1.         1.41421356]\n",
      " [1.73205081 2.        ]]\n",
      "[[1. 3.]\n",
      " [2. 4.]]\n"
     ]
    }
   ],
   "source": [
    "x = np.array([[1,2],[3,4]], dtype=np.float64)\n",
    "y = np.array([[5,6],[7,8]], dtype=np.float64)\n",
    "\n",
    "# Elementwise sum; both produce the array\n",
    "# [[ 6.0  8.0]\n",
    "#  [10.0 12.0]]\n",
    "print(x + y)\n",
    "print(np.add(x, y))\n",
    "\n",
    "# Elementwise difference\n",
    "print(x - y)\n",
    "print(np.subtract(x, y))\n",
    "\n",
    "# Elementwise product\n",
    "print(x * y)\n",
    "print(np.multiply(x, y))\n",
    "\n",
    "# Elementwise division\n",
    "print(x / y)\n",
    "print(np.divide(x, y))\n",
    "\n",
    "# Elementwise square root\n",
    "print(np.sqrt(x))\n",
    "\n",
    "# dot does matrix multiplication for vectors and matrices\n",
    "np.dot([9,10],[11,12]) # computers the inner product of the two vectors --> 219\n",
    "np.dot(x,y) # matrix product\n",
    "\n",
    "# Transpose a matrix\n",
    "print(x.T)  # Prints \"[[1 3]\n",
    "            #          [2 4]]\""
   ]
  },
  {
   "cell_type": "markdown",
   "metadata": {},
   "source": [
    "-------\n",
    "# Part 6: Reading CSVs with Pandas\n",
    "\n",
    "While it's possible to write your own file parsers by hand, it's generally a pain and takes a lot of time.  For most standard file formats, you'll find there are libraries that do the work for you.  For example, this semester we'll use a library called **Pandas** to read data files for several of our labs; it's really good for reading things like excel spreadsheets and comma-separated-value (CSV) data files.\n",
    "\n",
    "We're not going to look at all the features Pandas has today; instead, we'll focus on the ones you're likely to need in the first month or so of the course, and then revisit Pandas later when we talk about data cleaning.\n",
    "\n",
    "**This syntax will prove very useful for Lab 2, so take a few minutes to learn it now!**\n",
    "\n",
    "Here, we'll import pandas and then use it to load a simple example file:"
   ]
  },
  {
   "cell_type": "code",
   "execution_count": 54,
   "metadata": {},
   "outputs": [],
   "source": [
    "# this time we'll use Pandas for reading our data file (it's great for CSVs)\n",
    "import pandas as pd\n",
    "\n",
    "# if your file doesn't have a \"header\" with column names, you'll need to specify one as a list of strings:\n",
    "columnNames = [\"label\", \"height\", \"width\", \"mass\", \"color\", \"shape\"]\n",
    "\n",
    "# this next line actually reads the file in as a Pandas dataframe.\n",
    "# note that it's a text file, so you can also look at the raw file in a text editor if you like;\n",
    "# Jupyter has a text-editor, so just double-clicking the file in the 'file-view' panel on the left should open it.\n",
    "#\n",
    "# the first argument is the path to the file; since it's in the current directory, we can just use the filename\n",
    "# the 'header=None' tells pandas that the first line of the file is data, as opposed to a 'header' with column names\n",
    "# the third argument specifies the array that contains the names we want used for the columns\n",
    "exampleData = pd.read_csv('example.txt', header=None, names=columnNames)\n",
    "\n",
    "# note that this cell produces no output; it just reads the file and stores the result in a variable   "
   ]
  },
  {
   "cell_type": "markdown",
   "metadata": {
    "tags": []
   },
   "source": [
    "## Demonstration of using Pandas\n",
    "Like the earlier demos, there's no deliverable for this sub-part, it's just a way to show you examples of the type of syntax you'll likely want to use in later labs (e.g. when you implement your decision tree learning algorithm in a few weeks)"
   ]
  },
  {
   "cell_type": "code",
   "execution_count": 53,
   "metadata": {},
   "outputs": [
    {
     "data": {
      "text/plain": [
       "8"
      ]
     },
     "execution_count": 53,
     "metadata": {},
     "output_type": "execute_result"
    }
   ],
   "source": [
    "# we can use standard Python calls on the data frame; in this case, it will tell us the number of rows\n",
    "len(exampleData)"
   ]
  },
  {
   "cell_type": "code",
   "execution_count": 50,
   "metadata": {},
   "outputs": [
    {
     "data": {
      "text/html": [
       "<div>\n",
       "<style scoped>\n",
       "    .dataframe tbody tr th:only-of-type {\n",
       "        vertical-align: middle;\n",
       "    }\n",
       "\n",
       "    .dataframe tbody tr th {\n",
       "        vertical-align: top;\n",
       "    }\n",
       "\n",
       "    .dataframe thead th {\n",
       "        text-align: right;\n",
       "    }\n",
       "</style>\n",
       "<table border=\"1\" class=\"dataframe\">\n",
       "  <thead>\n",
       "    <tr style=\"text-align: right;\">\n",
       "      <th></th>\n",
       "      <th>label</th>\n",
       "      <th>height</th>\n",
       "      <th>width</th>\n",
       "      <th>mass</th>\n",
       "      <th>color</th>\n",
       "      <th>shape</th>\n",
       "    </tr>\n",
       "  </thead>\n",
       "  <tbody>\n",
       "    <tr>\n",
       "      <th>0</th>\n",
       "      <td>yes</td>\n",
       "      <td>1</td>\n",
       "      <td>3</td>\n",
       "      <td>2</td>\n",
       "      <td>blue</td>\n",
       "      <td>square</td>\n",
       "    </tr>\n",
       "    <tr>\n",
       "      <th>1</th>\n",
       "      <td>no</td>\n",
       "      <td>2</td>\n",
       "      <td>4</td>\n",
       "      <td>1</td>\n",
       "      <td>green</td>\n",
       "      <td>square</td>\n",
       "    </tr>\n",
       "    <tr>\n",
       "      <th>2</th>\n",
       "      <td>no</td>\n",
       "      <td>5</td>\n",
       "      <td>1</td>\n",
       "      <td>1</td>\n",
       "      <td>blue</td>\n",
       "      <td>square</td>\n",
       "    </tr>\n",
       "    <tr>\n",
       "      <th>3</th>\n",
       "      <td>yes</td>\n",
       "      <td>2</td>\n",
       "      <td>3</td>\n",
       "      <td>4</td>\n",
       "      <td>blue</td>\n",
       "      <td>triange</td>\n",
       "    </tr>\n",
       "    <tr>\n",
       "      <th>4</th>\n",
       "      <td>yes</td>\n",
       "      <td>1</td>\n",
       "      <td>2</td>\n",
       "      <td>1</td>\n",
       "      <td>green</td>\n",
       "      <td>triangle</td>\n",
       "    </tr>\n",
       "    <tr>\n",
       "      <th>5</th>\n",
       "      <td>no</td>\n",
       "      <td>2</td>\n",
       "      <td>3</td>\n",
       "      <td>1</td>\n",
       "      <td>yellow</td>\n",
       "      <td>square</td>\n",
       "    </tr>\n",
       "    <tr>\n",
       "      <th>6</th>\n",
       "      <td>yes</td>\n",
       "      <td>2</td>\n",
       "      <td>3</td>\n",
       "      <td>2</td>\n",
       "      <td>yellow</td>\n",
       "      <td>square</td>\n",
       "    </tr>\n",
       "    <tr>\n",
       "      <th>7</th>\n",
       "      <td>yes</td>\n",
       "      <td>1</td>\n",
       "      <td>4</td>\n",
       "      <td>4</td>\n",
       "      <td>yellow</td>\n",
       "      <td>triangle</td>\n",
       "    </tr>\n",
       "  </tbody>\n",
       "</table>\n",
       "</div>"
      ],
      "text/plain": [
       "  label  height  width  mass   color     shape\n",
       "0   yes       1      3     2    blue    square\n",
       "1    no       2      4     1   green    square\n",
       "2    no       5      1     1    blue    square\n",
       "3   yes       2      3     4    blue   triange\n",
       "4   yes       1      2     1   green  triangle\n",
       "5    no       2      3     1  yellow    square\n",
       "6   yes       2      3     2  yellow    square\n",
       "7   yes       1      4     4  yellow  triangle"
      ]
     },
     "execution_count": 50,
     "metadata": {},
     "output_type": "execute_result"
    }
   ],
   "source": [
    "# we can look at the raw data, though note that Pandas may only show part of the table if it's too big:\n",
    "exampleData"
   ]
  },
  {
   "cell_type": "markdown",
   "metadata": {},
   "source": [
    "Pandas has a ton of features, and we won't show all of them, but here's a few ways to get basic information about your data"
   ]
  },
  {
   "cell_type": "code",
   "execution_count": 52,
   "metadata": {},
   "outputs": [
    {
     "name": "stdout",
     "output_type": "stream",
     "text": [
      "<class 'pandas.core.frame.DataFrame'>\n",
      "RangeIndex: 8 entries, 0 to 7\n",
      "Data columns (total 6 columns):\n",
      " #   Column  Non-Null Count  Dtype \n",
      "---  ------  --------------  ----- \n",
      " 0   label   8 non-null      object\n",
      " 1   height  8 non-null      int64 \n",
      " 2   width   8 non-null      int64 \n",
      " 3   mass    8 non-null      int64 \n",
      " 4   color   8 non-null      object\n",
      " 5   shape   8 non-null      object\n",
      "dtypes: int64(3), object(3)\n",
      "memory usage: 512.0+ bytes\n"
     ]
    }
   ],
   "source": [
    "# provide information about the columns\n",
    "exampleData.info()"
   ]
  },
  {
   "cell_type": "code",
   "execution_count": 51,
   "metadata": {},
   "outputs": [
    {
     "data": {
      "text/html": [
       "<div>\n",
       "<style scoped>\n",
       "    .dataframe tbody tr th:only-of-type {\n",
       "        vertical-align: middle;\n",
       "    }\n",
       "\n",
       "    .dataframe tbody tr th {\n",
       "        vertical-align: top;\n",
       "    }\n",
       "\n",
       "    .dataframe thead th {\n",
       "        text-align: right;\n",
       "    }\n",
       "</style>\n",
       "<table border=\"1\" class=\"dataframe\">\n",
       "  <thead>\n",
       "    <tr style=\"text-align: right;\">\n",
       "      <th></th>\n",
       "      <th>height</th>\n",
       "      <th>width</th>\n",
       "      <th>mass</th>\n",
       "    </tr>\n",
       "  </thead>\n",
       "  <tbody>\n",
       "    <tr>\n",
       "      <th>count</th>\n",
       "      <td>8.000000</td>\n",
       "      <td>8.000000</td>\n",
       "      <td>8.000000</td>\n",
       "    </tr>\n",
       "    <tr>\n",
       "      <th>mean</th>\n",
       "      <td>2.000000</td>\n",
       "      <td>2.875000</td>\n",
       "      <td>2.000000</td>\n",
       "    </tr>\n",
       "    <tr>\n",
       "      <th>std</th>\n",
       "      <td>1.309307</td>\n",
       "      <td>0.991031</td>\n",
       "      <td>1.309307</td>\n",
       "    </tr>\n",
       "    <tr>\n",
       "      <th>min</th>\n",
       "      <td>1.000000</td>\n",
       "      <td>1.000000</td>\n",
       "      <td>1.000000</td>\n",
       "    </tr>\n",
       "    <tr>\n",
       "      <th>25%</th>\n",
       "      <td>1.000000</td>\n",
       "      <td>2.750000</td>\n",
       "      <td>1.000000</td>\n",
       "    </tr>\n",
       "    <tr>\n",
       "      <th>50%</th>\n",
       "      <td>2.000000</td>\n",
       "      <td>3.000000</td>\n",
       "      <td>1.500000</td>\n",
       "    </tr>\n",
       "    <tr>\n",
       "      <th>75%</th>\n",
       "      <td>2.000000</td>\n",
       "      <td>3.250000</td>\n",
       "      <td>2.500000</td>\n",
       "    </tr>\n",
       "    <tr>\n",
       "      <th>max</th>\n",
       "      <td>5.000000</td>\n",
       "      <td>4.000000</td>\n",
       "      <td>4.000000</td>\n",
       "    </tr>\n",
       "  </tbody>\n",
       "</table>\n",
       "</div>"
      ],
      "text/plain": [
       "         height     width      mass\n",
       "count  8.000000  8.000000  8.000000\n",
       "mean   2.000000  2.875000  2.000000\n",
       "std    1.309307  0.991031  1.309307\n",
       "min    1.000000  1.000000  1.000000\n",
       "25%    1.000000  2.750000  1.000000\n",
       "50%    2.000000  3.000000  1.500000\n",
       "75%    2.000000  3.250000  2.500000\n",
       "max    5.000000  4.000000  4.000000"
      ]
     },
     "execution_count": 51,
     "metadata": {},
     "output_type": "execute_result"
    }
   ],
   "source": [
    "# provide a statistical description of each numeric column (won't work for non-numeric columns)\n",
    "exampleData.describe()"
   ]
  },
  {
   "cell_type": "code",
   "execution_count": 55,
   "metadata": {},
   "outputs": [
    {
     "data": {
      "text/plain": [
       "Index(['label', 'height', 'width', 'mass', 'color', 'shape'], dtype='object')"
      ]
     },
     "execution_count": 55,
     "metadata": {},
     "output_type": "execute_result"
    }
   ],
   "source": [
    "# get the column names\n",
    "exampleData.columns"
   ]
  },
  {
   "cell_type": "markdown",
   "metadata": {},
   "source": [
    "## Pandas lets us work with this as a data table\n",
    "We can do all sorts of fun things, like using column names (which in our case correspond to attributes) to extract parts of the table.  By default, the indexing operator (`[]`) extracts a column by name.  For example, to grab just the first column (which in this case is named 'label'), we can do something like:"
   ]
  },
  {
   "cell_type": "code",
   "execution_count": 56,
   "metadata": {},
   "outputs": [
    {
     "data": {
      "text/plain": [
       "0    yes\n",
       "1     no\n",
       "2     no\n",
       "3    yes\n",
       "4    yes\n",
       "5     no\n",
       "6    yes\n",
       "7    yes\n",
       "Name: label, dtype: object"
      ]
     },
     "execution_count": 56,
     "metadata": {},
     "output_type": "execute_result"
    }
   ],
   "source": [
    "exampleData['label']"
   ]
  },
  {
   "cell_type": "markdown",
   "metadata": {},
   "source": [
    "## Note that the result is still a Pandas object\n",
    "If we want a flat list, we need to ask for just the `values` of this table, as is shown below.  Note that this gives us a numpy array, rather than a builtin Python list, but it's still something we can iterate over, and we can convert it to a basic list if we really need to."
   ]
  },
  {
   "cell_type": "code",
   "execution_count": 57,
   "metadata": {},
   "outputs": [
    {
     "name": "stdout",
     "output_type": "stream",
     "text": [
      "<class 'numpy.ndarray'>\n"
     ]
    },
    {
     "data": {
      "text/plain": [
       "array(['yes', 'no', 'no', 'yes', 'yes', 'no', 'yes', 'yes'], dtype=object)"
      ]
     },
     "execution_count": 57,
     "metadata": {},
     "output_type": "execute_result"
    }
   ],
   "source": [
    "labelValues = exampleData['label'].values\n",
    "print(type(labelValues))\n",
    "labelValues"
   ]
  },
  {
   "cell_type": "code",
   "execution_count": 58,
   "metadata": {},
   "outputs": [
    {
     "name": "stdout",
     "output_type": "stream",
     "text": [
      "<class 'list'>\n"
     ]
    },
    {
     "data": {
      "text/plain": [
       "['yes', 'no', 'no', 'yes', 'yes', 'no', 'yes', 'yes']"
      ]
     },
     "execution_count": 58,
     "metadata": {},
     "output_type": "execute_result"
    }
   ],
   "source": [
    "labelValuesList = list(exampleData['label'].values)\n",
    "print(type(labelValuesList))\n",
    "labelValuesList"
   ]
  },
  {
   "cell_type": "markdown",
   "metadata": {},
   "source": [
    "## Indexing and Counting things\n",
    "Since the information gain algorithm we'll use in a few weeks requires counting things, here's some examples of ways to do that using Pandas:"
   ]
  },
  {
   "cell_type": "code",
   "execution_count": 59,
   "metadata": {},
   "outputs": [
    {
     "name": "stdout",
     "output_type": "stream",
     "text": [
      "['no' 'yes']\n"
     ]
    }
   ],
   "source": [
    "# as before, this pulls out one column \n",
    "targets = exampleData['label']\n",
    "# the numpy unique() method gives us a list with just the unique values; in this case, it should \n",
    "# show that there are only 2 class labels present\n",
    "classLabels = np.unique(targets)\n",
    "print(classLabels)\n",
    "\n",
    "# note that we could also have done this in one line:\n",
    "#print(np.unique(exampleData['labels']))"
   ]
  },
  {
   "cell_type": "code",
   "execution_count": 60,
   "metadata": {},
   "outputs": [
    {
     "data": {
      "text/plain": [
       "0     True\n",
       "1    False\n",
       "2    False\n",
       "3     True\n",
       "4     True\n",
       "5    False\n",
       "6     True\n",
       "7     True\n",
       "Name: label, dtype: bool"
      ]
     },
     "execution_count": 60,
     "metadata": {},
     "output_type": "execute_result"
    }
   ],
   "source": [
    "# we can also pull out rows of the table in various ways, like a database Select query.  \n",
    "# For example, we can figure out which rows have a particular value for a given column:\n",
    "exampleData['label'] == 'yes'  # find just the examples where the 'label' column has the value 'yes'"
   ]
  },
  {
   "cell_type": "code",
   "execution_count": 61,
   "metadata": {},
   "outputs": [
    {
     "data": {
      "text/html": [
       "<div>\n",
       "<style scoped>\n",
       "    .dataframe tbody tr th:only-of-type {\n",
       "        vertical-align: middle;\n",
       "    }\n",
       "\n",
       "    .dataframe tbody tr th {\n",
       "        vertical-align: top;\n",
       "    }\n",
       "\n",
       "    .dataframe thead th {\n",
       "        text-align: right;\n",
       "    }\n",
       "</style>\n",
       "<table border=\"1\" class=\"dataframe\">\n",
       "  <thead>\n",
       "    <tr style=\"text-align: right;\">\n",
       "      <th></th>\n",
       "      <th>label</th>\n",
       "      <th>height</th>\n",
       "      <th>width</th>\n",
       "      <th>mass</th>\n",
       "      <th>color</th>\n",
       "      <th>shape</th>\n",
       "    </tr>\n",
       "  </thead>\n",
       "  <tbody>\n",
       "    <tr>\n",
       "      <th>0</th>\n",
       "      <td>yes</td>\n",
       "      <td>1</td>\n",
       "      <td>3</td>\n",
       "      <td>2</td>\n",
       "      <td>blue</td>\n",
       "      <td>square</td>\n",
       "    </tr>\n",
       "    <tr>\n",
       "      <th>3</th>\n",
       "      <td>yes</td>\n",
       "      <td>2</td>\n",
       "      <td>3</td>\n",
       "      <td>4</td>\n",
       "      <td>blue</td>\n",
       "      <td>triange</td>\n",
       "    </tr>\n",
       "    <tr>\n",
       "      <th>4</th>\n",
       "      <td>yes</td>\n",
       "      <td>1</td>\n",
       "      <td>2</td>\n",
       "      <td>1</td>\n",
       "      <td>green</td>\n",
       "      <td>triangle</td>\n",
       "    </tr>\n",
       "    <tr>\n",
       "      <th>6</th>\n",
       "      <td>yes</td>\n",
       "      <td>2</td>\n",
       "      <td>3</td>\n",
       "      <td>2</td>\n",
       "      <td>yellow</td>\n",
       "      <td>square</td>\n",
       "    </tr>\n",
       "    <tr>\n",
       "      <th>7</th>\n",
       "      <td>yes</td>\n",
       "      <td>1</td>\n",
       "      <td>4</td>\n",
       "      <td>4</td>\n",
       "      <td>yellow</td>\n",
       "      <td>triangle</td>\n",
       "    </tr>\n",
       "  </tbody>\n",
       "</table>\n",
       "</div>"
      ],
      "text/plain": [
       "  label  height  width  mass   color     shape\n",
       "0   yes       1      3     2    blue    square\n",
       "3   yes       2      3     4    blue   triange\n",
       "4   yes       1      2     1   green  triangle\n",
       "6   yes       2      3     2  yellow    square\n",
       "7   yes       1      4     4  yellow  triangle"
      ]
     },
     "execution_count": 61,
     "metadata": {},
     "output_type": "execute_result"
    }
   ],
   "source": [
    "# and we can then use that set of true/false values to pull out particular rows (like a Select query).\n",
    "# if we hand a list of True/False values to the indexing operator, it will return a dataframe containing\n",
    "# just the rows that were associated with True values:\n",
    "indices = exampleData['label'] == 'yes'\n",
    "exampleData[indices]\n",
    "# note that the row index values in the resulting table are the original ones, meaning they no longer \n",
    "# go from 0-N, since they skip over the rows that didn't match our test condition"
   ]
  },
  {
   "cell_type": "code",
   "execution_count": 62,
   "metadata": {},
   "outputs": [
    {
     "data": {
      "text/html": [
       "<div>\n",
       "<style scoped>\n",
       "    .dataframe tbody tr th:only-of-type {\n",
       "        vertical-align: middle;\n",
       "    }\n",
       "\n",
       "    .dataframe tbody tr th {\n",
       "        vertical-align: top;\n",
       "    }\n",
       "\n",
       "    .dataframe thead th {\n",
       "        text-align: right;\n",
       "    }\n",
       "</style>\n",
       "<table border=\"1\" class=\"dataframe\">\n",
       "  <thead>\n",
       "    <tr style=\"text-align: right;\">\n",
       "      <th></th>\n",
       "      <th>label</th>\n",
       "      <th>height</th>\n",
       "      <th>width</th>\n",
       "      <th>mass</th>\n",
       "      <th>color</th>\n",
       "      <th>shape</th>\n",
       "    </tr>\n",
       "  </thead>\n",
       "  <tbody>\n",
       "    <tr>\n",
       "      <th>0</th>\n",
       "      <td>yes</td>\n",
       "      <td>1</td>\n",
       "      <td>3</td>\n",
       "      <td>2</td>\n",
       "      <td>blue</td>\n",
       "      <td>square</td>\n",
       "    </tr>\n",
       "    <tr>\n",
       "      <th>3</th>\n",
       "      <td>yes</td>\n",
       "      <td>2</td>\n",
       "      <td>3</td>\n",
       "      <td>4</td>\n",
       "      <td>blue</td>\n",
       "      <td>triange</td>\n",
       "    </tr>\n",
       "    <tr>\n",
       "      <th>4</th>\n",
       "      <td>yes</td>\n",
       "      <td>1</td>\n",
       "      <td>2</td>\n",
       "      <td>1</td>\n",
       "      <td>green</td>\n",
       "      <td>triangle</td>\n",
       "    </tr>\n",
       "    <tr>\n",
       "      <th>6</th>\n",
       "      <td>yes</td>\n",
       "      <td>2</td>\n",
       "      <td>3</td>\n",
       "      <td>2</td>\n",
       "      <td>yellow</td>\n",
       "      <td>square</td>\n",
       "    </tr>\n",
       "    <tr>\n",
       "      <th>7</th>\n",
       "      <td>yes</td>\n",
       "      <td>1</td>\n",
       "      <td>4</td>\n",
       "      <td>4</td>\n",
       "      <td>yellow</td>\n",
       "      <td>triangle</td>\n",
       "    </tr>\n",
       "  </tbody>\n",
       "</table>\n",
       "</div>"
      ],
      "text/plain": [
       "  label  height  width  mass   color     shape\n",
       "0   yes       1      3     2    blue    square\n",
       "3   yes       2      3     4    blue   triange\n",
       "4   yes       1      2     1   green  triangle\n",
       "6   yes       2      3     2  yellow    square\n",
       "7   yes       1      4     4  yellow  triangle"
      ]
     },
     "execution_count": 62,
     "metadata": {},
     "output_type": "execute_result"
    }
   ],
   "source": [
    "# note that you can also do the same thing in a single line (i.e. without the intermediate variable) like so:\n",
    "exampleData[exampleData['label'] == 'yes']\n",
    "# this syntax may look a little odd, but it's a very useful type of operation"
   ]
  },
  {
   "cell_type": "code",
   "execution_count": 63,
   "metadata": {},
   "outputs": [
    {
     "data": {
      "text/plain": [
       "5"
      ]
     },
     "execution_count": 63,
     "metadata": {},
     "output_type": "execute_result"
    }
   ],
   "source": [
    "# it's also straightforward to count how many rows match a given query: \n",
    "len(exampleData[exampleData['label'] == 'yes'])"
   ]
  },
  {
   "cell_type": "code",
   "execution_count": 64,
   "metadata": {},
   "outputs": [
    {
     "name": "stdout",
     "output_type": "stream",
     "text": [
      "fraction of examples with label='yes': 0.625\n"
     ]
    }
   ],
   "source": [
    "# by comparing with the overall count, we can see what fraction had that value:\n",
    "yesRatio = len(exampleData[exampleData['label'] == 'yes']) / len(exampleData)\n",
    "print(\"fraction of examples with label='yes':\", yesRatio)"
   ]
  },
  {
   "cell_type": "code",
   "execution_count": 65,
   "metadata": {},
   "outputs": [
    {
     "name": "stdout",
     "output_type": "stream",
     "text": [
      "Fraction of 'yes' examples that were colored blue: 0.40\n"
     ]
    }
   ],
   "source": [
    "# this lets us easily compute various ratios, e.g. to calculate the fraction of 'yes' examples that had value 'blue' for color:\n",
    "yeses = exampleData[exampleData['label'] == 'yes']\n",
    "blueYeses = yeses[yeses['color'] == 'blue']\n",
    "ratio = len(blueYeses) / len(yeses)\n",
    "print(\"Fraction of 'yes' examples that were colored blue: %.2f\" % ratio)"
   ]
  },
  {
   "cell_type": "code",
   "execution_count": 66,
   "metadata": {
    "tags": []
   },
   "outputs": [
    {
     "name": "stdout",
     "output_type": "stream",
     "text": [
      "Fraction of yes examples with value 1 for feature height : 0.60\n",
      "Fraction of yes examples with value 2 for feature height : 0.40\n",
      "Fraction of yes examples with value 5 for feature height : 0.00\n",
      "Fraction of yes examples with value 3 for feature width : 0.60\n",
      "Fraction of yes examples with value 4 for feature width : 0.20\n",
      "Fraction of yes examples with value 1 for feature width : 0.00\n",
      "Fraction of yes examples with value 2 for feature width : 0.20\n",
      "Fraction of yes examples with value 2 for feature mass : 0.40\n",
      "Fraction of yes examples with value 1 for feature mass : 0.20\n",
      "Fraction of yes examples with value 4 for feature mass : 0.40\n",
      "Fraction of yes examples with value blue for feature color : 0.40\n",
      "Fraction of yes examples with value green for feature color : 0.20\n",
      "Fraction of yes examples with value yellow for feature color : 0.40\n",
      "Fraction of yes examples with value square for feature shape : 0.40\n",
      "Fraction of yes examples with value triange for feature shape : 0.20\n",
      "Fraction of yes examples with value triangle for feature shape : 0.40\n",
      "Fraction of no examples with value 1 for feature height : 0.00\n",
      "Fraction of no examples with value 2 for feature height : 0.67\n",
      "Fraction of no examples with value 5 for feature height : 0.33\n",
      "Fraction of no examples with value 3 for feature width : 0.33\n",
      "Fraction of no examples with value 4 for feature width : 0.33\n",
      "Fraction of no examples with value 1 for feature width : 0.33\n",
      "Fraction of no examples with value 2 for feature width : 0.00\n",
      "Fraction of no examples with value 2 for feature mass : 0.00\n",
      "Fraction of no examples with value 1 for feature mass : 1.00\n",
      "Fraction of no examples with value 4 for feature mass : 0.00\n",
      "Fraction of no examples with value blue for feature color : 0.33\n",
      "Fraction of no examples with value green for feature color : 0.33\n",
      "Fraction of no examples with value yellow for feature color : 0.33\n",
      "Fraction of no examples with value square for feature shape : 1.00\n",
      "Fraction of no examples with value triange for feature shape : 0.00\n",
      "Fraction of no examples with value triangle for feature shape : 0.00\n"
     ]
    }
   ],
   "source": [
    "# we can use loops to do this in a nicer fashion:\n",
    "for classLabel in exampleData['label'].unique(): # find all the unique values in the first column\n",
    "    for feature in exampleData.columns[1:]: # note that we skip the first one, since that's the label (not a feature)\n",
    "        labeledExamples = exampleData[exampleData['label'] == classLabel] # select the rows of the given party\n",
    "        for value in exampleData[feature].unique(): # loop over available values for this particular feature\n",
    "            selectedExamples = labeledExamples[labeledExamples[feature] == value] # select the rows with a particular vote/value pair\n",
    "            ratio = len(selectedExamples) / len(labeledExamples)\n",
    "            print(\"Fraction of\", classLabel, \"examples with value\", value, \"for feature\", feature, \": %.2f\" % ratio)"
   ]
  },
  {
   "cell_type": "code",
   "execution_count": null,
   "metadata": {
    "tags": []
   },
   "outputs": [],
   "source": [
    "# feel free to add more cells here to \"play\" with the data and Pandas; they won't be evaluated when we grade your work"
   ]
  },
  {
   "cell_type": "markdown",
   "metadata": {},
   "source": [
    "# Part 7: MatplotLib\n",
    "\n",
    "[Matplotlib](http://matplotlib.org/) is a plotting library. In this section give a brief introduction to the `matplotlib.pyplot` module, which provides a plotting system similar to that of MATLAB.\n",
    "\n",
    "With Jupyter, these images will be displayed right under the cell that generates them, though you can also save them as image files for external use.\n",
    "\n",
    "## Plotting\n",
    "\n",
    "The most important function in matplotlib is `plot`, which allows you to plot 2D data. Here is a simple example"
   ]
  },
  {
   "cell_type": "code",
   "execution_count": 68,
   "metadata": {},
   "outputs": [
    {
     "name": "stdout",
     "output_type": "stream",
     "text": [
      "x is:  [0.  0.1 0.2 0.3 0.4 0.5 0.6 0.7 0.8 0.9 1.  1.1 1.2 1.3 1.4 1.5 1.6 1.7\n",
      " 1.8 1.9 2.  2.1 2.2 2.3 2.4 2.5 2.6 2.7 2.8 2.9 3.  3.1 3.2 3.3 3.4 3.5\n",
      " 3.6 3.7 3.8 3.9 4.  4.1 4.2 4.3 4.4 4.5 4.6 4.7 4.8 4.9 5.  5.1 5.2 5.3\n",
      " 5.4 5.5 5.6 5.7 5.8 5.9 6.  6.1 6.2 6.3 6.4 6.5 6.6 6.7 6.8 6.9 7.  7.1\n",
      " 7.2 7.3 7.4 7.5 7.6 7.7 7.8 7.9 8.  8.1 8.2 8.3 8.4 8.5 8.6 8.7 8.8 8.9\n",
      " 9.  9.1 9.2 9.3 9.4]\n",
      "y is:  [ 0.          0.09983342  0.19866933  0.29552021  0.38941834  0.47942554\n",
      "  0.56464247  0.64421769  0.71735609  0.78332691  0.84147098  0.89120736\n",
      "  0.93203909  0.96355819  0.98544973  0.99749499  0.9995736   0.99166481\n",
      "  0.97384763  0.94630009  0.90929743  0.86320937  0.8084964   0.74570521\n",
      "  0.67546318  0.59847214  0.51550137  0.42737988  0.33498815  0.23924933\n",
      "  0.14112001  0.04158066 -0.05837414 -0.15774569 -0.2555411  -0.35078323\n",
      " -0.44252044 -0.52983614 -0.61185789 -0.68776616 -0.7568025  -0.81827711\n",
      " -0.87157577 -0.91616594 -0.95160207 -0.97753012 -0.993691   -0.99992326\n",
      " -0.99616461 -0.98245261 -0.95892427 -0.92581468 -0.88345466 -0.83226744\n",
      " -0.77276449 -0.70554033 -0.63126664 -0.55068554 -0.46460218 -0.37387666\n",
      " -0.2794155  -0.1821625  -0.0830894   0.0168139   0.1165492   0.21511999\n",
      "  0.31154136  0.40484992  0.49411335  0.57843976  0.6569866   0.72896904\n",
      "  0.79366786  0.85043662  0.8987081   0.93799998  0.96791967  0.98816823\n",
      "  0.99854335  0.99894134  0.98935825  0.96988981  0.94073056  0.90217183\n",
      "  0.85459891  0.79848711  0.7343971   0.66296923  0.58491719  0.50102086\n",
      "  0.41211849  0.31909836  0.22288991  0.12445442  0.02477543]\n",
      "\n",
      "** Here comes the figure! **\n",
      "\n"
     ]
    },
    {
     "data": {
      "application/vnd.jupyter.widget-view+json": {
       "model_id": "d7e97c0798074f00b85f8caef3df8df4",
       "version_major": 2,
       "version_minor": 0
      },
      "image/png": "[encoded data removed]",
      "text/html": [
       "\n",
       "            <div style=\"display: inline-block;\">\n",
       "                <div class=\"jupyter-widgets widget-label\" style=\"text-align: center;\">\n",
       "                    Figure\n",
       "                </div>\n",
       "                <img src='data:image/png;base64,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' width=640.0/>\n",
       "            </div>\n",
       "        "
      ],
      "text/plain": [
       "Canvas(toolbar=Toolbar(toolitems=[('Home', 'Reset original view', 'home', 'home'), ('Back', 'Back to previous …"
      ]
     },
     "metadata": {},
     "output_type": "display_data"
    }
   ],
   "source": [
    "# import the plotting library\n",
    "import matplotlib.pyplot as plt\n",
    "# this next line asks for interactive plots (as opposed to static images)\n",
    "%matplotlib widget  \n",
    "\n",
    "# Compute the x and y coordinates for points on a sine curve\n",
    "x = np.arange(0, 3 * np.pi, 0.1)\n",
    "y = np.sin(x)\n",
    "\n",
    "print(\"x is: \", x)\n",
    "print(\"y is: \", y)\n",
    "\n",
    "print(\"\\n** Here comes the figure! **\\n\")\n",
    "# Plot the points using matplotlib\n",
    "plt.figure()  # create a new figure\n",
    "plt.plot(x, y)  # plot points on the figure\n",
    "plt.show()  # You must call plt.show() to make graphics appear.\n"
   ]
  },
  {
   "cell_type": "markdown",
   "metadata": {},
   "source": [
    "With just a little bit of extra work we can easily plot multiple lines at once, and add a title, legend, and axis labels:"
   ]
  },
  {
   "cell_type": "code",
   "execution_count": 69,
   "metadata": {},
   "outputs": [
    {
     "data": {
      "application/vnd.jupyter.widget-view+json": {
       "model_id": "6f7df561957643c0bb16182a19dce4d5",
       "version_major": 2,
       "version_minor": 0
      },
      "image/png": "[encoded data removed]",
      "text/html": [
       "\n",
       "            <div style=\"display: inline-block;\">\n",
       "                <div class=\"jupyter-widgets widget-label\" style=\"text-align: center;\">\n",
       "                    Figure\n",
       "                </div>\n",
       "                <img src='data:image/png;base64,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' width=640.0/>\n",
       "            </div>\n",
       "        "
      ],
      "text/plain": [
       "Canvas(toolbar=Toolbar(toolitems=[('Home', 'Reset original view', 'home', 'home'), ('Back', 'Back to previous …"
      ]
     },
     "metadata": {},
     "output_type": "display_data"
    }
   ],
   "source": [
    "# Compute the x and y coordinates for points on sine and cosine curves\n",
    "x = np.arange(0, 3 * np.pi, 0.1)\n",
    "y_sin = np.sin(x)\n",
    "y_cos = np.cos(x)\n",
    "\n",
    "# Plot the points using matplotlib\n",
    "plt.figure()\n",
    "plt.plot(x, y_sin)\n",
    "plt.plot(x, y_cos)\n",
    "plt.xlabel('x axis label')\n",
    "plt.ylabel('y axis label')\n",
    "plt.title('Sine and Cosine')\n",
    "plt.legend(['Sine', 'Cosine'])\n",
    "plt.show()"
   ]
  },
  {
   "cell_type": "markdown",
   "metadata": {},
   "source": [
    "Read more about `plot` and related graphing tools [here](http://matplotlib.org/api/pyplot_api.html#matplotlib.pyplot.plot); they will be indispensible for your labs and project.  In particular, you'll want to read about [`subplot`](https://matplotlib.org/api/pyplot_api.html#matplotlib.pyplot.subplot) to place multiple plots into one figure like so:"
   ]
  },
  {
   "cell_type": "code",
   "execution_count": 70,
   "metadata": {},
   "outputs": [
    {
     "data": {
      "application/vnd.jupyter.widget-view+json": {
       "model_id": "229c15f32d604892b0c64defc53ac6a2",
       "version_major": 2,
       "version_minor": 0
      },
      "image/png": "[encoded data removed]",
      "text/html": [
       "\n",
       "            <div style=\"display: inline-block;\">\n",
       "                <div class=\"jupyter-widgets widget-label\" style=\"text-align: center;\">\n",
       "                    Figure\n",
       "                </div>\n",
       "                <img src='data:image/png;base64,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' width=640.0/>\n",
       "            </div>\n",
       "        "
      ],
      "text/plain": [
       "Canvas(toolbar=Toolbar(toolitems=[('Home', 'Reset original view', 'home', 'home'), ('Back', 'Back to previous …"
      ]
     },
     "metadata": {},
     "output_type": "display_data"
    }
   ],
   "source": [
    "# Compute the x and y coordinates for points on sine and cosine curves\n",
    "x = np.arange(0, 3 * np.pi, 0.1)\n",
    "y_sin = np.sin(x)\n",
    "y_cos = np.cos(x)\n",
    "\n",
    "# Set up a subplot grid that has height 2 and width 1,\n",
    "# and set the first such subplot as active.\n",
    "plt.figure()\n",
    "plt.subplot(2, 1, 1)\n",
    "\n",
    "# Make the first plot\n",
    "plt.plot(x, y_sin)\n",
    "plt.title('Sine')\n",
    "\n",
    "# Set the second subplot as active, and make the second plot.\n",
    "plt.subplot(2, 1, 2)\n",
    "plt.plot(x, y_cos)\n",
    "plt.title('Cosine')\n",
    "\n",
    "# Show the figure.\n",
    "plt.show()"
   ]
  },
  {
   "cell_type": "markdown",
   "metadata": {},
   "source": [
    "# Deliverable\n",
    "\n",
    "Complete the indicated parts of the scaffolding (particularly **part 4**). Use **git** to commit and push your work when complete.  Note that this lab will not be graded in a detailed fashion; the primary purpose of having you submit it is to make sure you're familiar with the submission workflow, it will be graded check-minus/check/check-plus (basically, did you do anything, and did you follow the directions correctly)."
   ]
  },
  {
   "cell_type": "code",
   "execution_count": null,
   "metadata": {},
   "outputs": [],
   "source": []
  }
 ],
 "metadata": {
  "kernelspec": {
   "display_name": "Python 3 (ipykernel)",
   "language": "python",
   "name": "python3"
  },
  "language_info": {
   "codemirror_mode": {
    "name": "ipython",
    "version": 3
   },
   "file_extension": ".py",
   "mimetype": "text/x-python",
   "name": "python",
   "nbconvert_exporter": "python",
   "pygments_lexer": "ipython3",
   "version": "3.10.12"
  }
 },
 "nbformat": 4,
 "nbformat_minor": 4
}
